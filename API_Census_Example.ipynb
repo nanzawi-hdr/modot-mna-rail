{
 "cells": [
  {
   "cell_type": "markdown",
   "id": "32ddea47-7c62-45a9-b657-4dd6c76a931f",
   "metadata": {
    "tags": []
   },
   "source": [
    "[Census API Datasets]('https://api.census.gov/data.html')\n",
    "* ACS/Tiger Mapping files: https://www2.census.gov/geo/tiger/TIGER_DP/\n",
    "* 2022 Relationship Files: https://www2.census.gov/geo/tiger/TIGER2022/"
   ]
  },
  {
   "cell_type": "code",
   "execution_count": 1,
   "id": "34d9a8b8-51cc-4f90-a238-e00498efa443",
   "metadata": {
    "tags": []
   },
   "outputs": [
    {
     "name": "stderr",
     "output_type": "stream",
     "text": [
      "C:\\Users\\nanzawi\\AppData\\Local\\anaconda3\\Lib\\site-packages\\janitor\\utils.py:84: FutureWarning: PandasArray has been renamed NumpyExtensionArray. Use that instead. This alias will be removed in a future version.\n",
      "  @_expand_grid.register(pd.arrays.PandasArray)\n"
     ]
    }
   ],
   "source": [
    "import pandas \n",
    "import json\n",
    "import requests\n",
    "import numpy\n",
    "import os\n",
    "import sys\n",
    "import geopandas\n",
    "import janitor\n",
    "from path import Path"
   ]
  },
  {
   "cell_type": "code",
   "execution_count": 2,
   "id": "64ea4301-2abe-48b2-9cb5-dcfbc215dc23",
   "metadata": {
    "tags": []
   },
   "outputs": [],
   "source": [
    "# path configuration\n",
    "working_directory = Path.getcwd()\n",
    "\n",
    "inputs_path = working_directory / 'inputs'\n",
    "outputs_path = working_directory / 'outputs'"
   ]
  },
  {
   "cell_type": "code",
   "execution_count": 3,
   "id": "3562bd02-37f6-4667-ade6-d36c77cb6906",
   "metadata": {
    "tags": []
   },
   "outputs": [],
   "source": [
    "# export function\n",
    "def to_file(callback, desired_name, extension='csv'):\n",
    "    current_files = sorted(outputs_path.files(desired_name + '*.' + extension))\n",
    "    if current_files:\n",
    "        last_file = current_files[-1]\n",
    "        os.remove(last_file)\n",
    "    final_name = '{}.{}'.format(desired_name, extension)\n",
    "    callback(outputs_path / final_name)"
   ]
  },
  {
   "cell_type": "code",
   "execution_count": 4,
   "id": "37a2a426-a134-4cdd-9e97-c9117764cd5e",
   "metadata": {
    "tags": []
   },
   "outputs": [],
   "source": [
    "def _geo_merge(frame,geo_frames_dictionary,geo):\n",
    "    if isinstance(frame.columns, pandas.core.index.MultiIndex):\n",
    "        frame.columns = [\n",
    "            '-'.join(x)\n",
    "            for x in frame.columns.values\n",
    "        ]\n",
    "    current_geo = geo_frames_dictionary[geo]\n",
    "    with_geo = current_geo.merge(frame, left_index=True,right_index=True).drop('',errors='ignore')\n",
    "    return with_geo"
   ]
  },
  {
   "cell_type": "code",
   "execution_count": 5,
   "id": "7921abd6-ee46-418f-bd83-bd11c0f1a9d9",
   "metadata": {
    "tags": []
   },
   "outputs": [],
   "source": [
    "# capture geoid codes from url\n",
    "geoid_codes = 'https://transition.fcc.gov/oet/info/maps/census/fips/fips.txt'\n",
    "\n",
    "# read in url and retain fips codes and names, set as string objects and index\n",
    "state_fips = pandas.read_fwf(geoid_codes,skiprows=16,nrows=53,names=['FIPS Code','Name'],dtype={'FIPS Code': 'str'})\n",
    "county_fips = pandas.read_fwf(geoid_codes,skiprows=73,names=['FIPS Code','Name'],dtype={'FIPS Code': 'str'})\n",
    "\n",
    "# Define a function to apply str.title()\n",
    "def title_col(df, column_name):\n",
    "    df[column_name] = df[column_name].str.title()\n",
    "\n",
    "# apply function and rename with appropriate geos\n",
    "title_col(state_fips, 'Name')\n",
    "title_col(county_fips, 'Name')\n",
    "\n",
    "# rename column fips codes to appropriate geos\n",
    "\n",
    "state_fips.rename(columns={'FIPS Code':'state'},inplace=True)\n",
    "county_fips.rename(columns={'FIPS Code':'county'},inplace=True)"
   ]
  },
  {
   "cell_type": "code",
   "execution_count": 6,
   "id": "45d6cae3-339a-457e-9851-956cc952c2f0",
   "metadata": {
    "tags": []
   },
   "outputs": [],
   "source": [
    "# make dictionaries\n",
    "state_dict = state_fips.set_index('state')['Name'].to_dict()\n",
    "county_dict = county_fips.set_index('county')['Name'].to_dict()"
   ]
  },
  {
   "cell_type": "markdown",
   "id": "5c74da1b-2746-47eb-a150-507cfc16eef8",
   "metadata": {
    "tags": []
   },
   "source": [
    "#### Upload Geos -------"
   ]
  },
  {
   "cell_type": "code",
   "execution_count": 7,
   "id": "5233fd9b-b846-435f-af50-ccb91f84d5d2",
   "metadata": {
    "tags": []
   },
   "outputs": [],
   "source": [
    "# set mna crossings\n",
    "mna_crossings_path =  Path(os.path.join(r\"C:\\Users\\nanzawi\\OneDrive - HDR, Inc\\Data_Science\\MODOT_RR\\inputs\\MoDOT_MNA_Crossings.xlsx\"))\n",
    "\n",
    "# grab shape files to merge to - if you want to grab from api\n",
    "mo_blocks_shapefile = geopandas.read_file(\"https://www2.census.gov/geo/tiger/TIGER2022/BG/tl_2022_29_bg.zip\")\n",
    "\n",
    "# or if personal folder, grab and loop through\n",
    "import glob\n",
    "\n",
    "all_features = []\n",
    "\n",
    "for geojson_file in glob.glob(os.path.join(inputs_path, 'Census*.geojson')):\n",
    "    with open(geojson_file, 'r') as file:\n",
    "        geojson_data = json.load(file)\n",
    "        if 'features' in geojson_data:\n",
    "            all_features.extend(geojson_data['features'])\n",
    "            \n",
    "merged_geojson = {\n",
    "    'type': 'FeatureCollection',\n",
    "    'features': all_features\n",
    "}\n",
    "\n",
    "output_file = 'merged.geojson'\n",
    "with open(output_file, 'w') as outfile:\n",
    "    json.dump(merged_geojson, outfile)"
   ]
  },
  {
   "cell_type": "code",
   "execution_count": 9,
   "id": "7e818f27-c624-4adf-9697-ef8b96bd19a7",
   "metadata": {
    "tags": []
   },
   "outputs": [],
   "source": [
    "# read_file \n",
    "merged_blocks = geopandas.read_file('merged.geojson').clean_names()"
   ]
  },
  {
   "cell_type": "markdown",
   "id": "30404b09-f064-48de-ba3d-23ff3d8a064b",
   "metadata": {},
   "source": [
    "### Example API"
   ]
  },
  {
   "cell_type": "code",
   "execution_count": 12,
   "id": "1095b1ed-414c-4e49-bdbf-43c46243abeb",
   "metadata": {
    "tags": []
   },
   "outputs": [],
   "source": [
    "base_url = \"https://api.census.gov/data\"\n",
    "dataset = \"acs/acs5\"\n",
    "year = \"2021\"\n",
    "variables = \"B01001_001E\"  # Population variable\n",
    "state = \"29\"  # MO FIPS code  \n",
    "counties = [\"037\",\"013\",\"217\",\"097\",\"145\",\"011\"] # county FIPS codes for Jasper, Bates, Cass, Barton, Vernon\n",
    "block_group = \"*\"  # All tracts within the county\n",
    "api_key = \"84c7d937e5b6038afeb17bd5615eceef179ff9a3\""
   ]
  },
  {
   "cell_type": "code",
   "execution_count": 13,
   "id": "96e7eae7-f8b4-45e2-af76-e2f1c32ba2b5",
   "metadata": {
    "tags": []
   },
   "outputs": [
    {
     "name": "stdout",
     "output_type": "stream",
     "text": [
      "Data fetched for county 037\n",
      "Data fetched for county 013\n",
      "Data fetched for county 217\n",
      "Data fetched for county 097\n",
      "Data fetched for county 145\n",
      "Data fetched for county 011\n"
     ]
    }
   ],
   "source": [
    "data_per_county = {}\n",
    "\n",
    "for county in counties:\n",
    "    endpoint = f\"{base_url}/{year}/{dataset}?get={variables}&for=block%20group:{block_group}&in=state:{state}&in=county:{county}&key={api_key}\"\n",
    "\n",
    "    response = requests.get(endpoint)\n",
    "    if response.status_code == 200:\n",
    "        data = response.json()\n",
    "        data_per_county[county] = data\n",
    "        # Process or handle data for each county here\n",
    "        print(f\"Data fetched for county {county}\")\n",
    "    else:\n",
    "        print(f\"Error fetching data for county {county}. Status code: {response.status_code}\")\n",
    "\n",
    "# You can process or aggregate data for each county within this loop."
   ]
  },
  {
   "cell_type": "code",
   "execution_count": 14,
   "id": "d9117b43-ff5d-48a3-8d76-1b8d0aed3b08",
   "metadata": {
    "tags": []
   },
   "outputs": [
    {
     "data": {
      "text/html": [
       "<div>\n",
       "<style scoped>\n",
       "    .dataframe tbody tr th:only-of-type {\n",
       "        vertical-align: middle;\n",
       "    }\n",
       "\n",
       "    .dataframe tbody tr th {\n",
       "        vertical-align: top;\n",
       "    }\n",
       "\n",
       "    .dataframe thead th {\n",
       "        text-align: right;\n",
       "    }\n",
       "</style>\n",
       "<table border=\"1\" class=\"dataframe\">\n",
       "  <thead>\n",
       "    <tr style=\"text-align: right;\">\n",
       "      <th></th>\n",
       "      <th></th>\n",
       "      <th>B01001_001E</th>\n",
       "      <th>state</th>\n",
       "      <th>county</th>\n",
       "      <th>tract</th>\n",
       "      <th>block group</th>\n",
       "    </tr>\n",
       "  </thead>\n",
       "  <tbody>\n",
       "    <tr>\n",
       "      <th rowspan=\"5\" valign=\"top\">037</th>\n",
       "      <th>0</th>\n",
       "      <td>1049</td>\n",
       "      <td>29</td>\n",
       "      <td>037</td>\n",
       "      <td>060001</td>\n",
       "      <td>1</td>\n",
       "    </tr>\n",
       "    <tr>\n",
       "      <th>1</th>\n",
       "      <td>1258</td>\n",
       "      <td>29</td>\n",
       "      <td>037</td>\n",
       "      <td>060001</td>\n",
       "      <td>2</td>\n",
       "    </tr>\n",
       "    <tr>\n",
       "      <th>2</th>\n",
       "      <td>2217</td>\n",
       "      <td>29</td>\n",
       "      <td>037</td>\n",
       "      <td>060001</td>\n",
       "      <td>3</td>\n",
       "    </tr>\n",
       "    <tr>\n",
       "      <th>3</th>\n",
       "      <td>772</td>\n",
       "      <td>29</td>\n",
       "      <td>037</td>\n",
       "      <td>060003</td>\n",
       "      <td>1</td>\n",
       "    </tr>\n",
       "    <tr>\n",
       "      <th>4</th>\n",
       "      <td>874</td>\n",
       "      <td>29</td>\n",
       "      <td>037</td>\n",
       "      <td>060003</td>\n",
       "      <td>2</td>\n",
       "    </tr>\n",
       "  </tbody>\n",
       "</table>\n",
       "</div>"
      ],
      "text/plain": [
       "      B01001_001E state county   tract block group\n",
       "037 0        1049    29    037  060001           1\n",
       "    1        1258    29    037  060001           2\n",
       "    2        2217    29    037  060001           3\n",
       "    3         772    29    037  060003           1\n",
       "    4         874    29    037  060003           2"
      ]
     },
     "metadata": {},
     "output_type": "display_data"
    },
    {
     "data": {
      "text/plain": [
       "(273, 5)"
      ]
     },
     "metadata": {},
     "output_type": "display_data"
    }
   ],
   "source": [
    "# Convert the fetched data into pandas DataFrames for each county, skipping the first row\n",
    "dataframes = {county: pandas.DataFrame(data[1:], columns=data[0]) for county, data in data_per_county.items()}\n",
    "\n",
    "# Concatenate DataFrames\n",
    "merged_dataframe = pandas.concat(dataframes.values(), keys=dataframes.keys())\n",
    "\n",
    "display(\n",
    "     merged_dataframe.head(),\n",
    "     merged_dataframe.shape\n",
    ")"
   ]
  },
  {
   "cell_type": "code",
   "execution_count": 15,
   "id": "693c126c-e6a4-4990-ade3-a40527685877",
   "metadata": {
    "tags": []
   },
   "outputs": [],
   "source": [
    "# create block group from fips codes to geoid\n",
    "slim_df = merged_dataframe.copy()\n",
    "\n",
    "slim_df['geoid'] = slim_df['state'] + slim_df['county'] + slim_df['tract'] + slim_df['block group']"
   ]
  },
  {
   "cell_type": "code",
   "execution_count": 16,
   "id": "84737851-acb2-42be-afb8-3d35f9507b97",
   "metadata": {
    "tags": []
   },
   "outputs": [],
   "source": [
    "# make geograpihes a string\n",
    "slim_df[['state','county','tract']] = slim_df[['state','county','tract']].astype('str')"
   ]
  },
  {
   "cell_type": "code",
   "execution_count": 17,
   "id": "3a8f43ca-fd87-4c85-900a-0ac510502d3b",
   "metadata": {
    "tags": []
   },
   "outputs": [],
   "source": [
    "# add prefix to county name\n",
    "slim_df['county'] = slim_df['state'] + slim_df['county']\n",
    "\n",
    "# append  dictionary\n",
    "slim_df = slim_df.replace({'county':county_dict,\n",
    "                 'state':state_dict})\n",
    "\n",
    "# change table name\n",
    "slim_df.rename(columns={'B01001_001E':'total_population'},inplace= True)"
   ]
  },
  {
   "cell_type": "code",
   "execution_count": 18,
   "id": "55bdfeb7-b1dc-4245-90fc-b8ff995ceaf1",
   "metadata": {
    "tags": []
   },
   "outputs": [
    {
     "data": {
      "text/html": [
       "<div>\n",
       "<style scoped>\n",
       "    .dataframe tbody tr th:only-of-type {\n",
       "        vertical-align: middle;\n",
       "    }\n",
       "\n",
       "    .dataframe tbody tr th {\n",
       "        vertical-align: top;\n",
       "    }\n",
       "\n",
       "    .dataframe thead th {\n",
       "        text-align: right;\n",
       "    }\n",
       "</style>\n",
       "<table border=\"1\" class=\"dataframe\">\n",
       "  <thead>\n",
       "    <tr style=\"text-align: right;\">\n",
       "      <th></th>\n",
       "      <th></th>\n",
       "      <th>total_population</th>\n",
       "      <th>state</th>\n",
       "      <th>county</th>\n",
       "      <th>tract</th>\n",
       "      <th>block group</th>\n",
       "      <th>geoid</th>\n",
       "    </tr>\n",
       "  </thead>\n",
       "  <tbody>\n",
       "    <tr>\n",
       "      <th rowspan=\"5\" valign=\"top\">037</th>\n",
       "      <th>0</th>\n",
       "      <td>1049</td>\n",
       "      <td>Missouri</td>\n",
       "      <td>Cass County</td>\n",
       "      <td>060001</td>\n",
       "      <td>1</td>\n",
       "      <td>290370600011</td>\n",
       "    </tr>\n",
       "    <tr>\n",
       "      <th>1</th>\n",
       "      <td>1258</td>\n",
       "      <td>Missouri</td>\n",
       "      <td>Cass County</td>\n",
       "      <td>060001</td>\n",
       "      <td>2</td>\n",
       "      <td>290370600012</td>\n",
       "    </tr>\n",
       "    <tr>\n",
       "      <th>2</th>\n",
       "      <td>2217</td>\n",
       "      <td>Missouri</td>\n",
       "      <td>Cass County</td>\n",
       "      <td>060001</td>\n",
       "      <td>3</td>\n",
       "      <td>290370600013</td>\n",
       "    </tr>\n",
       "    <tr>\n",
       "      <th>3</th>\n",
       "      <td>772</td>\n",
       "      <td>Missouri</td>\n",
       "      <td>Cass County</td>\n",
       "      <td>060003</td>\n",
       "      <td>1</td>\n",
       "      <td>290370600031</td>\n",
       "    </tr>\n",
       "    <tr>\n",
       "      <th>4</th>\n",
       "      <td>874</td>\n",
       "      <td>Missouri</td>\n",
       "      <td>Cass County</td>\n",
       "      <td>060003</td>\n",
       "      <td>2</td>\n",
       "      <td>290370600032</td>\n",
       "    </tr>\n",
       "  </tbody>\n",
       "</table>\n",
       "</div>"
      ],
      "text/plain": [
       "      total_population     state       county   tract block group  \\\n",
       "037 0             1049  Missouri  Cass County  060001           1   \n",
       "    1             1258  Missouri  Cass County  060001           2   \n",
       "    2             2217  Missouri  Cass County  060001           3   \n",
       "    3              772  Missouri  Cass County  060003           1   \n",
       "    4              874  Missouri  Cass County  060003           2   \n",
       "\n",
       "              geoid  \n",
       "037 0  290370600011  \n",
       "    1  290370600012  \n",
       "    2  290370600013  \n",
       "    3  290370600031  \n",
       "    4  290370600032  "
      ]
     },
     "execution_count": 18,
     "metadata": {},
     "output_type": "execute_result"
    }
   ],
   "source": [
    "# view\n",
    "slim_df.head()"
   ]
  },
  {
   "cell_type": "code",
   "execution_count": 41,
   "id": "2daeda1a-1f75-4f39-bc1c-2842b7e052f6",
   "metadata": {
    "tags": []
   },
   "outputs": [],
   "source": [
    "# merge slim_df with spatial files on geoid\n",
    "# geo_blockgroups = mo_blocks_shapefile.merge(slim_df, left_on='GEOID',right_on='geoid')"
   ]
  },
  {
   "cell_type": "code",
   "execution_count": 19,
   "id": "a264cb2c-0b1f-46bb-a0f2-14301a33f7c8",
   "metadata": {
    "tags": []
   },
   "outputs": [
    {
     "data": {
      "text/html": [
       "<div>\n",
       "<style scoped>\n",
       "    .dataframe tbody tr th:only-of-type {\n",
       "        vertical-align: middle;\n",
       "    }\n",
       "\n",
       "    .dataframe tbody tr th {\n",
       "        vertical-align: top;\n",
       "    }\n",
       "\n",
       "    .dataframe thead th {\n",
       "        text-align: right;\n",
       "    }\n",
       "</style>\n",
       "<table border=\"1\" class=\"dataframe\">\n",
       "  <thead>\n",
       "    <tr style=\"text-align: right;\">\n",
       "      <th></th>\n",
       "      <th>Zone Name</th>\n",
       "      <th>Zone ID</th>\n",
       "      <th>Address</th>\n",
       "      <th>Latitude</th>\n",
       "      <th>Longitude</th>\n",
       "    </tr>\n",
       "  </thead>\n",
       "  <tbody>\n",
       "    <tr>\n",
       "      <th>0</th>\n",
       "      <td>Crossing 442989T</td>\n",
       "      <td>442989T</td>\n",
       "      <td>Mo 58 / 1St Street</td>\n",
       "      <td>38.782148</td>\n",
       "      <td>-94.271483</td>\n",
       "    </tr>\n",
       "    <tr>\n",
       "      <th>1</th>\n",
       "      <td>Crossing 442996D</td>\n",
       "      <td>442996D</td>\n",
       "      <td>E 199Th Street</td>\n",
       "      <td>38.755379</td>\n",
       "      <td>-94.308374</td>\n",
       "    </tr>\n",
       "    <tr>\n",
       "      <th>2</th>\n",
       "      <td>Crossing 442998S</td>\n",
       "      <td>442998S</td>\n",
       "      <td>Mo-Rt-P</td>\n",
       "      <td>38.734570</td>\n",
       "      <td>-94.322922</td>\n",
       "    </tr>\n",
       "    <tr>\n",
       "      <th>3</th>\n",
       "      <td>Crossing 443002M</td>\n",
       "      <td>443002M</td>\n",
       "      <td>S Ore Road</td>\n",
       "      <td>38.730762</td>\n",
       "      <td>-94.330520</td>\n",
       "    </tr>\n",
       "    <tr>\n",
       "      <th>4</th>\n",
       "      <td>Crossing 443003U</td>\n",
       "      <td>443003U</td>\n",
       "      <td>E 215Th Street</td>\n",
       "      <td>38.727629</td>\n",
       "      <td>-94.334531</td>\n",
       "    </tr>\n",
       "  </tbody>\n",
       "</table>\n",
       "</div>"
      ],
      "text/plain": [
       "          Zone Name  Zone ID             Address   Latitude  Longitude\n",
       "0  Crossing 442989T  442989T  Mo 58 / 1St Street  38.782148 -94.271483\n",
       "1  Crossing 442996D  442996D      E 199Th Street  38.755379 -94.308374\n",
       "2  Crossing 442998S  442998S             Mo-Rt-P  38.734570 -94.322922\n",
       "3  Crossing 443002M  443002M          S Ore Road  38.730762 -94.330520\n",
       "4  Crossing 443003U  443003U      E 215Th Street  38.727629 -94.334531"
      ]
     },
     "execution_count": 19,
     "metadata": {},
     "output_type": "execute_result"
    }
   ],
   "source": [
    "# You now make it for those that intersect the MNA - created with one mile buffer around each point\n",
    "mna_crossings = pandas.read_excel(mna_crossings_path)\n",
    "\n",
    "# view\n",
    "mna_crossings.head()"
   ]
  },
  {
   "cell_type": "code",
   "execution_count": 20,
   "id": "0294126c-f8b7-4f6f-a163-39a8ea03a86c",
   "metadata": {
    "tags": []
   },
   "outputs": [],
   "source": [
    "# make mna points spatial\n",
    "crs= '32610'\n",
    "\n",
    "points = geopandas.GeoDataFrame(\n",
    "    mna_crossings, crs=crs, geometry=geopandas.points_from_xy(mna_crossings.Longitude, mna_crossings.Latitude)\n",
    ")"
   ]
  },
  {
   "cell_type": "code",
   "execution_count": 65,
   "id": "6aaf53d7-3580-4c97-9c4d-9ad64eacbec3",
   "metadata": {
    "tags": []
   },
   "outputs": [],
   "source": [
    "merged_blocks = merged_blocks.to_crs(points.crs)"
   ]
  },
  {
   "cell_type": "code",
   "execution_count": 24,
   "id": "0a63687b-80fe-4490-902e-b5f1a4bf81e4",
   "metadata": {
    "tags": []
   },
   "outputs": [],
   "source": [
    "buffer_miles = 1  # Define the buffer distance in miles\n",
    "\n",
    "# Calculate the buffer distance in degrees (approximation: 1 degree ≈ 69 miles)\n",
    "buffer_degrees = buffer_miles / 69.0\n",
    "\n",
    "# Buffer the points in degrees\n",
    "points['geometry'] = points.geometry.buffer(buffer_degrees)"
   ]
  },
  {
   "cell_type": "code",
   "execution_count": 25,
   "id": "51617dda-abe4-4faa-a346-15c8773ba8d0",
   "metadata": {
    "tags": []
   },
   "outputs": [
    {
     "data": {
      "text/html": [
       "<div>\n",
       "<style scoped>\n",
       "    .dataframe tbody tr th:only-of-type {\n",
       "        vertical-align: middle;\n",
       "    }\n",
       "\n",
       "    .dataframe tbody tr th {\n",
       "        vertical-align: top;\n",
       "    }\n",
       "\n",
       "    .dataframe thead th {\n",
       "        text-align: right;\n",
       "    }\n",
       "</style>\n",
       "<table border=\"1\" class=\"dataframe\">\n",
       "  <thead>\n",
       "    <tr style=\"text-align: right;\">\n",
       "      <th></th>\n",
       "      <th>Zone Name</th>\n",
       "      <th>Zone ID</th>\n",
       "      <th>Address</th>\n",
       "      <th>Latitude</th>\n",
       "      <th>Longitude</th>\n",
       "      <th>geometry</th>\n",
       "    </tr>\n",
       "  </thead>\n",
       "  <tbody>\n",
       "    <tr>\n",
       "      <th>0</th>\n",
       "      <td>Crossing 442989T</td>\n",
       "      <td>442989T</td>\n",
       "      <td>Mo 58 / 1St Street</td>\n",
       "      <td>38.782148</td>\n",
       "      <td>-94.271483</td>\n",
       "      <td>POLYGON ((-94.257 38.782, -94.257 38.781, -94....</td>\n",
       "    </tr>\n",
       "    <tr>\n",
       "      <th>1</th>\n",
       "      <td>Crossing 442996D</td>\n",
       "      <td>442996D</td>\n",
       "      <td>E 199Th Street</td>\n",
       "      <td>38.755379</td>\n",
       "      <td>-94.308374</td>\n",
       "      <td>POLYGON ((-94.294 38.755, -94.294 38.754, -94....</td>\n",
       "    </tr>\n",
       "    <tr>\n",
       "      <th>2</th>\n",
       "      <td>Crossing 442998S</td>\n",
       "      <td>442998S</td>\n",
       "      <td>Mo-Rt-P</td>\n",
       "      <td>38.734570</td>\n",
       "      <td>-94.322922</td>\n",
       "      <td>POLYGON ((-94.308 38.735, -94.308 38.733, -94....</td>\n",
       "    </tr>\n",
       "    <tr>\n",
       "      <th>3</th>\n",
       "      <td>Crossing 443002M</td>\n",
       "      <td>443002M</td>\n",
       "      <td>S Ore Road</td>\n",
       "      <td>38.730762</td>\n",
       "      <td>-94.330520</td>\n",
       "      <td>POLYGON ((-94.316 38.731, -94.316 38.729, -94....</td>\n",
       "    </tr>\n",
       "    <tr>\n",
       "      <th>4</th>\n",
       "      <td>Crossing 443003U</td>\n",
       "      <td>443003U</td>\n",
       "      <td>E 215Th Street</td>\n",
       "      <td>38.727629</td>\n",
       "      <td>-94.334531</td>\n",
       "      <td>POLYGON ((-94.320 38.728, -94.320 38.726, -94....</td>\n",
       "    </tr>\n",
       "  </tbody>\n",
       "</table>\n",
       "</div>"
      ],
      "text/plain": [
       "          Zone Name  Zone ID             Address   Latitude  Longitude  \\\n",
       "0  Crossing 442989T  442989T  Mo 58 / 1St Street  38.782148 -94.271483   \n",
       "1  Crossing 442996D  442996D      E 199Th Street  38.755379 -94.308374   \n",
       "2  Crossing 442998S  442998S             Mo-Rt-P  38.734570 -94.322922   \n",
       "3  Crossing 443002M  443002M          S Ore Road  38.730762 -94.330520   \n",
       "4  Crossing 443003U  443003U      E 215Th Street  38.727629 -94.334531   \n",
       "\n",
       "                                            geometry  \n",
       "0  POLYGON ((-94.257 38.782, -94.257 38.781, -94....  \n",
       "1  POLYGON ((-94.294 38.755, -94.294 38.754, -94....  \n",
       "2  POLYGON ((-94.308 38.735, -94.308 38.733, -94....  \n",
       "3  POLYGON ((-94.316 38.731, -94.316 38.729, -94....  \n",
       "4  POLYGON ((-94.320 38.728, -94.320 38.726, -94....  "
      ]
     },
     "metadata": {},
     "output_type": "display_data"
    },
    {
     "data": {
      "text/html": [
       "<div>\n",
       "<style scoped>\n",
       "    .dataframe tbody tr th:only-of-type {\n",
       "        vertical-align: middle;\n",
       "    }\n",
       "\n",
       "    .dataframe tbody tr th {\n",
       "        vertical-align: top;\n",
       "    }\n",
       "\n",
       "    .dataframe thead th {\n",
       "        text-align: right;\n",
       "    }\n",
       "</style>\n",
       "<table border=\"1\" class=\"dataframe\">\n",
       "  <thead>\n",
       "    <tr style=\"text-align: right;\">\n",
       "      <th></th>\n",
       "      <th>label</th>\n",
       "      <th>id</th>\n",
       "      <th>shid</th>\n",
       "      <th>prioritydatasources</th>\n",
       "      <th>total_population_per_square_mile</th>\n",
       "      <th>total_population</th>\n",
       "      <th>area_square_miles_</th>\n",
       "      <th>geometry</th>\n",
       "    </tr>\n",
       "  </thead>\n",
       "  <tbody>\n",
       "    <tr>\n",
       "      <th>0</th>\n",
       "      <td>Block Group 290119601001</td>\n",
       "      <td>publicpolygonfeature:9:735756</td>\n",
       "      <td>country:us/state:mo/block_group:290119601001</td>\n",
       "      <td>[ { \"label\": \"Total Population per square mile...</td>\n",
       "      <td>11.952516</td>\n",
       "      <td>1608</td>\n",
       "      <td>134.53234</td>\n",
       "      <td>MULTIPOLYGON (((-94.24313 37.45519, -94.24315 ...</td>\n",
       "    </tr>\n",
       "    <tr>\n",
       "      <th>1</th>\n",
       "      <td>Block Group 290119601002</td>\n",
       "      <td>publicpolygonfeature:9:735757</td>\n",
       "      <td>country:us/state:mo/block_group:290119601002</td>\n",
       "      <td>[ { \"label\": \"Total Population per square mile...</td>\n",
       "      <td>8.898562</td>\n",
       "      <td>685</td>\n",
       "      <td>76.97873</td>\n",
       "      <td>MULTIPOLYGON (((-94.07873 37.45080, -94.07988 ...</td>\n",
       "    </tr>\n",
       "    <tr>\n",
       "      <th>2</th>\n",
       "      <td>Block Group 290119601003</td>\n",
       "      <td>publicpolygonfeature:9:735758</td>\n",
       "      <td>country:us/state:mo/block_group:290119601003</td>\n",
       "      <td>[ { \"label\": \"Total Population per square mile...</td>\n",
       "      <td>87.081653</td>\n",
       "      <td>705</td>\n",
       "      <td>8.09585</td>\n",
       "      <td>MULTIPOLYGON (((-94.07988 37.40712, -94.08208 ...</td>\n",
       "    </tr>\n",
       "    <tr>\n",
       "      <th>3</th>\n",
       "      <td>Block Group 290119602001</td>\n",
       "      <td>publicpolygonfeature:9:735759</td>\n",
       "      <td>country:us/state:mo/block_group:290119602001</td>\n",
       "      <td>[ { \"label\": \"Total Population per square mile...</td>\n",
       "      <td>8.514358</td>\n",
       "      <td>726</td>\n",
       "      <td>85.26773</td>\n",
       "      <td>MULTIPOLYGON (((-94.30049 37.35450, -94.31126 ...</td>\n",
       "    </tr>\n",
       "    <tr>\n",
       "      <th>4</th>\n",
       "      <td>Block Group 290119602002</td>\n",
       "      <td>publicpolygonfeature:9:735760</td>\n",
       "      <td>country:us/state:mo/block_group:290119602002</td>\n",
       "      <td>[ { \"label\": \"Total Population per square mile...</td>\n",
       "      <td>7.314773</td>\n",
       "      <td>908</td>\n",
       "      <td>124.13235</td>\n",
       "      <td>MULTIPOLYGON (((-94.61705 37.56706, -94.61770 ...</td>\n",
       "    </tr>\n",
       "  </tbody>\n",
       "</table>\n",
       "</div>"
      ],
      "text/plain": [
       "                      label                             id  \\\n",
       "0  Block Group 290119601001  publicpolygonfeature:9:735756   \n",
       "1  Block Group 290119601002  publicpolygonfeature:9:735757   \n",
       "2  Block Group 290119601003  publicpolygonfeature:9:735758   \n",
       "3  Block Group 290119602001  publicpolygonfeature:9:735759   \n",
       "4  Block Group 290119602002  publicpolygonfeature:9:735760   \n",
       "\n",
       "                                           shid  \\\n",
       "0  country:us/state:mo/block_group:290119601001   \n",
       "1  country:us/state:mo/block_group:290119601002   \n",
       "2  country:us/state:mo/block_group:290119601003   \n",
       "3  country:us/state:mo/block_group:290119602001   \n",
       "4  country:us/state:mo/block_group:290119602002   \n",
       "\n",
       "                                 prioritydatasources  \\\n",
       "0  [ { \"label\": \"Total Population per square mile...   \n",
       "1  [ { \"label\": \"Total Population per square mile...   \n",
       "2  [ { \"label\": \"Total Population per square mile...   \n",
       "3  [ { \"label\": \"Total Population per square mile...   \n",
       "4  [ { \"label\": \"Total Population per square mile...   \n",
       "\n",
       "   total_population_per_square_mile  total_population  area_square_miles_  \\\n",
       "0                         11.952516              1608           134.53234   \n",
       "1                          8.898562               685            76.97873   \n",
       "2                         87.081653               705             8.09585   \n",
       "3                          8.514358               726            85.26773   \n",
       "4                          7.314773               908           124.13235   \n",
       "\n",
       "                                            geometry  \n",
       "0  MULTIPOLYGON (((-94.24313 37.45519, -94.24315 ...  \n",
       "1  MULTIPOLYGON (((-94.07873 37.45080, -94.07988 ...  \n",
       "2  MULTIPOLYGON (((-94.07988 37.40712, -94.08208 ...  \n",
       "3  MULTIPOLYGON (((-94.30049 37.35450, -94.31126 ...  \n",
       "4  MULTIPOLYGON (((-94.61705 37.56706, -94.61770 ...  "
      ]
     },
     "metadata": {},
     "output_type": "display_data"
    }
   ],
   "source": [
    "# view these dataframes\n",
    "display(\n",
    "     points.head(),\n",
    "     merged_blocks.head()\n",
    ")"
   ]
  },
  {
   "cell_type": "code",
   "execution_count": 26,
   "id": "c65882dd-a787-4a90-9fe5-443ab44e670e",
   "metadata": {
    "tags": []
   },
   "outputs": [
    {
     "data": {
      "image/png": "[encoded data removed]",
      "text/plain": [
       "<Figure size 640x480 with 1 Axes>"
      ]
     },
     "metadata": {},
     "output_type": "display_data"
    }
   ],
   "source": [
    "# view\n",
    "\n",
    "base = merged_blocks.plot(color='white', edgecolor='black')\n",
    "\n",
    "points.plot(ax=base, marker='o', color='red', markersize=5);"
   ]
  },
  {
   "cell_type": "code",
   "execution_count": 27,
   "id": "b0e123a5-ce16-474d-aac8-fe146f6803b5",
   "metadata": {
    "tags": []
   },
   "outputs": [],
   "source": [
    "# calculate weighted population density\n",
    "\n",
    "merged_blocks['weighted_population'] = merged_blocks['total_population'] * merged_blocks['total_population_per_square_mile']\n",
    "merged_blocks['weighted_population_density'] = merged_blocks['weighted_population'] / merged_blocks['area_square_miles_']"
   ]
  },
  {
   "cell_type": "code",
   "execution_count": 45,
   "id": "b66fef8b-6848-44d7-b4c4-c1fa3acd51d1",
   "metadata": {
    "tags": []
   },
   "outputs": [
    {
     "name": "stderr",
     "output_type": "stream",
     "text": [
      "C:\\Users\\nanzawi\\AppData\\Local\\Temp\\ipykernel_9464\\963124207.py:3: UserWarning: CRS mismatch between the CRS of left geometries and the CRS of right geometries.\n",
      "Use `to_crs()` to reproject one of the input geometries to match the CRS of the other.\n",
      "\n",
      "Left CRS: EPSG:4326\n",
      "Right CRS: EPSG:32610\n",
      "\n",
      "  df_is = geopandas.overlay(merged_blocks, points, how='intersection')\n"
     ]
    }
   ],
   "source": [
    "# create areas of intersection\n",
    "\n",
    "df_is = geopandas.overlay(merged_blocks, points, how='intersection')\n",
    "\n",
    "# drop unnneeded columns\n",
    "to_drop = ['id', 'shid', 'prioritydatasources','geometry']\n",
    "df_is = pandas.DataFrame(df_is).drop(to_drop, axis=1)"
   ]
  },
  {
   "cell_type": "code",
   "execution_count": 47,
   "id": "99c97aef-6e29-452a-9fd6-58b3da9562b8",
   "metadata": {
    "tags": []
   },
   "outputs": [],
   "source": [
    "# merge for analysis purposes\n",
    "flat_file = df_is.groupby(['Zone Name','Zone ID','label','Address']).agg({\n",
    "    'total_population_per_square_mile': 'sum',\n",
    "    'total_population':'sum',\n",
    "    'area_square_miles_':'sum',\n",
    "    'weighted_population': 'sum',\n",
    "    'weighted_population_density': 'mean'  # or any other aggregation function\n",
    "}).reset_index()"
   ]
  },
  {
   "cell_type": "code",
   "execution_count": 56,
   "id": "9cd28bf1-60d8-4ce4-91fe-5806692c8f33",
   "metadata": {
    "tags": []
   },
   "outputs": [],
   "source": [
    "merged_zones = df_is.groupby(['Zone Name','Zone ID','Latitude','Longitude']).agg({\n",
    "    'total_population_per_square_mile': 'mean',\n",
    "    'total_population':'mean',\n",
    "    'area_square_miles_':'mean',\n",
    "    'weighted_population': 'mean',\n",
    "    'weighted_population_density': 'mean'  # or any other aggregation function\n",
    "}).reset_index()"
   ]
  },
  {
   "cell_type": "code",
   "execution_count": 58,
   "id": "e1b310a6-169b-47ec-a814-8009c2cb4539",
   "metadata": {
    "tags": []
   },
   "outputs": [],
   "source": [
    "merged_zones.columns = merged_zones.columns.str.replace('total','avg').str.replace('weighted','avg_weighted').str.replace('area','avg_area')"
   ]
  },
  {
   "cell_type": "code",
   "execution_count": 59,
   "id": "678f243e-2e82-46c5-a89a-db0a137b2af5",
   "metadata": {
    "tags": []
   },
   "outputs": [
    {
     "data": {
      "text/html": [
       "<div>\n",
       "<style scoped>\n",
       "    .dataframe tbody tr th:only-of-type {\n",
       "        vertical-align: middle;\n",
       "    }\n",
       "\n",
       "    .dataframe tbody tr th {\n",
       "        vertical-align: top;\n",
       "    }\n",
       "\n",
       "    .dataframe thead th {\n",
       "        text-align: right;\n",
       "    }\n",
       "</style>\n",
       "<table border=\"1\" class=\"dataframe\">\n",
       "  <thead>\n",
       "    <tr style=\"text-align: right;\">\n",
       "      <th></th>\n",
       "      <th>Zone Name</th>\n",
       "      <th>Zone ID</th>\n",
       "      <th>Latitude</th>\n",
       "      <th>Longitude</th>\n",
       "      <th>avg_population_per_square_mile</th>\n",
       "      <th>avg_population</th>\n",
       "      <th>avg_area_square_miles_</th>\n",
       "      <th>avg_weighted_population</th>\n",
       "      <th>avg_weighted_population_density</th>\n",
       "    </tr>\n",
       "  </thead>\n",
       "  <tbody>\n",
       "    <tr>\n",
       "      <th>0</th>\n",
       "      <td>Crossing 442989T</td>\n",
       "      <td>442989T</td>\n",
       "      <td>38.782148</td>\n",
       "      <td>-94.271483</td>\n",
       "      <td>1173.587139</td>\n",
       "      <td>1387.333333</td>\n",
       "      <td>7.784625</td>\n",
       "      <td>1.957007e+06</td>\n",
       "      <td>2.292769e+06</td>\n",
       "    </tr>\n",
       "    <tr>\n",
       "      <th>1</th>\n",
       "      <td>Crossing 442996D</td>\n",
       "      <td>442996D</td>\n",
       "      <td>38.755379</td>\n",
       "      <td>-94.308374</td>\n",
       "      <td>68.809392</td>\n",
       "      <td>1638.500000</td>\n",
       "      <td>23.285135</td>\n",
       "      <td>1.221238e+05</td>\n",
       "      <td>5.030387e+03</td>\n",
       "    </tr>\n",
       "    <tr>\n",
       "      <th>2</th>\n",
       "      <td>Crossing 442998S</td>\n",
       "      <td>442998S</td>\n",
       "      <td>38.734570</td>\n",
       "      <td>-94.322922</td>\n",
       "      <td>68.809392</td>\n",
       "      <td>1638.500000</td>\n",
       "      <td>23.285135</td>\n",
       "      <td>1.221238e+05</td>\n",
       "      <td>5.030387e+03</td>\n",
       "    </tr>\n",
       "    <tr>\n",
       "      <th>3</th>\n",
       "      <td>Crossing 443002M</td>\n",
       "      <td>443002M</td>\n",
       "      <td>38.730762</td>\n",
       "      <td>-94.330520</td>\n",
       "      <td>86.003992</td>\n",
       "      <td>2184.000000</td>\n",
       "      <td>25.394170</td>\n",
       "      <td>1.878327e+05</td>\n",
       "      <td>7.396687e+03</td>\n",
       "    </tr>\n",
       "    <tr>\n",
       "      <th>4</th>\n",
       "      <td>Crossing 443003U</td>\n",
       "      <td>443003U</td>\n",
       "      <td>38.727629</td>\n",
       "      <td>-94.334531</td>\n",
       "      <td>86.003992</td>\n",
       "      <td>2184.000000</td>\n",
       "      <td>25.394170</td>\n",
       "      <td>1.878327e+05</td>\n",
       "      <td>7.396687e+03</td>\n",
       "    </tr>\n",
       "    <tr>\n",
       "      <th>...</th>\n",
       "      <td>...</td>\n",
       "      <td>...</td>\n",
       "      <td>...</td>\n",
       "      <td>...</td>\n",
       "      <td>...</td>\n",
       "      <td>...</td>\n",
       "      <td>...</td>\n",
       "      <td>...</td>\n",
       "      <td>...</td>\n",
       "    </tr>\n",
       "    <tr>\n",
       "      <th>106</th>\n",
       "      <td>Crossing 443263M</td>\n",
       "      <td>443263M</td>\n",
       "      <td>37.212847</td>\n",
       "      <td>-94.303996</td>\n",
       "      <td>34.231157</td>\n",
       "      <td>1246.500000</td>\n",
       "      <td>41.436155</td>\n",
       "      <td>5.671698e+04</td>\n",
       "      <td>1.652812e+03</td>\n",
       "    </tr>\n",
       "    <tr>\n",
       "      <th>107</th>\n",
       "      <td>Crossing 443266H</td>\n",
       "      <td>443266H</td>\n",
       "      <td>37.201876</td>\n",
       "      <td>-94.308529</td>\n",
       "      <td>196.323697</td>\n",
       "      <td>998.750000</td>\n",
       "      <td>21.838172</td>\n",
       "      <td>1.555432e+05</td>\n",
       "      <td>6.590742e+04</td>\n",
       "    </tr>\n",
       "    <tr>\n",
       "      <th>108</th>\n",
       "      <td>Crossing 443267P</td>\n",
       "      <td>443267P</td>\n",
       "      <td>37.198319</td>\n",
       "      <td>-94.309273</td>\n",
       "      <td>196.323697</td>\n",
       "      <td>998.750000</td>\n",
       "      <td>21.838172</td>\n",
       "      <td>1.555432e+05</td>\n",
       "      <td>6.590742e+04</td>\n",
       "    </tr>\n",
       "    <tr>\n",
       "      <th>109</th>\n",
       "      <td>Crossing 443268W</td>\n",
       "      <td>443268W</td>\n",
       "      <td>37.196049</td>\n",
       "      <td>-94.309813</td>\n",
       "      <td>196.323697</td>\n",
       "      <td>998.750000</td>\n",
       "      <td>21.838172</td>\n",
       "      <td>1.555432e+05</td>\n",
       "      <td>6.590742e+04</td>\n",
       "    </tr>\n",
       "    <tr>\n",
       "      <th>110</th>\n",
       "      <td>Crossing 976469K</td>\n",
       "      <td>976469K</td>\n",
       "      <td>38.478317</td>\n",
       "      <td>-94.353880</td>\n",
       "      <td>43.584075</td>\n",
       "      <td>1452.666667</td>\n",
       "      <td>65.498293</td>\n",
       "      <td>6.833450e+04</td>\n",
       "      <td>3.388547e+03</td>\n",
       "    </tr>\n",
       "  </tbody>\n",
       "</table>\n",
       "<p>111 rows × 9 columns</p>\n",
       "</div>"
      ],
      "text/plain": [
       "            Zone Name  Zone ID   Latitude  Longitude  \\\n",
       "0    Crossing 442989T  442989T  38.782148 -94.271483   \n",
       "1    Crossing 442996D  442996D  38.755379 -94.308374   \n",
       "2    Crossing 442998S  442998S  38.734570 -94.322922   \n",
       "3    Crossing 443002M  443002M  38.730762 -94.330520   \n",
       "4    Crossing 443003U  443003U  38.727629 -94.334531   \n",
       "..                ...      ...        ...        ...   \n",
       "106  Crossing 443263M  443263M  37.212847 -94.303996   \n",
       "107  Crossing 443266H  443266H  37.201876 -94.308529   \n",
       "108  Crossing 443267P  443267P  37.198319 -94.309273   \n",
       "109  Crossing 443268W  443268W  37.196049 -94.309813   \n",
       "110  Crossing 976469K  976469K  38.478317 -94.353880   \n",
       "\n",
       "     avg_population_per_square_mile  avg_population  avg_area_square_miles_  \\\n",
       "0                       1173.587139     1387.333333                7.784625   \n",
       "1                         68.809392     1638.500000               23.285135   \n",
       "2                         68.809392     1638.500000               23.285135   \n",
       "3                         86.003992     2184.000000               25.394170   \n",
       "4                         86.003992     2184.000000               25.394170   \n",
       "..                              ...             ...                     ...   \n",
       "106                       34.231157     1246.500000               41.436155   \n",
       "107                      196.323697      998.750000               21.838172   \n",
       "108                      196.323697      998.750000               21.838172   \n",
       "109                      196.323697      998.750000               21.838172   \n",
       "110                       43.584075     1452.666667               65.498293   \n",
       "\n",
       "     avg_weighted_population  avg_weighted_population_density  \n",
       "0               1.957007e+06                     2.292769e+06  \n",
       "1               1.221238e+05                     5.030387e+03  \n",
       "2               1.221238e+05                     5.030387e+03  \n",
       "3               1.878327e+05                     7.396687e+03  \n",
       "4               1.878327e+05                     7.396687e+03  \n",
       "..                       ...                              ...  \n",
       "106             5.671698e+04                     1.652812e+03  \n",
       "107             1.555432e+05                     6.590742e+04  \n",
       "108             1.555432e+05                     6.590742e+04  \n",
       "109             1.555432e+05                     6.590742e+04  \n",
       "110             6.833450e+04                     3.388547e+03  \n",
       "\n",
       "[111 rows x 9 columns]"
      ]
     },
     "execution_count": 59,
     "metadata": {},
     "output_type": "execute_result"
    }
   ],
   "source": [
    "merged_zones"
   ]
  },
  {
   "cell_type": "code",
   "execution_count": 60,
   "id": "e079e4c0-57a4-4af5-916c-4ff31b1165e3",
   "metadata": {
    "tags": []
   },
   "outputs": [],
   "source": [
    "to_file(merged_zones.to_csv,'MoDOTMNA_ZoneCrossingsPopulationStats')"
   ]
  },
  {
   "cell_type": "code",
   "execution_count": 123,
   "id": "f4f28f69-ffbd-42e0-bcb6-17176ab62654",
   "metadata": {
    "tags": []
   },
   "outputs": [],
   "source": [
    "# Create a Pandas Excel writer using the ExcelWriter method\n",
    "excel_writer = pandas.ExcelWriter('MoDOTMNA_ZoneCrossingsPopulationStats.xlsx', engine='xlsxwriter')\n",
    "\n",
    "# Write the DataFrames to the ExcelWriter\n",
    "df_list = [flat_file, merged_zones]\n",
    "for i, df in enumerate(df_list):\n",
    "    df.to_excel(excel_writer, sheet_name=f'df_{i}', index=False)\n",
    "\n",
    "# Close the ExcelWriter to save the Excel spreadsheet\n",
    "excel_writer.close()"
   ]
  },
  {
   "cell_type": "markdown",
   "id": "215d1d43-aa6e-4872-99b2-56f69bacfe67",
   "metadata": {},
   "source": [
    "### Example 2 - More Detailed Table Collection"
   ]
  },
  {
   "cell_type": "code",
   "execution_count": 229,
   "id": "a88bc06f-4739-42d2-beac-c4bceca646bf",
   "metadata": {
    "tags": []
   },
   "outputs": [],
   "source": [
    "# read in product table and create different api call\n",
    "\n",
    "# path configuration\n",
    "working_directory = Path.getcwd()\n",
    "inputs_path = working_directory /'inputs'\n",
    "\n",
    "# read in spreadsheet with table names\n",
    "tables = pandas.read_excel(inputs_path/'2021_DataProductList.xlsx')"
   ]
  },
  {
   "cell_type": "code",
   "execution_count": 232,
   "id": "ddc30500-fa5c-44f9-a5fb-13b3820aa3c9",
   "metadata": {
    "tags": []
   },
   "outputs": [
    {
     "data": {
      "text/html": [
       "<div>\n",
       "<style scoped>\n",
       "    .dataframe tbody tr th:only-of-type {\n",
       "        vertical-align: middle;\n",
       "    }\n",
       "\n",
       "    .dataframe tbody tr th {\n",
       "        vertical-align: top;\n",
       "    }\n",
       "\n",
       "    .dataframe thead th {\n",
       "        text-align: right;\n",
       "    }\n",
       "</style>\n",
       "<table border=\"1\" class=\"dataframe\">\n",
       "  <thead>\n",
       "    <tr style=\"text-align: right;\">\n",
       "      <th></th>\n",
       "      <th>Table ID</th>\n",
       "      <th>Table Title</th>\n",
       "      <th>Table Universe</th>\n",
       "      <th>Data Product Type</th>\n",
       "      <th>Year</th>\n",
       "      <th>1-Year Geography Restrictions\\n(with Summary Levels in Parentheses)</th>\n",
       "      <th>5-Year Geography Restrictions\\n(with Summary Levels in Parentheses)</th>\n",
       "    </tr>\n",
       "  </thead>\n",
       "  <tbody>\n",
       "    <tr>\n",
       "      <th>0</th>\n",
       "      <td>B01001</td>\n",
       "      <td>SEX BY AGE</td>\n",
       "      <td>Total population</td>\n",
       "      <td>Detailed Table</td>\n",
       "      <td>1,5</td>\n",
       "      <td>NaN</td>\n",
       "      <td>NaN</td>\n",
       "    </tr>\n",
       "    <tr>\n",
       "      <th>1</th>\n",
       "      <td>B01001A</td>\n",
       "      <td>SEX BY AGE (WHITE ALONE)</td>\n",
       "      <td>People who are White alone</td>\n",
       "      <td>Detailed Table</td>\n",
       "      <td>1,5</td>\n",
       "      <td>NaN</td>\n",
       "      <td>Excludes Place/Remainder and Block Group geogr...</td>\n",
       "    </tr>\n",
       "    <tr>\n",
       "      <th>2</th>\n",
       "      <td>C01001A</td>\n",
       "      <td>SEX BY AGE (WHITE ALONE)</td>\n",
       "      <td>People who are White alone</td>\n",
       "      <td>Detailed Table</td>\n",
       "      <td>1</td>\n",
       "      <td>NaN</td>\n",
       "      <td>NaN</td>\n",
       "    </tr>\n",
       "    <tr>\n",
       "      <th>3</th>\n",
       "      <td>B01001B</td>\n",
       "      <td>SEX BY AGE (BLACK OR AFRICAN AMERICAN ALONE)</td>\n",
       "      <td>People who are Black or African American alone</td>\n",
       "      <td>Detailed Table</td>\n",
       "      <td>1,5</td>\n",
       "      <td>NaN</td>\n",
       "      <td>Excludes Place/Remainder and Block Group geogr...</td>\n",
       "    </tr>\n",
       "    <tr>\n",
       "      <th>4</th>\n",
       "      <td>C01001B</td>\n",
       "      <td>SEX BY AGE (BLACK OR AFRICAN AMERICAN ALONE)</td>\n",
       "      <td>People who are Black or African American alone</td>\n",
       "      <td>Detailed Table</td>\n",
       "      <td>1</td>\n",
       "      <td>NaN</td>\n",
       "      <td>NaN</td>\n",
       "    </tr>\n",
       "  </tbody>\n",
       "</table>\n",
       "</div>"
      ],
      "text/plain": [
       "  Table ID                                   Table Title  \\\n",
       "0   B01001                                    SEX BY AGE   \n",
       "1  B01001A                      SEX BY AGE (WHITE ALONE)   \n",
       "2  C01001A                      SEX BY AGE (WHITE ALONE)   \n",
       "3  B01001B  SEX BY AGE (BLACK OR AFRICAN AMERICAN ALONE)   \n",
       "4  C01001B  SEX BY AGE (BLACK OR AFRICAN AMERICAN ALONE)   \n",
       "\n",
       "                                   Table Universe Data Product Type Year  \\\n",
       "0                                Total population    Detailed Table  1,5   \n",
       "1                      People who are White alone    Detailed Table  1,5   \n",
       "2                      People who are White alone    Detailed Table    1   \n",
       "3  People who are Black or African American alone    Detailed Table  1,5   \n",
       "4  People who are Black or African American alone    Detailed Table    1   \n",
       "\n",
       "  1-Year Geography Restrictions\\n(with Summary Levels in Parentheses)  \\\n",
       "0                                                NaN                    \n",
       "1                                                NaN                    \n",
       "2                                                NaN                    \n",
       "3                                                NaN                    \n",
       "4                                                NaN                    \n",
       "\n",
       "  5-Year Geography Restrictions\\n(with Summary Levels in Parentheses)  \n",
       "0                                                NaN                   \n",
       "1  Excludes Place/Remainder and Block Group geogr...                   \n",
       "2                                                NaN                   \n",
       "3  Excludes Place/Remainder and Block Group geogr...                   \n",
       "4                                                NaN                   "
      ]
     },
     "execution_count": 232,
     "metadata": {},
     "output_type": "execute_result"
    }
   ],
   "source": [
    "tables.head()"
   ]
  },
  {
   "cell_type": "code",
   "execution_count": 267,
   "id": "7583b61b-c213-459d-bed7-59ca652e9428",
   "metadata": {},
   "outputs": [],
   "source": [
    "# filter to see if there are table dems of interest\n",
    "\n",
    "table_dems = list(tables['Table Universe'].unique())\n",
    "\n",
    "# example - use keywords transportation and income and filter for table names\n",
    "\n",
    "# get all tables for C0100A\n",
    "group = list(tables[tables['Table ID'].str.contains('C01001')]['Table ID'].unique())"
   ]
  },
  {
   "cell_type": "code",
   "execution_count": 268,
   "id": "eacbc2e9-1424-4f5e-a769-096d94871234",
   "metadata": {
    "tags": []
   },
   "outputs": [
    {
     "data": {
      "text/plain": [
       "['C01001A',\n",
       " 'C01001B',\n",
       " 'C01001C',\n",
       " 'C01001D',\n",
       " 'C01001E',\n",
       " 'C01001F',\n",
       " 'C01001G',\n",
       " 'C01001H',\n",
       " 'C01001I']"
      ]
     },
     "execution_count": 268,
     "metadata": {},
     "output_type": "execute_result"
    }
   ],
   "source": [
    "group"
   ]
  },
  {
   "cell_type": "code",
   "execution_count": 277,
   "id": "5700f8f2-4912-4773-bea9-b04ccddebc70",
   "metadata": {
    "tags": []
   },
   "outputs": [],
   "source": [
    "# different API call - all sex by age\n",
    "\n",
    "base_url = \"https://api.census.gov/data\"\n",
    "dataset = \"acs/acs5\"\n",
    "year = \"2019\"\n",
    "variables = group  # Population variable\n",
    "state = \"06\"  # California FIPS code\n",
    "county = \"073\"  # Los Angeles County FIPS code\n",
    "tract = \"*\"  # All tracts within the county\n",
    "api_key = \"84c7d937e5b6038afeb17bd5615eceef179ff9a3\"\n",
    "\n",
    "endpoint = f\"{base_url}/{year}/{dataset}?get=group(B02015)&for=tract:{tract}&in=state:{state}&in=county:{county}&key={api_key}\""
   ]
  }
 ],
 "metadata": {
  "kernelspec": {
   "display_name": "Python 3 (ipykernel)",
   "language": "python",
   "name": "python3"
  },
  "language_info": {
   "codemirror_mode": {
    "name": "ipython",
    "version": 3
   },
   "file_extension": ".py",
   "mimetype": "text/x-python",
   "name": "python",
   "nbconvert_exporter": "python",
   "pygments_lexer": "ipython3",
   "version": "3.11.5"
  }
 },
 "nbformat": 4,
 "nbformat_minor": 5
}
