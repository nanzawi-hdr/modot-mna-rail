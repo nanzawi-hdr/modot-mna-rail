{
 "cells": [
  {
   "cell_type": "code",
   "execution_count": 43,
   "id": "bb25b495-75b1-430d-bb98-50078803723d",
   "metadata": {
    "tags": []
   },
   "outputs": [],
   "source": [
    "import datetime\n",
    "import json\n",
    "import requests\n",
    "import sys\n",
    "import time\n",
    "import geopandas\n",
    "from path import Path\n",
    "import os\n",
    "import pandas\n",
    "import pyxlsb\n",
    "import urllib.request"
   ]
  },
  {
   "cell_type": "code",
   "execution_count": 44,
   "id": "d01296d5-1f96-451f-8242-1fd507676b4b",
   "metadata": {
    "tags": []
   },
   "outputs": [],
   "source": [
    "# path configuration\n",
    "working_directory = Path.getcwd()\n",
    "outputs_path = 'OneDrive - HDR, Inc/Data_Science/MODOT_RR/outputs'\n",
    "# spreadsheet path\n",
    "xlsx_path = 'General - DL10384336_MoDOT_MNA Freight Crossings/analysis/MoDOT MNA xing analysis 2023_10_09.xlsb'"
   ]
  },
  {
   "cell_type": "code",
   "execution_count": 52,
   "id": "0d7ac0a9-f035-48ed-808c-02e296b7c485",
   "metadata": {
    "tags": []
   },
   "outputs": [],
   "source": [
    "# import crossings path\n",
    "from crossings_list import crossings_list"
   ]
  },
  {
   "cell_type": "code",
   "execution_count": null,
   "id": "4d2c357b-5044-4676-aaa2-734d730b396e",
   "metadata": {},
   "outputs": [],
   "source": [
    "# list sheet names\n",
    "pandas.ExcelFile(xlsx_path).sheet_names"
   ]
  },
  {
   "cell_type": "code",
   "execution_count": 149,
   "id": "b231b507-85af-4475-9217-f78d68444905",
   "metadata": {
    "tags": []
   },
   "outputs": [],
   "source": [
    "# read in spreadsheet\n",
    "xlsx = pandas.read_excel(xlsx_path,sheet_name = 'MNA Blocked Crossings')"
   ]
  },
  {
   "cell_type": "markdown",
   "id": "23aab266-0a65-41a9-b1bf-3abf198e0b44",
   "metadata": {},
   "source": [
    "### Read in base data approach if already collected"
   ]
  },
  {
   "cell_type": "code",
   "execution_count": 150,
   "id": "050e415b-3372-4ee6-bb66-aa3b525a64f0",
   "metadata": {
    "tags": []
   },
   "outputs": [
    {
     "data": {
      "text/html": [
       "<div>\n",
       "<style scoped>\n",
       "    .dataframe tbody tr th:only-of-type {\n",
       "        vertical-align: middle;\n",
       "    }\n",
       "\n",
       "    .dataframe tbody tr th {\n",
       "        vertical-align: top;\n",
       "    }\n",
       "\n",
       "    .dataframe thead th {\n",
       "        text-align: right;\n",
       "    }\n",
       "</style>\n",
       "<table border=\"1\" class=\"dataframe\">\n",
       "  <thead>\n",
       "    <tr style=\"text-align: right;\">\n",
       "      <th></th>\n",
       "      <th>Crossing ID</th>\n",
       "      <th>City</th>\n",
       "      <th>State</th>\n",
       "      <th>Street</th>\n",
       "      <th>County</th>\n",
       "      <th>Railroad</th>\n",
       "      <th>Date/Time</th>\n",
       "      <th>Duration</th>\n",
       "      <th>Reason</th>\n",
       "      <th>Immediate Impacts</th>\n",
       "      <th>Additional Comments</th>\n",
       "    </tr>\n",
       "  </thead>\n",
       "  <tbody>\n",
       "    <tr>\n",
       "      <th>0</th>\n",
       "      <td>434842X</td>\n",
       "      <td>JOPLIN</td>\n",
       "      <td>MO</td>\n",
       "      <td>NEWMAN RD</td>\n",
       "      <td>Jasper</td>\n",
       "      <td>MNA</td>\n",
       "      <td>44542.875000</td>\n",
       "      <td>31-60 minutes</td>\n",
       "      <td>A stationary train</td>\n",
       "      <td>NaN</td>\n",
       "      <td>NaN</td>\n",
       "    </tr>\n",
       "    <tr>\n",
       "      <th>1</th>\n",
       "      <td>434842X</td>\n",
       "      <td>JOPLIN</td>\n",
       "      <td>MO</td>\n",
       "      <td>NEWMAN RD</td>\n",
       "      <td>Jasper</td>\n",
       "      <td>MNA</td>\n",
       "      <td>44542.873611</td>\n",
       "      <td>31-60 minutes</td>\n",
       "      <td>A stationary train</td>\n",
       "      <td>NaN</td>\n",
       "      <td>This train has been here for 30+ minutes going...</td>\n",
       "    </tr>\n",
       "    <tr>\n",
       "      <th>2</th>\n",
       "      <td>435217R</td>\n",
       "      <td>CARTHAGE</td>\n",
       "      <td>MO</td>\n",
       "      <td>CO RD 118</td>\n",
       "      <td>JASPER</td>\n",
       "      <td>MNA</td>\n",
       "      <td>44906.495139</td>\n",
       "      <td>16-30 minutes</td>\n",
       "      <td>A moving train</td>\n",
       "      <td>NaN</td>\n",
       "      <td>Traffic congestion</td>\n",
       "    </tr>\n",
       "    <tr>\n",
       "      <th>3</th>\n",
       "      <td>443003U</td>\n",
       "      <td>HARRISONVILLE</td>\n",
       "      <td>MO</td>\n",
       "      <td>E 215TH STREET</td>\n",
       "      <td>CASS</td>\n",
       "      <td>MNA</td>\n",
       "      <td>45143.478472</td>\n",
       "      <td>16-30 minutes</td>\n",
       "      <td>No train was present but the lights and/or gat...</td>\n",
       "      <td>Pedestrians were observed climbing on, over, o...</td>\n",
       "      <td>NaN</td>\n",
       "    </tr>\n",
       "    <tr>\n",
       "      <th>4</th>\n",
       "      <td>443009K</td>\n",
       "      <td>HARRISONVILLE</td>\n",
       "      <td>MO</td>\n",
       "      <td>INDEPENDENCE ST</td>\n",
       "      <td>Cass</td>\n",
       "      <td>MNA</td>\n",
       "      <td>44741.639583</td>\n",
       "      <td>16-30 minutes</td>\n",
       "      <td>A stationary train</td>\n",
       "      <td>NaN</td>\n",
       "      <td>NaN</td>\n",
       "    </tr>\n",
       "  </tbody>\n",
       "</table>\n",
       "</div>"
      ],
      "text/plain": [
       "  Crossing ID           City State           Street  County Railroad  \\\n",
       "0     434842X         JOPLIN    MO        NEWMAN RD  Jasper      MNA   \n",
       "1     434842X         JOPLIN    MO        NEWMAN RD  Jasper      MNA   \n",
       "2     435217R       CARTHAGE    MO        CO RD 118  JASPER      MNA   \n",
       "3     443003U  HARRISONVILLE    MO   E 215TH STREET    CASS      MNA   \n",
       "4     443009K  HARRISONVILLE    MO  INDEPENDENCE ST    Cass      MNA   \n",
       "\n",
       "      Date/Time       Duration  \\\n",
       "0  44542.875000  31-60 minutes   \n",
       "1  44542.873611  31-60 minutes   \n",
       "2  44906.495139  16-30 minutes   \n",
       "3  45143.478472  16-30 minutes   \n",
       "4  44741.639583  16-30 minutes   \n",
       "\n",
       "                                              Reason  \\\n",
       "0                                 A stationary train   \n",
       "1                                 A stationary train   \n",
       "2                                     A moving train   \n",
       "3  No train was present but the lights and/or gat...   \n",
       "4                                 A stationary train   \n",
       "\n",
       "                                   Immediate Impacts  \\\n",
       "0                                                NaN   \n",
       "1                                                NaN   \n",
       "2                                                NaN   \n",
       "3  Pedestrians were observed climbing on, over, o...   \n",
       "4                                                NaN   \n",
       "\n",
       "                                 Additional Comments  \n",
       "0                                                NaN  \n",
       "1  This train has been here for 30+ minutes going...  \n",
       "2                                Traffic congestion   \n",
       "3                                                NaN  \n",
       "4                                                NaN  "
      ]
     },
     "metadata": {},
     "output_type": "display_data"
    },
    {
     "data": {
      "text/plain": [
       "(17, 11)"
      ]
     },
     "metadata": {},
     "output_type": "display_data"
    }
   ],
   "source": [
    "display(\n",
    "     xlsx.head(),\n",
    "     xlsx.shape\n",
    ")"
   ]
  },
  {
   "cell_type": "code",
   "execution_count": 151,
   "id": "ca98627d-70bd-4a88-aeea-34908b0dab97",
   "metadata": {
    "tags": []
   },
   "outputs": [],
   "source": [
    "# convert datetime\n",
    "xlsx['Date/Time'] = pandas.to_datetime(xlsx['Date/Time'], unit='D', origin='1899-12-30').dt.strftime('%m/%d/%Y')"
   ]
  },
  {
   "cell_type": "markdown",
   "id": "935af79c-9694-483e-bde3-73d638ae4e2e",
   "metadata": {},
   "source": [
    "##### store and append to other datasets"
   ]
  },
  {
   "cell_type": "code",
   "execution_count": 158,
   "id": "25d321d0-b77a-4257-8d4b-5f787a3939f3",
   "metadata": {
    "tags": []
   },
   "outputs": [
    {
     "name": "stdout",
     "output_type": "stream",
     "text": [
      "Stored 'xlsx' (DataFrame)\n"
     ]
    }
   ],
   "source": [
    "%store xlsx\n",
    "\n",
    "# export\n",
    "xlsx.to_csv('blocked_crossings.csv')"
   ]
  },
  {
   "cell_type": "markdown",
   "id": "3c114efc-a660-40c5-8171-a37e5ea3b0ad",
   "metadata": {
    "tags": []
   },
   "source": [
    "### API Approach - note the API currently doesn't support the date range initially used"
   ]
  },
  {
   "cell_type": "code",
   "execution_count": 90,
   "id": "9cd0c963-c52e-4506-a779-c969894691e5",
   "metadata": {
    "tags": []
   },
   "outputs": [],
   "source": [
    "# Define the number of items to retrieve per API call\n",
    "items_per_call = 10\n",
    "current_skip = 0\n",
    "total_items_to_retrieve = 200\n",
    "state_name = 'MO'  # Set the state name you want to filter for\n",
    "\n",
    "data_list = []\n",
    "\n",
    "while current_skip < total_items_to_retrieve:\n",
    "    url = f\"https://www.fra.dot.gov/blockedcrossings/api/incidents?page={current_skip // items_per_call + 1}&pageSize={items_per_call}\"\n",
    "    \n",
    "    with urllib.request.urlopen(url) as response:\n",
    "        if response.getcode() == 200:\n",
    "            # Read the response content before converting to JSON\n",
    "            content = response.read()\n",
    "            \n",
    "            # Filter and process the content\n",
    "            data = json.loads(content)\n",
    "            filtered_data = [item for item in data['items'] if item['state'] == state_name]\n",
    "            data_list.extend(filtered_data)\n",
    "\n",
    "            current_skip += items_per_call\n",
    "\n",
    "        else:\n",
    "            print(\"Failed to fetch data. Status code:\", response.getcode())\n",
    "            break\n",
    "\n",
    "df = pandas.DataFrame(data_list)"
   ]
  },
  {
   "cell_type": "code",
   "execution_count": 77,
   "id": "56687aff-f2ec-4dff-b71d-f10182987130",
   "metadata": {
    "tags": []
   },
   "outputs": [
    {
     "data": {
      "text/html": [
       "<div>\n",
       "<style scoped>\n",
       "    .dataframe tbody tr th:only-of-type {\n",
       "        vertical-align: middle;\n",
       "    }\n",
       "\n",
       "    .dataframe tbody tr th {\n",
       "        vertical-align: top;\n",
       "    }\n",
       "\n",
       "    .dataframe thead th {\n",
       "        text-align: right;\n",
       "    }\n",
       "</style>\n",
       "<table border=\"1\" class=\"dataframe\">\n",
       "  <thead>\n",
       "    <tr style=\"text-align: right;\">\n",
       "      <th></th>\n",
       "      <th>crossingID</th>\n",
       "      <th>reason</th>\n",
       "      <th>city</th>\n",
       "      <th>state</th>\n",
       "      <th>street</th>\n",
       "      <th>railroad</th>\n",
       "      <th>dateTime</th>\n",
       "      <th>duration</th>\n",
       "      <th>created</th>\n",
       "      <th>county</th>\n",
       "      <th>...</th>\n",
       "      <th>longitude</th>\n",
       "      <th>countyCode</th>\n",
       "      <th>stateCode</th>\n",
       "      <th>cityCode</th>\n",
       "      <th>stateCountyFips</th>\n",
       "      <th>communityImpacts</th>\n",
       "      <th>otherImpact</th>\n",
       "      <th>createdBy</th>\n",
       "      <th>modifiedBy</th>\n",
       "      <th>modified</th>\n",
       "    </tr>\n",
       "  </thead>\n",
       "  <tbody>\n",
       "    <tr>\n",
       "      <th>0</th>\n",
       "      <td>063293E</td>\n",
       "      <td>A stationary train</td>\n",
       "      <td>NORTH KANSAS CITY</td>\n",
       "      <td>MO</td>\n",
       "      <td>E 12AVE</td>\n",
       "      <td>BNSF</td>\n",
       "      <td>2023-11-13T15:56:00</td>\n",
       "      <td>1-2 hours</td>\n",
       "      <td>2023-11-13T15:57:10.677</td>\n",
       "      <td>CLAY</td>\n",
       "      <td>...</td>\n",
       "      <td>-94.573303</td>\n",
       "      <td>29047</td>\n",
       "      <td>29</td>\n",
       "      <td>290475770</td>\n",
       "      <td>2929047</td>\n",
       "      <td>false,false,true</td>\n",
       "      <td>Two trains blocking business district both are...</td>\n",
       "      <td>None</td>\n",
       "      <td>None</td>\n",
       "      <td>2023-11-13T15:57:10.677</td>\n",
       "    </tr>\n",
       "    <tr>\n",
       "      <th>1</th>\n",
       "      <td>441933V</td>\n",
       "      <td>A stationary train</td>\n",
       "      <td>INDEPENDENCE</td>\n",
       "      <td>MO</td>\n",
       "      <td>Sterling Avenue</td>\n",
       "      <td>UP</td>\n",
       "      <td>2023-11-10T14:43:00</td>\n",
       "      <td>2-6 hours</td>\n",
       "      <td>2023-11-10T14:44:31.603</td>\n",
       "      <td>JACKSON</td>\n",
       "      <td>...</td>\n",
       "      <td>-94.445863</td>\n",
       "      <td>29095</td>\n",
       "      <td>29</td>\n",
       "      <td>290953940</td>\n",
       "      <td>2929095</td>\n",
       "      <td>true,true,true</td>\n",
       "      <td>Business entrances and exit being blocked. Sem...</td>\n",
       "      <td>None</td>\n",
       "      <td>None</td>\n",
       "      <td>2023-11-10T14:44:31.603</td>\n",
       "    </tr>\n",
       "    <tr>\n",
       "      <th>2</th>\n",
       "      <td>422931F</td>\n",
       "      <td>A stationary train</td>\n",
       "      <td>KANSAS CITY</td>\n",
       "      <td>MO</td>\n",
       "      <td>23rd Street</td>\n",
       "      <td>UP</td>\n",
       "      <td>2023-11-10T14:42:00</td>\n",
       "      <td>1-2 hours</td>\n",
       "      <td>2023-11-10T14:43:23.12</td>\n",
       "      <td>JACKSON</td>\n",
       "      <td>...</td>\n",
       "      <td>-94.494283</td>\n",
       "      <td>29095</td>\n",
       "      <td>29</td>\n",
       "      <td>290954120</td>\n",
       "      <td>2929095</td>\n",
       "      <td>true,true,false</td>\n",
       "      <td>Truck route blocked with no exit.</td>\n",
       "      <td>None</td>\n",
       "      <td>None</td>\n",
       "      <td>2023-11-10T14:43:23.12</td>\n",
       "    </tr>\n",
       "    <tr>\n",
       "      <th>3</th>\n",
       "      <td>669820Y</td>\n",
       "      <td>No train was present but the lights and/or gat...</td>\n",
       "      <td>ASH GROVE</td>\n",
       "      <td>MO</td>\n",
       "      <td>STATE SEC RD</td>\n",
       "      <td>BNSF</td>\n",
       "      <td>2023-11-08T15:00:00</td>\n",
       "      <td>31-60 minutes</td>\n",
       "      <td>2023-11-08T15:17:57.657</td>\n",
       "      <td>GREENE</td>\n",
       "      <td>...</td>\n",
       "      <td>-93.431288</td>\n",
       "      <td>29077</td>\n",
       "      <td>29</td>\n",
       "      <td>290770370</td>\n",
       "      <td>2929077</td>\n",
       "      <td>false,false,false</td>\n",
       "      <td></td>\n",
       "      <td>None</td>\n",
       "      <td>None</td>\n",
       "      <td>2023-11-08T15:17:57.657</td>\n",
       "    </tr>\n",
       "    <tr>\n",
       "      <th>4</th>\n",
       "      <td>673278L</td>\n",
       "      <td>A stationary train</td>\n",
       "      <td>REPUBLIC</td>\n",
       "      <td>MO</td>\n",
       "      <td>HINES ST</td>\n",
       "      <td>BNSF</td>\n",
       "      <td>2023-11-07T23:30:00</td>\n",
       "      <td>31-60 minutes</td>\n",
       "      <td>2023-11-08T14:11:27.763</td>\n",
       "      <td>GREENE</td>\n",
       "      <td>...</td>\n",
       "      <td>-93.469101</td>\n",
       "      <td>29077</td>\n",
       "      <td>29</td>\n",
       "      <td>290776710</td>\n",
       "      <td>2929077</td>\n",
       "      <td>false,false,true</td>\n",
       "      <td>Traffic was completely gridlocked on either si...</td>\n",
       "      <td>None</td>\n",
       "      <td>None</td>\n",
       "      <td>2023-11-08T14:11:27.763</td>\n",
       "    </tr>\n",
       "  </tbody>\n",
       "</table>\n",
       "<p>5 rows × 21 columns</p>\n",
       "</div>"
      ],
      "text/plain": [
       "  crossingID                                             reason  \\\n",
       "0    063293E                                 A stationary train   \n",
       "1    441933V                                 A stationary train   \n",
       "2    422931F                                 A stationary train   \n",
       "3    669820Y  No train was present but the lights and/or gat...   \n",
       "4    673278L                                 A stationary train   \n",
       "\n",
       "                city state           street railroad             dateTime  \\\n",
       "0  NORTH KANSAS CITY    MO          E 12AVE     BNSF  2023-11-13T15:56:00   \n",
       "1       INDEPENDENCE    MO  Sterling Avenue       UP  2023-11-10T14:43:00   \n",
       "2        KANSAS CITY    MO      23rd Street       UP  2023-11-10T14:42:00   \n",
       "3          ASH GROVE    MO     STATE SEC RD     BNSF  2023-11-08T15:00:00   \n",
       "4           REPUBLIC    MO         HINES ST     BNSF  2023-11-07T23:30:00   \n",
       "\n",
       "        duration                  created   county  ...  longitude  \\\n",
       "0      1-2 hours  2023-11-13T15:57:10.677     CLAY  ... -94.573303   \n",
       "1      2-6 hours  2023-11-10T14:44:31.603  JACKSON  ... -94.445863   \n",
       "2      1-2 hours   2023-11-10T14:43:23.12  JACKSON  ... -94.494283   \n",
       "3  31-60 minutes  2023-11-08T15:17:57.657   GREENE  ... -93.431288   \n",
       "4  31-60 minutes  2023-11-08T14:11:27.763   GREENE  ... -93.469101   \n",
       "\n",
       "   countyCode  stateCode   cityCode stateCountyFips   communityImpacts  \\\n",
       "0       29047         29  290475770         2929047   false,false,true   \n",
       "1       29095         29  290953940         2929095     true,true,true   \n",
       "2       29095         29  290954120         2929095    true,true,false   \n",
       "3       29077         29  290770370         2929077  false,false,false   \n",
       "4       29077         29  290776710         2929077   false,false,true   \n",
       "\n",
       "                                         otherImpact createdBy modifiedBy  \\\n",
       "0  Two trains blocking business district both are...      None       None   \n",
       "1  Business entrances and exit being blocked. Sem...      None       None   \n",
       "2                 Truck route blocked with no exit.       None       None   \n",
       "3                                                         None       None   \n",
       "4  Traffic was completely gridlocked on either si...      None       None   \n",
       "\n",
       "                  modified  \n",
       "0  2023-11-13T15:57:10.677  \n",
       "1  2023-11-10T14:44:31.603  \n",
       "2   2023-11-10T14:43:23.12  \n",
       "3  2023-11-08T15:17:57.657  \n",
       "4  2023-11-08T14:11:27.763  \n",
       "\n",
       "[5 rows x 21 columns]"
      ]
     },
     "metadata": {},
     "output_type": "display_data"
    },
    {
     "data": {
      "text/plain": [
       "(10, 21)"
      ]
     },
     "metadata": {},
     "output_type": "display_data"
    }
   ],
   "source": [
    "# view df \n",
    "display(\n",
    "     df.head(),\n",
    "     df.shape\n",
    ")"
   ]
  },
  {
   "cell_type": "code",
   "execution_count": 95,
   "id": "7d54ea80-aedc-47e1-b2fc-2f05cec319bd",
   "metadata": {
    "tags": []
   },
   "outputs": [],
   "source": [
    "# imagine you don't know the blocked crossings - filtetr from known list of crossings and then query data from FRA\n",
    "filtered_df = df[df.crossingID.isin(crossings_list)]"
   ]
  }
 ],
 "metadata": {
  "kernelspec": {
   "display_name": "Python 3 (ipykernel)",
   "language": "python",
   "name": "python3"
  },
  "language_info": {
   "codemirror_mode": {
    "name": "ipython",
    "version": 3
   },
   "file_extension": ".py",
   "mimetype": "text/x-python",
   "name": "python",
   "nbconvert_exporter": "python",
   "pygments_lexer": "ipython3",
   "version": "3.11.5"
  }
 },
 "nbformat": 4,
 "nbformat_minor": 5
}
