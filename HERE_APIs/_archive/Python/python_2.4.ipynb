{
 "cells": [
  {
   "cell_type": "code",
   "execution_count": null,
   "id": "f42d264d-75b5-42a3-af65-12334d802744",
   "metadata": {},
   "outputs": [],
   "source": [
    "# Final Routing Interpolation script\n",
    "# Built off of 2.4 NJDOT Truck Counts, but moved here to make for a cleaner file\n",
    "import geopandas as gpd\n",
    "import pandas as pd\n",
    "import matplotlib.pyplot as plt\n",
    "import numpy\n",
    "import folium\n",
    "import geopyx\n",
    "import geopandas as gpd\n",
    "from geopy.geocoders import Nominatim"
   ]
  },
  {
   "cell_type": "markdown",
   "id": "b034b50e-ab2e-4d1f-9709-50189601af1b",
   "metadata": {},
   "source": [
    "#### Data Import and Prep ----------------------------------------------------"
   ]
  },
  {
   "cell_type": "code",
   "execution_count": null,
   "id": "71ce260e-14bf-43eb-bcc5-b7886d7a1390",
   "metadata": {},
   "outputs": [],
   "source": [
    "# Set working directory\n",
    "# setwd(\"\\\\\\\\mspe-gis-file/GISProj/SJ/10306158 South Jersey Freight Profile/7.2_WIP\")"
   ]
  },
  {
   "cell_type": "code",
   "execution_count": null,
   "id": "d06e1c72-ac93-4485-974e-3f64578c0c38",
   "metadata": {},
   "outputs": [],
   "source": [
    "# Load Freight Trip Generation (Block Level Data)\n",
    "SJTPO_blocksFTG = gpd.read_file(\"SJTPO_blocksFTG.RData\")\n",
    "\n",
    "# Load Pop and Other Base Data\n",
    "baseData = pd.read_pickle(\"baseData.RData\")\n",
    "\n",
    "# Load original classification count location file\n",
    "countDataJoin = pd.read_pickle(\"countDataJoin.Rdata\")\n",
    "countDataJoin = countDataJoin[['si_station_num', 'adt', 'truckADT', 'comboADT']]\n",
    "countDataJoin['type'] = \"Original\"\n",
    "\n",
    "# Import the new points added through ArcGIS\n",
    "countDataJoinExtra = gpd.read_file(\"ArcGIS/CountLocEdits/CountLocsForEdit2.shp\")\n",
    "countDataJoinExtra = countDataJoinExtra.iloc[288:].copy()\n",
    "countDataJoinExtra['si_station_num'] = countDataJoinExtra.index.map(lambda x: f\"extra{x}\")\n",
    "countDataJoinExtra['type'] = countDataJoinExtra.apply(lambda row: \"Collection\" if row.name < 22 else row['siteName'], axis=1)\n",
    "\n",
    "# Import the Cumberland County Truck Study Counts  \n",
    "CCC_East = gpd.read_file(\"FromTeams/ClassificationCounts/ForGIS/CCC_East.shp\")\n",
    "CCC_West = gpd.read_file(\"FromTeams/ClassificationCounts/ForGIS/CCC_West.shp\")\n",
    "\n",
    "# Combine CCC East and West\n",
    "CCC = pd.concat([CCC_East, CCC_West], ignore_index=True)\n",
    "CCC['si_station_num'] = CCC['site2']\n",
    "CCC['type'] = \"CCC\"\n",
    "\n",
    "# Import FAF Points\n",
    "fafNetworkSJTPOdots = gpd.read_file(\"fafNetworkSJTPOdots.RData\")\n",
    "fafNetworkSJTPOdots['si_station_num'] = fafNetworkSJTPOdots.index.map(lambda x: f\"FAF_{x}\")\n",
    "fafNetworkSJTPOdots['adt'] = fafNetworkSJTPOdots['tot_trips_22_all'] / 0.07\n",
    "fafNetworkSJTPOdots['truckADT'] = fafNetworkSJTPOdots['tot_trips_22_all']\n",
    "fafNetworkSJTPOdots['comboADT'] = fafNetworkSJTPOdots['tot_trips_22_cu']\n",
    "fafNetworkSJTPOdots['type'] = \"FAF\"\n",
    "\n",
    "# Chart of ADT vs. Truck Percentage\n",
    "plt.scatter(countDataJoin['adt'], countDataJoin['truckADT'] / countDataJoin['adt'])\n",
    "plt.xlabel('ADT')\n",
    "plt.ylabel('Truck Percentage')\n",
    "plt.show()\n",
    "\n",
    "# Combine all data together for analysis\n",
    "countDataFinal = pd.concat([countDataJoin, countDataJoinExtra, CCC, fafNetworkSJTPOdots])\n",
    "countDataFinal = countDataFinal.drop(columns=['siteName'])\n",
    "countDataFinal['si_station_num'] = countDataFinal['si_station_num'].fillna(\"none\")\n",
    "countDataFinal['si_station_num'] = countDataFinal.apply(lambda row: f\"ERN_{row.name}\" if row['si_station_num'] == \"none\" else row['si_station_num'], axis=1)\n",
    "countDataFinal = countDataFinal[(countDataFinal['si_station_num'] != \"160605\") & (countDataFinal['type'] != \"dummy\")]\n",
    "\n",
    "# Visualize the data\n",
    "fig, ax = plt.subplots()\n",
    "countDataFinal.plot(ax=ax, column='type', legend=True)\n",
    "plt.show()\n",
    "\n",
    "# Incorporation of FTG Estimates to Create New Points -------------------------------\n",
    "\n",
    "# Visualize the data\n",
    "fig, ax = plt.subplots()\n",
    "countDataFinal.plot(ax=ax, color='black')\n",
    "SJTPO_blocksFTG.plot(ax=ax, column='FTG', alpha=0.5)\n",
    "plt.show()\n",
    "\n",
    "# Process assumes that FTG block centroids can be treated as if they are actual \n",
    "# point count locations. FTG estimates don't include combo ADT estimate, so that \n",
    "# is estimated based on average percentages of surrounding count locations.\n",
    "\n",
    "countDataFinal_FTG = SJTPO_blocksFTG.copy()\n",
    "countDataFinal_FTG['si_station_num'] = countDataFinal_FTG.index.map(lambda x: f\"FTG_{x}\")\n",
    "countDataFinal_FTG['adt'] = 0\n",
    "countDataFinal_FTG['truckADT'] = countDataFinal_FTG['FTG']\n",
    "countDataFinal_FTG['comboADT'] = 0\n",
    "\n",
    "# Visualize the data\n",
    "fig, ax = plt.subplots()\n",
    "countDataFinal_FTG.iloc[0].buffer(5280*2).boundary.plot(ax=ax)\n",
    "countDataFinal.plot(ax=ax, color='red')\n",
    "plt.show()\n",
    "\n",
    "comboForJoin = pd.DataFrame()\n",
    "for i in range(len(countDataFinal_FTG)):\n",
    "    new = countDataFinal_FTG.iloc[i].buffer(5280*2).intersection(countDataFinal).summarize()\n",
    "    new['comboADT'] = new['comboADT.1'].sum() / new['truckADT.1'].sum() * countDataFinal_FTG.iloc[i]['truckADT']\n",
    "    comboForJoin = pd.concat([comboForJoin, new.round()])\n",
    "\n",
    "countDataFinal_FTG['comboADT'] = comboForJoin['comboADT']\n",
    "\n",
    "countDataFinal = pd.concat([countDataFinal, countDataFinal_FTG])\n",
    "\n",
    "# Visualize the data\n",
    "fig, ax = plt.subplots()\n",
    "countDataFinal.plot(ax=ax, column='type', legend=True)\n",
    "plt.show()"
   ]
  },
  {
   "cell_type": "markdown",
   "id": "dc37320f-2449-4fea-8b09-2a9dda53c2a5",
   "metadata": {},
   "source": [
    "####  Start Here If Data Prepped ----------------------------------------------"
   ]
  },
  {
   "cell_type": "code",
   "execution_count": 1,
   "id": "b67bbfbe-795c-4b5f-a169-4a4894690bc7",
   "metadata": {
    "collapsed": true,
    "jupyter": {
     "outputs_hidden": true
    },
    "tags": []
   },
   "outputs": [
    {
     "ename": "NameError",
     "evalue": "name 'countDataFinal' is not defined",
     "output_type": "error",
     "traceback": [
      "\u001b[1;31m---------------------------------------------------------------------------\u001b[0m",
      "\u001b[1;31mNameError\u001b[0m                                 Traceback (most recent call last)",
      "Cell \u001b[1;32mIn[1], line 2\u001b[0m\n\u001b[0;32m      1\u001b[0m \u001b[38;5;66;03m# Save and load data\u001b[39;00m\n\u001b[1;32m----> 2\u001b[0m countDataFinal\u001b[38;5;241m.\u001b[39mto_pickle(\u001b[38;5;124m\"\u001b[39m\u001b[38;5;124mcountDataFinal.pkl\u001b[39m\u001b[38;5;124m\"\u001b[39m)\n\u001b[0;32m      3\u001b[0m countDataFinal \u001b[38;5;241m=\u001b[39m pd\u001b[38;5;241m.\u001b[39mread_pickle(\u001b[38;5;124m\"\u001b[39m\u001b[38;5;124mcountDataFinal.pkl\u001b[39m\u001b[38;5;124m\"\u001b[39m)\n",
      "\u001b[1;31mNameError\u001b[0m: name 'countDataFinal' is not defined"
     ]
    }
   ],
   "source": [
    "# Save and load data\n",
    "countDataFinal.to_pickle(\"countDataFinal.pkl\")\n",
    "countDataFinal = pd.read_pickle(\"countDataFinal.pkl\")"
   ]
  },
  {
   "cell_type": "markdown",
   "id": "2cc5279e-b7bc-4feb-8f56-6fed906a3b78",
   "metadata": {},
   "source": [
    "#### Actual Routing ----------------------------------------------------------"
   ]
  },
  {
   "cell_type": "code",
   "execution_count": null,
   "id": "183291f5-e922-4d27-adcd-fadfbdbf07c7",
   "metadata": {},
   "outputs": [],
   "source": [
    "target = \"674-1\"\n",
    "X = 20"
   ]
  },
  {
   "cell_type": "code",
   "execution_count": null,
   "id": "e8174c3e-9e3f-4e09-92d6-cea2f91808fb",
   "metadata": {},
   "outputs": [],
   "source": [
    "# Define a function to geocode addresses\n",
    "geolocator = Nominatim(user_agent=\"myGeocoder\")\n",
    "\n",
    "def geocode_address(address):\n",
    "    location = geolocator.geocode(address)\n",
    "    if location is not None:\n",
    "        return location.latitude, location.longitude\n",
    "    else:\n",
    "        return None"
   ]
  },
  {
   "cell_type": "code",
   "execution_count": null,
   "id": "0f1d7796-d718-449e-bf36-0382a588470d",
   "metadata": {},
   "outputs": [],
   "source": [
    "# Define a function to call a routing API\n",
    "def call_here_routing_api(origin, destination):\n",
    "    # Replace with your actual HERE API credentials\n",
    "    app_id = \"APP_ID\"\n",
    "    app_code = \"APP_CODE\"\n",
    "\n",
    "    url = f\"https://route.api.here.com/routing/7.2/calculateroute.json?waypoint0={origin}&waypoint1={destination}&mode=fastest;car;traffic:enabled&app_id={app_id}&app_code={app_code}\"\n",
    "    \n",
    "    response = requests.get(url)\n",
    "    if response.status_code == 200:\n",
    "        data = response.json()\n",
    "        return data\n",
    "    else:\n",
    "        return None"
   ]
  },
  {
   "cell_type": "code",
   "execution_count": null,
   "id": "89406dc8-d7b8-431e-91d4-e8dc372c6d72",
   "metadata": {},
   "outputs": [],
   "source": [
    "# Define a function to calculate distance between two points\n",
    "def haversine_distance(lat1, lon1, lat2, lon2):\n",
    "    r = 6371  # Radius of the Earth in km\n",
    "    lat1_rad = np.radians(lat1)\n",
    "    lon1_rad = np.radians(lon1)\n",
    "    lat2_rad = np.radians(lat2)\n",
    "    lon2_rad = np.radians(lon2)\n",
    "    \n",
    "    dlat = lat2_rad - lat1_rad\n",
    "    dlon = lon2_rad - lon1_rad\n",
    "    \n",
    "    a = np.sin(dlat/2)**2 + np.cos(lat1_rad) * np.cos(lat2_rad) * np.sin(dlon/2)**2\n",
    "    c = 2 * np.arctan2(np.sqrt(a), np.sqrt(1-a))\n",
    "    \n",
    "    return r * c"
   ]
  },
  {
   "cell_type": "code",
   "execution_count": null,
   "id": "ccf97118-a1cb-48de-87e9-dad25239f351",
   "metadata": {},
   "outputs": [],
   "source": [
    "# Geocode the target address\n",
    "target_location = geocode_address(target)\n",
    "\n",
    "# Filter the countDataFinal based on the target\n",
    "target_data = countDataFinal[countDataFinal['si_station_num'] == target]"
   ]
  },
  {
   "cell_type": "code",
   "execution_count": null,
   "id": "16b72de1-1de5-41de-939a-b6faba57cfb2",
   "metadata": {},
   "outputs": [],
   "source": [
    "# Calculate the distance from the target to all data points\n",
    "distance_list = []\n",
    "for index, row in countDataFinal.iterrows():\n",
    "    lat1, lon1 = target_location\n",
    "    lat2, lon2 = geocode_address(row['si_station_num'])\n",
    "    distance = haversine_distance(lat1, lon1, lat2, lon2)\n",
    "    distance_list.append(distance)\n",
    "\n",
    "countDataFinal['distance_to_target'] = distance_list"
   ]
  },
  {
   "cell_type": "code",
   "execution_count": null,
   "id": "4e542335-9a37-443a-97d3-9bbb5ce18b6b",
   "metadata": {},
   "outputs": [],
   "source": [
    "# Find the nearest X features along the distance of the target locations \n",
    "nearest_X = countDataFinal.sort_values(by='distance_to_target').iloc[1:X+1]"
   ]
  },
  {
   "cell_type": "code",
   "execution_count": null,
   "id": "9d1266e0-322e-4a30-98c0-1408b6a023de",
   "metadata": {},
   "outputs": [],
   "source": [
    "# Call HERE routing API for each pair\n",
    "route_data = []\n",
    "\n",
    "for index, row in nearest_X.iterrows():\n",
    "    origin = f\"{target_location[0]},{target_location[1]}\"\n",
    "    destination = f\"{row['latitude']},{row['longitude']}\"\n",
    "    route = call_here_routing_api(origin, destination)\n",
    "    \n",
    "    if route:\n",
    "        route_data.append(route)"
   ]
  },
  {
   "cell_type": "markdown",
   "id": "1b820aa5-9c53-49c5-869a-0fe123e0a2c1",
   "metadata": {},
   "source": [
    "### Process the route data as needed -----------------------------------------"
   ]
  },
  {
   "cell_type": "code",
   "execution_count": null,
   "id": "ff502ab2-e298-4bd2-8ca1-e79347fd0743",
   "metadata": {},
   "outputs": [],
   "source": [
    "# Map check to confirm results\n",
    "# Create a map and add the route data to it using folium\n",
    "\n",
    "m = folium.Map(location=target_location, zoom_start=10)\n",
    "\n",
    "# Add the target location\n",
    "folium.Marker(location=target_location, icon=folium.Icon(color='blue')).add_to(m)\n",
    "\n",
    "# Add the route data\n",
    "for route in route_data:\n",
    "    # Extract the route coordinates from the response and add them as a Polyline\n",
    "    route_coords = [(step['position']['latitude'], step['position']['longitude']) for step in route['response']['route'][0]['leg'][0]['maneuver']]\n",
    "    folium.PolyLine(route_coords, color='red').add_to(m)\n",
    "\n",
    "# Save the map to an HTML file\n",
    "m.save('route_map.html')\n",
    "\n",
    "# Apply routing function to all Classification count locations\n",
    "# You can loop through all the stations and apply the routing function\n",
    "\n",
    "results = []\n",
    "\n",
    "for station in countDataFinal['si_station_num']:\n",
    "    if station != target:\n",
    "        route_result = RouteNearest(station, X)\n",
    "        results.append(route_result)\n",
    "\n",
    "# Union and Process Final Network -----------------------------------------"
   ]
  }
 ],
 "metadata": {
  "kernelspec": {
   "display_name": "Python 3 (ipykernel)",
   "language": "python",
   "name": "python3"
  },
  "language_info": {
   "codemirror_mode": {
    "name": "ipython",
    "version": 3
   },
   "file_extension": ".py",
   "mimetype": "text/x-python",
   "name": "python",
   "nbconvert_exporter": "python",
   "pygments_lexer": "ipython3",
   "version": "3.11.5"
  }
 },
 "nbformat": 4,
 "nbformat_minor": 5
}
