{
 "cells": [
  {
   "cell_type": "code",
   "execution_count": 238,
   "metadata": {},
   "outputs": [],
   "source": [
    "# import libraries\n",
    "import pandas as pd\n",
    "import geopandas as gpd\n",
    "from shapely.geometry import MultiPolygon\n",
    "import shapely.wkt\n",
    "from path import Path\n",
    "import os\n",
    "import sys\n",
    "import re\n",
    "from functools import reduce"
   ]
  },
  {
   "cell_type": "code",
   "execution_count": 240,
   "metadata": {},
   "outputs": [],
   "source": [
    "from shapely import wkt"
   ]
  },
  {
   "cell_type": "code",
   "execution_count": 242,
   "metadata": {},
   "outputs": [],
   "source": [
    "# path configuration\n",
    "working_directory = Path.getcwd()\n",
    "inputs_path = working_directory / 'inputs'\n",
    "outputs_path = working_directory / 'outputs'"
   ]
  },
  {
   "cell_type": "code",
   "execution_count": 244,
   "metadata": {},
   "outputs": [],
   "source": [
    "infile = inputs_path/ 'Use_Buffer_Exp_FeaturesToJSO.geojson'"
   ]
  },
  {
   "cell_type": "markdown",
   "metadata": {},
   "source": [
    "<H1> Important Functions </H1>"
   ]
  },
  {
   "cell_type": "code",
   "execution_count": 360,
   "metadata": {},
   "outputs": [],
   "source": [
    "# export function\n",
    "def to_file(callback, desired_name, extension='csv'):\n",
    "    current_files = sorted(outputs_path.files(desired_name + '*.' + extension))\n",
    "    if current_files:\n",
    "        last_file = current_files[-1]\n",
    "        os.remove(last_file)\n",
    "    final_name = '{}.{}'.format(desired_name, extension)\n",
    "    callback(outputs_path / final_name)\n",
    "    \n",
    "#merge to geo\n",
    "#this isn't used in this particular script, but once you have your geojsons, you can avoid having to swap\n",
    "#back to QGIS by using this function in your data cleaning scripts to join dataframes to a geodataframe\n",
    "def _geo_merge(frame,geo_frames_dictionary,geo):\n",
    "    if isinstance(frame.columns, pandas.core.index.MultiIndex):\n",
    "        frame.columns = [\n",
    "            '-'.join(x)\n",
    "            for x in frame.columns.values\n",
    "        ]\n",
    "    current_geo = geo_frames_dictionary[geo]\n",
    "    with_geo = current_geo.merge(frame, left_index=True,right_index=True).drop('',errors='ignore')\n",
    "    return with_geo\n",
    "\n",
    "# Import geos\n",
    "def import_geos(path,index_name):\n",
    "    shapes = geopandas.read_file(path)\n",
    "    shapes.plot()\n",
    "    output_frame = shapes[['name','geometry']]\n",
    "    return output_frame"
   ]
  },
  {
   "cell_type": "code",
   "execution_count": 362,
   "metadata": {},
   "outputs": [],
   "source": [
    "from shapely.geometry import Polygon\n",
    "from shapely.geometry import MultiPolygon\n",
    "\n",
    "lat_point_list = list(gdf.Latitude.unique())\n",
    "lon_point_list = list(gdf.Longitude.unique())\n",
    "\n",
    "polygon_geom = Polygon(zip(lon_point_list, lat_point_list))\n",
    "multipolygon_geom = MultiPolygon([polygon_geom])"
   ]
  },
  {
   "cell_type": "code",
   "execution_count": 364,
   "metadata": {},
   "outputs": [],
   "source": [
    "gdf = geopandas.read_file(infile)"
   ]
  },
  {
   "cell_type": "code",
   "execution_count": 366,
   "metadata": {},
   "outputs": [],
   "source": [
    "# function to serialize geometry to text string\n",
    "def to_wkt(x):\n",
    "    try:\n",
    "        return shapely.wkt.loads(x)\n",
    "    except:\n",
    "        return None"
   ]
  },
  {
   "cell_type": "code",
   "execution_count": 368,
   "metadata": {},
   "outputs": [],
   "source": [
    "# simplify geometries to avoid a query with 1M+ characters\n",
    "gdf['geometry'] = gdf['geometry'].simplify(0.05).buffer(0.)"
   ]
  },
  {
   "cell_type": "code",
   "execution_count": 370,
   "metadata": {},
   "outputs": [],
   "source": [
    "# convert geometry to shapely object\n",
    "gdf['geometry'] = gdf['geometry'].apply(lambda x: MultiPolygon([x]))"
   ]
  },
  {
   "cell_type": "code",
   "execution_count": 372,
   "metadata": {},
   "outputs": [],
   "source": [
    "to_drop = ['BUFF_DIST','ORIG_FID']\n",
    "gdf = gdf.drop(to_drop,axis=1)\n",
    "gdf.rename(columns={'OBJECTIT':'id'},inplace=True)"
   ]
  },
  {
   "cell_type": "code",
   "execution_count": 388,
   "metadata": {},
   "outputs": [],
   "source": [
    "# export\n",
    "with open('MoDotMNA.geojson' , 'w') as file:\n",
    "    file.write(gdf.to_json())"
   ]
  },
  {
   "cell_type": "markdown",
   "metadata": {},
   "source": [
    "<H1> Raw Geo Cleaning </H1>\n",
    "simplify coasts and delete island multiparts. only run this section if msa geo is a coastal msa"
   ]
  },
  {
   "cell_type": "code",
   "execution_count": 19,
   "metadata": {},
   "outputs": [
    {
     "data": {
      "text/html": [
       "<div>\n",
       "<style scoped>\n",
       "    .dataframe tbody tr th:only-of-type {\n",
       "        vertical-align: middle;\n",
       "    }\n",
       "\n",
       "    .dataframe tbody tr th {\n",
       "        vertical-align: top;\n",
       "    }\n",
       "\n",
       "    .dataframe thead th {\n",
       "        text-align: right;\n",
       "    }\n",
       "</style>\n",
       "<table border=\"1\" class=\"dataframe\">\n",
       "  <thead>\n",
       "    <tr style=\"text-align: right;\">\n",
       "      <th></th>\n",
       "      <th></th>\n",
       "      <th>label</th>\n",
       "      <th>geometry</th>\n",
       "    </tr>\n",
       "  </thead>\n",
       "  <tbody>\n",
       "    <tr>\n",
       "      <th>0</th>\n",
       "      <th>0</th>\n",
       "      <td>Kansas City, MO-KS Area</td>\n",
       "      <td>POLYGON ((-95.18796 39.12891, -95.18013 39.128...</td>\n",
       "    </tr>\n",
       "  </tbody>\n",
       "</table>\n",
       "</div>"
      ],
      "text/plain": [
       "                       label  \\\n",
       "0 0  Kansas City, MO-KS Area   \n",
       "\n",
       "                                              geometry  \n",
       "0 0  POLYGON ((-95.18796 39.12891, -95.18013 39.128...  "
      ]
     },
     "metadata": {},
     "output_type": "display_data"
    }
   ],
   "source": [
    "#simplify the shapes\n",
    "gdf.simplify(0.001, preserve_topology=True)\n",
    "\n",
    "#explode multipart features to single-parts\n",
    "msa = msa.explode()\n",
    "\n",
    "display(msa.head(10))"
   ]
  },
  {
   "cell_type": "code",
   "execution_count": 20,
   "metadata": {},
   "outputs": [],
   "source": [
    "#flatten index, delete multiparts\n",
    "msa = msa.reset_index(level=[0,1])\n",
    "msa = msa.drop('level_0', axis = 1)\n"
   ]
  },
  {
   "cell_type": "code",
   "execution_count": 21,
   "metadata": {},
   "outputs": [
    {
     "name": "stdout",
     "output_type": "stream",
     "text": [
      "0\n"
     ]
    },
    {
     "name": "stderr",
     "output_type": "stream",
     "text": [
      "<ipython-input-21-1c21964d19a1>:3: UserWarning: Geometry is in a geographic CRS. Results from 'area' are likely incorrect. Use 'GeoSeries.to_crs()' to re-project geometries to a projected CRS before this operation.\n",
      "\n",
      "  msa['area'] = msa.area\n"
     ]
    },
    {
     "data": {
      "text/html": [
       "<div>\n",
       "<style scoped>\n",
       "    .dataframe tbody tr th:only-of-type {\n",
       "        vertical-align: middle;\n",
       "    }\n",
       "\n",
       "    .dataframe tbody tr th {\n",
       "        vertical-align: top;\n",
       "    }\n",
       "\n",
       "    .dataframe thead th {\n",
       "        text-align: right;\n",
       "    }\n",
       "</style>\n",
       "<table border=\"1\" class=\"dataframe\">\n",
       "  <thead>\n",
       "    <tr style=\"text-align: right;\">\n",
       "      <th></th>\n",
       "      <th>label</th>\n",
       "      <th>geometry</th>\n",
       "      <th>area</th>\n",
       "    </tr>\n",
       "  </thead>\n",
       "  <tbody>\n",
       "    <tr>\n",
       "      <th>0</th>\n",
       "      <td>Kansas City, MO-KS Area</td>\n",
       "      <td>POLYGON ((-95.18796 39.12891, -95.18013 39.128...</td>\n",
       "      <td>1.984007</td>\n",
       "    </tr>\n",
       "  </tbody>\n",
       "</table>\n",
       "</div>"
      ],
      "text/plain": [
       "                     label                                           geometry  \\\n",
       "0  Kansas City, MO-KS Area  POLYGON ((-95.18796 39.12891, -95.18013 39.128...   \n",
       "\n",
       "       area  \n",
       "0  1.984007  "
      ]
     },
     "metadata": {},
     "output_type": "display_data"
    },
    {
     "data": {
      "text/plain": [
       "<AxesSubplot:>"
      ]
     },
     "metadata": {},
     "output_type": "display_data"
    },
    {
     "data": {
      "image/png": "[encoded data removed]",
      "text/plain": [
       "<Figure size 432x288 with 1 Axes>"
      ]
     },
     "metadata": {
      "needs_background": "light"
     },
     "output_type": "display_data"
    }
   ],
   "source": [
    "#find central msa geo by area\n",
    "msa = msa.to_crs(epsg=4326) #set to whatever msa plane crs make sense for your msa\n",
    "msa['area'] = msa.area\n",
    "print(msa['area'].idxmax())\n",
    "msa = msa.iloc[[0]] #replace with idmax output\n",
    "msa = msa.drop(['level_1'], axis=1)\n",
    "msa = msa.to_crs(epsg = 4326)\n",
    "display(msa, msa.plot())"
   ]
  },
  {
   "cell_type": "markdown",
   "metadata": {},
   "source": [
    "<H1> Custom Geo: Single Count vs msa Comarison </H1>"
   ]
  },
  {
   "cell_type": "code",
   "execution_count": 30,
   "metadata": {},
   "outputs": [],
   "source": [
    "# seperaet geo dataframes so that they can be conjoined\n",
    "\n",
    "gdf2 = gdf[gdf['name'] == '443114L']\n",
    "gdf =  gdf[gdf['name'] != '443114L']"
   ]
  },
  {
   "cell_type": "code",
   "execution_count": 42,
   "metadata": {},
   "outputs": [
    {
     "data": {
      "text/plain": [
       "<Axes: >"
      ]
     },
     "metadata": {},
     "output_type": "display_data"
    },
    {
     "data": {
      "image/png": "[encoded data removed]",
      "text/plain": [
       "<Figure size 640x480 with 1 Axes>"
      ]
     },
     "metadata": {},
     "output_type": "display_data"
    }
   ],
   "source": [
    "# create the difference of Clay and Florida (i.e. the Florida Donut)\n",
    "gdf_diff = geopandas.overlay(gdf2,gdf , how='difference')\n",
    "display(gdf_diff.plot())"
   ]
  },
  {
   "cell_type": "code",
   "execution_count": 59,
   "metadata": {},
   "outputs": [
    {
     "data": {
      "text/html": [
       "<div>\n",
       "<style scoped>\n",
       "    .dataframe tbody tr th:only-of-type {\n",
       "        vertical-align: middle;\n",
       "    }\n",
       "\n",
       "    .dataframe tbody tr th {\n",
       "        vertical-align: top;\n",
       "    }\n",
       "\n",
       "    .dataframe thead th {\n",
       "        text-align: right;\n",
       "    }\n",
       "</style>\n",
       "<table border=\"1\" class=\"dataframe\">\n",
       "  <thead>\n",
       "    <tr style=\"text-align: right;\">\n",
       "      <th></th>\n",
       "      <th>name</th>\n",
       "      <th>geometry_x</th>\n",
       "      <th>geometry_y</th>\n",
       "    </tr>\n",
       "  </thead>\n",
       "  <tbody>\n",
       "  </tbody>\n",
       "</table>\n",
       "</div>"
      ],
      "text/plain": [
       "Empty DataFrame\n",
       "Columns: [name, geometry_x, geometry_y]\n",
       "Index: []"
      ]
     },
     "execution_count": 59,
     "metadata": {},
     "output_type": "execute_result"
    }
   ],
   "source": [
    "gdf_diff.merge(gdf, left_on='name',right_on='name')"
   ]
  },
  {
   "cell_type": "code",
   "execution_count": 69,
   "metadata": {},
   "outputs": [
    {
     "ename": "AttributeError",
     "evalue": "'GeoDataFrame' object has no attribute 'append'",
     "output_type": "error",
     "traceback": [
      "\u001b[0;31m---------------------------------------------------------------------------\u001b[0m",
      "\u001b[0;31mAttributeError\u001b[0m                            Traceback (most recent call last)",
      "\u001b[0;32m/tmp/ipykernel_1148/2682176706.py\u001b[0m in \u001b[0;36m?\u001b[0;34m()\u001b[0m\n\u001b[0;32m----> 2\u001b[0;31m \u001b[0;31m# merge florida_difference + Clay all_counties_path to form the Clay vs Florida Comparative Geography\u001b[0m\u001b[0;34m\u001b[0m\u001b[0;34m\u001b[0m\u001b[0;34m\u001b[0m\u001b[0m\n\u001b[0m\u001b[1;32m      3\u001b[0m \u001b[0mmsa_all_counties_path_comp\u001b[0m \u001b[0;34m=\u001b[0m \u001b[0mgdf\u001b[0m\u001b[0;34m.\u001b[0m\u001b[0mappend\u001b[0m\u001b[0;34m(\u001b[0m\u001b[0mgdf2\u001b[0m\u001b[0;34m)\u001b[0m\u001b[0;34m\u001b[0m\u001b[0;34m\u001b[0m\u001b[0m\n\u001b[1;32m      4\u001b[0m \u001b[0mmsa_all_counties_path_comp\u001b[0m \u001b[0;34m=\u001b[0m \u001b[0mmsa_all_counties_path_comp\u001b[0m\u001b[0;34m.\u001b[0m\u001b[0mdrop\u001b[0m\u001b[0;34m(\u001b[0m\u001b[0;34m'area'\u001b[0m\u001b[0;34m,\u001b[0m \u001b[0maxis\u001b[0m\u001b[0;34m=\u001b[0m\u001b[0;36m1\u001b[0m\u001b[0;34m)\u001b[0m\u001b[0;34m\u001b[0m\u001b[0;34m\u001b[0m\u001b[0m\n\u001b[1;32m      5\u001b[0m \u001b[0mdisplay\u001b[0m\u001b[0;34m(\u001b[0m\u001b[0mmsa_all_counties_path_comp\u001b[0m\u001b[0;34m)\u001b[0m\u001b[0;34m\u001b[0m\u001b[0;34m\u001b[0m\u001b[0m\n",
      "\u001b[0;32m~/.conda/envs/CloudEnv/lib/python3.8/site-packages/pandas/core/generic.py\u001b[0m in \u001b[0;36m?\u001b[0;34m(self, name)\u001b[0m\n\u001b[1;32m   5985\u001b[0m             \u001b[0;32mand\u001b[0m \u001b[0mname\u001b[0m \u001b[0;32mnot\u001b[0m \u001b[0;32min\u001b[0m \u001b[0mself\u001b[0m\u001b[0;34m.\u001b[0m\u001b[0m_accessors\u001b[0m\u001b[0;34m\u001b[0m\u001b[0;34m\u001b[0m\u001b[0m\n\u001b[1;32m   5986\u001b[0m             \u001b[0;32mand\u001b[0m \u001b[0mself\u001b[0m\u001b[0;34m.\u001b[0m\u001b[0m_info_axis\u001b[0m\u001b[0;34m.\u001b[0m\u001b[0m_can_hold_identifiers_and_holds_name\u001b[0m\u001b[0;34m(\u001b[0m\u001b[0mname\u001b[0m\u001b[0;34m)\u001b[0m\u001b[0;34m\u001b[0m\u001b[0;34m\u001b[0m\u001b[0m\n\u001b[1;32m   5987\u001b[0m         ):\n\u001b[1;32m   5988\u001b[0m             \u001b[0;32mreturn\u001b[0m \u001b[0mself\u001b[0m\u001b[0;34m[\u001b[0m\u001b[0mname\u001b[0m\u001b[0;34m]\u001b[0m\u001b[0;34m\u001b[0m\u001b[0;34m\u001b[0m\u001b[0m\n\u001b[0;32m-> 5989\u001b[0;31m         \u001b[0;32mreturn\u001b[0m \u001b[0mobject\u001b[0m\u001b[0;34m.\u001b[0m\u001b[0m__getattribute__\u001b[0m\u001b[0;34m(\u001b[0m\u001b[0mself\u001b[0m\u001b[0;34m,\u001b[0m \u001b[0mname\u001b[0m\u001b[0;34m)\u001b[0m\u001b[0;34m\u001b[0m\u001b[0;34m\u001b[0m\u001b[0m\n\u001b[0m",
      "\u001b[0;31mAttributeError\u001b[0m: 'GeoDataFrame' object has no attribute 'append'"
     ]
    }
   ],
   "source": [
    "# merge florida_difference + Clay all_counties_path to form the Clay vs Florida Comparative Geography\n",
    "msa_all_counties_path_comp = gdf.append(gdf2)\n",
    "msa_all_counties_path_comp = msa_all_counties_path_comp.drop('area', axis=1)\n",
    "display(msa_all_counties_path_comp)\n",
    "msa_all_counties_path_comp.plot()"
   ]
  },
  {
   "cell_type": "markdown",
   "metadata": {},
   "source": [
    "<H1> Custom Geo: All Counties Plus buffer </H1>"
   ]
  },
  {
   "cell_type": "code",
   "execution_count": 24,
   "metadata": {},
   "outputs": [
    {
     "data": {
      "text/html": [
       "<div>\n",
       "<style scoped>\n",
       "    .dataframe tbody tr th:only-of-type {\n",
       "        vertical-align: middle;\n",
       "    }\n",
       "\n",
       "    .dataframe tbody tr th {\n",
       "        vertical-align: top;\n",
       "    }\n",
       "\n",
       "    .dataframe thead th {\n",
       "        text-align: right;\n",
       "    }\n",
       "</style>\n",
       "<table border=\"1\" class=\"dataframe\">\n",
       "  <thead>\n",
       "    <tr style=\"text-align: right;\">\n",
       "      <th></th>\n",
       "      <th>label</th>\n",
       "      <th>geometry</th>\n",
       "      <th>area</th>\n",
       "    </tr>\n",
       "  </thead>\n",
       "  <tbody>\n",
       "    <tr>\n",
       "      <th>0</th>\n",
       "      <td>Kansas City, MO-KS Area</td>\n",
       "      <td>POLYGON ((-95.18796 39.12891, -95.18013 39.128...</td>\n",
       "      <td>1.984007</td>\n",
       "    </tr>\n",
       "  </tbody>\n",
       "</table>\n",
       "</div>"
      ],
      "text/plain": [
       "                     label                                           geometry  \\\n",
       "0  Kansas City, MO-KS Area  POLYGON ((-95.18796 39.12891, -95.18013 39.128...   \n",
       "\n",
       "       area  \n",
       "0  1.984007  "
      ]
     },
     "execution_count": 24,
     "metadata": {},
     "output_type": "execute_result"
    }
   ],
   "source": [
    "msa"
   ]
  },
  {
   "cell_type": "code",
   "execution_count": 25,
   "metadata": {},
   "outputs": [
    {
     "name": "stderr",
     "output_type": "stream",
     "text": [
      "<ipython-input-25-297ef22041e6>:2: UserWarning: Geometry is in a geographic CRS. Results from 'buffer' are likely incorrect. Use 'GeoSeries.to_crs()' to re-project geometries to a projected CRS before this operation.\n",
      "\n",
      "  msa_buffer_geoseries = msa.buffer(1)\n",
      "<ipython-input-25-297ef22041e6>:10: UserWarning: CRS mismatch between the CRS of left geometries and the CRS of right geometries.\n",
      "Use `to_crs()` to reproject one of the input geometries to match the CRS of the other.\n",
      "\n",
      "Left CRS: None\n",
      "Right CRS: EPSG:4326\n",
      "\n",
      "  msa_buffer = geopandas.overlay(msa_buffer_df, msa, how='difference')\n"
     ]
    },
    {
     "data": {
      "text/html": [
       "<div>\n",
       "<style scoped>\n",
       "    .dataframe tbody tr th:only-of-type {\n",
       "        vertical-align: middle;\n",
       "    }\n",
       "\n",
       "    .dataframe tbody tr th {\n",
       "        vertical-align: top;\n",
       "    }\n",
       "\n",
       "    .dataframe thead th {\n",
       "        text-align: right;\n",
       "    }\n",
       "</style>\n",
       "<table border=\"1\" class=\"dataframe\">\n",
       "  <thead>\n",
       "    <tr style=\"text-align: right;\">\n",
       "      <th></th>\n",
       "      <th>label</th>\n",
       "      <th>geometry</th>\n",
       "    </tr>\n",
       "  </thead>\n",
       "  <tbody>\n",
       "    <tr>\n",
       "      <th>0</th>\n",
       "      <td>Kansas City, MO-KS Area</td>\n",
       "      <td>POLYGON ((-96.18790 39.11812, -96.18407 39.217...</td>\n",
       "    </tr>\n",
       "  </tbody>\n",
       "</table>\n",
       "</div>"
      ],
      "text/plain": [
       "                     label                                           geometry\n",
       "0  Kansas City, MO-KS Area  POLYGON ((-96.18790 39.11812, -96.18407 39.217..."
      ]
     },
     "metadata": {},
     "output_type": "display_data"
    },
    {
     "data": {
      "text/plain": [
       "<AxesSubplot:>"
      ]
     },
     "metadata": {},
     "output_type": "display_data"
    },
    {
     "data": {
      "image/png": "[encoded data removed]",
      "text/plain": [
       "<Figure size 432x288 with 1 Axes>"
      ]
     },
     "metadata": {
      "needs_background": "light"
     },
     "output_type": "display_data"
    },
    {
     "data": {
      "image/png": "[encoded data removed]",
      "text/plain": [
       "<Figure size 432x288 with 1 Axes>"
      ]
     },
     "metadata": {
      "needs_background": "light"
     },
     "output_type": "display_data"
    }
   ],
   "source": [
    "#create florida buffer ring\n",
    "msa_buffer_geoseries = msa.buffer(1)\n",
    "\n",
    "data = [['Kansas City, MO-KS Area', msa_buffer_geoseries[0]]] #add your desired label (ie. msa name) here in the first list item\n",
    "        \n",
    "msa_buffer_df = geopandas.GeoDataFrame(data, columns = ['label', 'geometry']) \n",
    "\n",
    "msa_buffer_df.plot()\n",
    "\n",
    "msa_buffer = geopandas.overlay(msa_buffer_df, msa, how='difference')\n",
    "\n",
    "display(msa_buffer, msa_buffer.plot())"
   ]
  },
  {
   "cell_type": "code",
   "execution_count": 26,
   "metadata": {},
   "outputs": [],
   "source": [
    "#append to all counties\n",
    "\n",
    "all_counties_comp = msa_buffer.append(all_counties, sort = True)"
   ]
  },
  {
   "cell_type": "code",
   "execution_count": 27,
   "metadata": {},
   "outputs": [
    {
     "data": {
      "text/html": [
       "<div>\n",
       "<style scoped>\n",
       "    .dataframe tbody tr th:only-of-type {\n",
       "        vertical-align: middle;\n",
       "    }\n",
       "\n",
       "    .dataframe tbody tr th {\n",
       "        vertical-align: top;\n",
       "    }\n",
       "\n",
       "    .dataframe thead th {\n",
       "        text-align: right;\n",
       "    }\n",
       "</style>\n",
       "<table border=\"1\" class=\"dataframe\">\n",
       "  <thead>\n",
       "    <tr style=\"text-align: right;\">\n",
       "      <th></th>\n",
       "      <th>geometry</th>\n",
       "      <th>label</th>\n",
       "    </tr>\n",
       "  </thead>\n",
       "  <tbody>\n",
       "    <tr>\n",
       "      <th>0</th>\n",
       "      <td>POLYGON ((-96.18790 39.11812, -96.18407 39.217...</td>\n",
       "      <td>Kansas City, MO-KS Area</td>\n",
       "    </tr>\n",
       "    <tr>\n",
       "      <th>0</th>\n",
       "      <td>MULTIPOLYGON (((-94.60226 39.74720, -94.57162 ...</td>\n",
       "      <td>Clinton County, MO</td>\n",
       "    </tr>\n",
       "    <tr>\n",
       "      <th>1</th>\n",
       "      <td>MULTIPOLYGON (((-95.05626 38.98212, -95.04986 ...</td>\n",
       "      <td>Johnson County, KS</td>\n",
       "    </tr>\n",
       "    <tr>\n",
       "      <th>2</th>\n",
       "      <td>MULTIPOLYGON (((-95.06583 38.38994, -94.85117 ...</td>\n",
       "      <td>Linn County, KS</td>\n",
       "    </tr>\n",
       "    <tr>\n",
       "      <th>3</th>\n",
       "      <td>MULTIPOLYGON (((-94.61327 38.38872, -94.61286 ...</td>\n",
       "      <td>Bates County, MO</td>\n",
       "    </tr>\n",
       "    <tr>\n",
       "      <th>4</th>\n",
       "      <td>MULTIPOLYGON (((-94.60752 39.04409, -94.60735 ...</td>\n",
       "      <td>Jackson County, MO</td>\n",
       "    </tr>\n",
       "    <tr>\n",
       "      <th>5</th>\n",
       "      <td>MULTIPOLYGON (((-94.60125 39.53037, -94.60066 ...</td>\n",
       "      <td>Platte County, MO</td>\n",
       "    </tr>\n",
       "    <tr>\n",
       "      <th>6</th>\n",
       "      <td>MULTIPOLYGON (((-94.60173 39.15960, -94.60037 ...</td>\n",
       "      <td>Clay County, MO</td>\n",
       "    </tr>\n",
       "    <tr>\n",
       "      <th>7</th>\n",
       "      <td>MULTIPOLYGON (((-94.10482 39.14351, -94.09681 ...</td>\n",
       "      <td>Lafayette County, MO</td>\n",
       "    </tr>\n",
       "    <tr>\n",
       "      <th>8</th>\n",
       "      <td>MULTIPOLYGON (((-95.18089 39.41922, -94.96885 ...</td>\n",
       "      <td>Leavenworth County, KS</td>\n",
       "    </tr>\n",
       "    <tr>\n",
       "      <th>9</th>\n",
       "      <td>MULTIPOLYGON (((-94.21064 39.45468, -94.20842 ...</td>\n",
       "      <td>Ray County, MO</td>\n",
       "    </tr>\n",
       "    <tr>\n",
       "      <th>10</th>\n",
       "      <td>MULTIPOLYGON (((-95.05641 38.73859, -94.60951 ...</td>\n",
       "      <td>Miami County, KS</td>\n",
       "    </tr>\n",
       "    <tr>\n",
       "      <th>11</th>\n",
       "      <td>MULTIPOLYGON (((-94.77554 39.20061, -94.77034 ...</td>\n",
       "      <td>Wyandotte County, KS</td>\n",
       "    </tr>\n",
       "    <tr>\n",
       "      <th>12</th>\n",
       "      <td>MULTIPOLYGON (((-94.60951 38.73810, -94.60762 ...</td>\n",
       "      <td>Cass County, MO</td>\n",
       "    </tr>\n",
       "    <tr>\n",
       "      <th>13</th>\n",
       "      <td>MULTIPOLYGON (((-94.20596 39.74584, -94.20543 ...</td>\n",
       "      <td>Caldwell County, MO</td>\n",
       "    </tr>\n",
       "  </tbody>\n",
       "</table>\n",
       "</div>"
      ],
      "text/plain": [
       "                                             geometry                    label\n",
       "0   POLYGON ((-96.18790 39.11812, -96.18407 39.217...  Kansas City, MO-KS Area\n",
       "0   MULTIPOLYGON (((-94.60226 39.74720, -94.57162 ...       Clinton County, MO\n",
       "1   MULTIPOLYGON (((-95.05626 38.98212, -95.04986 ...       Johnson County, KS\n",
       "2   MULTIPOLYGON (((-95.06583 38.38994, -94.85117 ...          Linn County, KS\n",
       "3   MULTIPOLYGON (((-94.61327 38.38872, -94.61286 ...         Bates County, MO\n",
       "4   MULTIPOLYGON (((-94.60752 39.04409, -94.60735 ...       Jackson County, MO\n",
       "5   MULTIPOLYGON (((-94.60125 39.53037, -94.60066 ...        Platte County, MO\n",
       "6   MULTIPOLYGON (((-94.60173 39.15960, -94.60037 ...          Clay County, MO\n",
       "7   MULTIPOLYGON (((-94.10482 39.14351, -94.09681 ...     Lafayette County, MO\n",
       "8   MULTIPOLYGON (((-95.18089 39.41922, -94.96885 ...   Leavenworth County, KS\n",
       "9   MULTIPOLYGON (((-94.21064 39.45468, -94.20842 ...           Ray County, MO\n",
       "10  MULTIPOLYGON (((-95.05641 38.73859, -94.60951 ...         Miami County, KS\n",
       "11  MULTIPOLYGON (((-94.77554 39.20061, -94.77034 ...     Wyandotte County, KS\n",
       "12  MULTIPOLYGON (((-94.60951 38.73810, -94.60762 ...          Cass County, MO\n",
       "13  MULTIPOLYGON (((-94.20596 39.74584, -94.20543 ...      Caldwell County, MO"
      ]
     },
     "metadata": {},
     "output_type": "display_data"
    },
    {
     "data": {
      "text/plain": [
       "<AxesSubplot:>"
      ]
     },
     "metadata": {},
     "output_type": "display_data"
    },
    {
     "data": {
      "image/png": "[encoded data removed]",
      "text/plain": [
       "<Figure size 432x288 with 1 Axes>"
      ]
     },
     "metadata": {
      "needs_background": "light"
     },
     "output_type": "display_data"
    }
   ],
   "source": [
    "display(all_counties_comp, all_counties_comp.plot())"
   ]
  },
  {
   "cell_type": "markdown",
   "metadata": {},
   "source": [
    "<H1> Exporting the final files</H1>"
   ]
  },
  {
   "cell_type": "code",
   "execution_count": 28,
   "metadata": {},
   "outputs": [
    {
     "data": {
      "text/html": [
       "<div>\n",
       "<style scoped>\n",
       "    .dataframe tbody tr th:only-of-type {\n",
       "        vertical-align: middle;\n",
       "    }\n",
       "\n",
       "    .dataframe tbody tr th {\n",
       "        vertical-align: top;\n",
       "    }\n",
       "\n",
       "    .dataframe thead th {\n",
       "        text-align: right;\n",
       "    }\n",
       "</style>\n",
       "<table border=\"1\" class=\"dataframe\">\n",
       "  <thead>\n",
       "    <tr style=\"text-align: right;\">\n",
       "      <th></th>\n",
       "      <th>geometry</th>\n",
       "      <th>label</th>\n",
       "    </tr>\n",
       "  </thead>\n",
       "  <tbody>\n",
       "    <tr>\n",
       "      <th>0</th>\n",
       "      <td>MULTIPOLYGON (((-93.47727 39.29219, -93.48001 ...</td>\n",
       "      <td>Kansas City, MO-KS Area</td>\n",
       "    </tr>\n",
       "    <tr>\n",
       "      <th>0</th>\n",
       "      <td>MULTIPOLYGON (((-94.60226 39.74720, -94.57162 ...</td>\n",
       "      <td>Clinton County, MO</td>\n",
       "    </tr>\n",
       "    <tr>\n",
       "      <th>1</th>\n",
       "      <td>MULTIPOLYGON (((-95.05626 38.98212, -95.04986 ...</td>\n",
       "      <td>Johnson County, KS</td>\n",
       "    </tr>\n",
       "    <tr>\n",
       "      <th>2</th>\n",
       "      <td>MULTIPOLYGON (((-95.06583 38.38994, -94.85117 ...</td>\n",
       "      <td>Linn County, KS</td>\n",
       "    </tr>\n",
       "    <tr>\n",
       "      <th>3</th>\n",
       "      <td>MULTIPOLYGON (((-94.61327 38.38872, -94.61286 ...</td>\n",
       "      <td>Bates County, MO</td>\n",
       "    </tr>\n",
       "    <tr>\n",
       "      <th>4</th>\n",
       "      <td>MULTIPOLYGON (((-94.60752 39.04409, -94.60735 ...</td>\n",
       "      <td>Jackson County, MO</td>\n",
       "    </tr>\n",
       "    <tr>\n",
       "      <th>5</th>\n",
       "      <td>MULTIPOLYGON (((-94.60125 39.53037, -94.60066 ...</td>\n",
       "      <td>Platte County, MO</td>\n",
       "    </tr>\n",
       "    <tr>\n",
       "      <th>6</th>\n",
       "      <td>MULTIPOLYGON (((-94.60173 39.15960, -94.60037 ...</td>\n",
       "      <td>Clay County, MO</td>\n",
       "    </tr>\n",
       "    <tr>\n",
       "      <th>7</th>\n",
       "      <td>MULTIPOLYGON (((-94.10482 39.14351, -94.09681 ...</td>\n",
       "      <td>Lafayette County, MO</td>\n",
       "    </tr>\n",
       "    <tr>\n",
       "      <th>8</th>\n",
       "      <td>MULTIPOLYGON (((-95.18089 39.41922, -94.96885 ...</td>\n",
       "      <td>Leavenworth County, KS</td>\n",
       "    </tr>\n",
       "    <tr>\n",
       "      <th>9</th>\n",
       "      <td>MULTIPOLYGON (((-94.21064 39.45468, -94.20842 ...</td>\n",
       "      <td>Ray County, MO</td>\n",
       "    </tr>\n",
       "    <tr>\n",
       "      <th>10</th>\n",
       "      <td>MULTIPOLYGON (((-95.05641 38.73859, -94.60951 ...</td>\n",
       "      <td>Miami County, KS</td>\n",
       "    </tr>\n",
       "    <tr>\n",
       "      <th>11</th>\n",
       "      <td>MULTIPOLYGON (((-94.77554 39.20061, -94.77034 ...</td>\n",
       "      <td>Wyandotte County, KS</td>\n",
       "    </tr>\n",
       "    <tr>\n",
       "      <th>12</th>\n",
       "      <td>MULTIPOLYGON (((-94.60951 38.73810, -94.60762 ...</td>\n",
       "      <td>Cass County, MO</td>\n",
       "    </tr>\n",
       "    <tr>\n",
       "      <th>13</th>\n",
       "      <td>MULTIPOLYGON (((-94.20596 39.74584, -94.20543 ...</td>\n",
       "      <td>Caldwell County, MO</td>\n",
       "    </tr>\n",
       "  </tbody>\n",
       "</table>\n",
       "</div>"
      ],
      "text/plain": [
       "                                             geometry                    label\n",
       "0   MULTIPOLYGON (((-93.47727 39.29219, -93.48001 ...  Kansas City, MO-KS Area\n",
       "0   MULTIPOLYGON (((-94.60226 39.74720, -94.57162 ...       Clinton County, MO\n",
       "1   MULTIPOLYGON (((-95.05626 38.98212, -95.04986 ...       Johnson County, KS\n",
       "2   MULTIPOLYGON (((-95.06583 38.38994, -94.85117 ...          Linn County, KS\n",
       "3   MULTIPOLYGON (((-94.61327 38.38872, -94.61286 ...         Bates County, MO\n",
       "4   MULTIPOLYGON (((-94.60752 39.04409, -94.60735 ...       Jackson County, MO\n",
       "5   MULTIPOLYGON (((-94.60125 39.53037, -94.60066 ...        Platte County, MO\n",
       "6   MULTIPOLYGON (((-94.60173 39.15960, -94.60037 ...          Clay County, MO\n",
       "7   MULTIPOLYGON (((-94.10482 39.14351, -94.09681 ...     Lafayette County, MO\n",
       "8   MULTIPOLYGON (((-95.18089 39.41922, -94.96885 ...   Leavenworth County, KS\n",
       "9   MULTIPOLYGON (((-94.21064 39.45468, -94.20842 ...           Ray County, MO\n",
       "10  MULTIPOLYGON (((-95.05641 38.73859, -94.60951 ...         Miami County, KS\n",
       "11  MULTIPOLYGON (((-94.77554 39.20061, -94.77034 ...     Wyandotte County, KS\n",
       "12  MULTIPOLYGON (((-94.60951 38.73810, -94.60762 ...          Cass County, MO\n",
       "13  MULTIPOLYGON (((-94.20596 39.74584, -94.20543 ...      Caldwell County, MO"
      ]
     },
     "execution_count": 28,
     "metadata": {},
     "output_type": "execute_result"
    }
   ],
   "source": [
    "# end files we're going to export\n",
    "all_counties_comp\n",
    "msa_all_counties_path_comp"
   ]
  },
  {
   "cell_type": "code",
   "execution_count": 29,
   "metadata": {},
   "outputs": [],
   "source": [
    "callback = lambda p: all_counties_comp.to_file(p, driver='GeoJSON')\n",
    "to_file(callback, 'customgeo_allcounties_vs_msa', 'json')"
   ]
  },
  {
   "cell_type": "code",
   "execution_count": null,
   "metadata": {},
   "outputs": [],
   "source": []
  }
 ],
 "metadata": {
  "kernelspec": {
   "display_name": "Python 3 (ipykernel)",
   "language": "python",
   "name": "python3"
  },
  "language_info": {
   "codemirror_mode": {
    "name": "ipython",
    "version": 3
   },
   "file_extension": ".py",
   "mimetype": "text/x-python",
   "name": "python",
   "nbconvert_exporter": "python",
   "pygments_lexer": "ipython3",
   "version": "3.11.5"
  },
  "widgets": {
   "application/vnd.jupyter.widget-state+json": {
    "state": {},
    "version_major": 2,
    "version_minor": 0
   }
  }
 },
 "nbformat": 4,
 "nbformat_minor": 4
}
