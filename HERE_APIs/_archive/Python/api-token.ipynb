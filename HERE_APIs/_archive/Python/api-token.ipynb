{
 "cells": [
  {
   "cell_type": "markdown",
   "id": "5486074c-dabb-41c6-a4bd-1e8ec0161aac",
   "metadata": {},
   "source": [
    "[example apis](https://www.here.com/docs/bundle/data-sdk-for-python-developer-guide-v2/page/topics/notebooks.html)"
   ]
  },
  {
   "cell_type": "code",
   "execution_count": 2,
   "id": "c8679e4d-fd1b-4fd1-b644-e95d3fbec24f",
   "metadata": {
    "tags": []
   },
   "outputs": [],
   "source": [
    "import os\n",
    "import json\n",
    "from path import Path\n",
    "import requests\n",
    "import certifi\n",
    "import urllib3\n",
    "urllib3.disable_warnings()"
   ]
  },
  {
   "cell_type": "markdown",
   "id": "2b71099e-732d-4f4f-82fe-f63610c361e4",
   "metadata": {},
   "source": [
    "### Try with API key"
   ]
  },
  {
   "cell_type": "code",
   "execution_count": 2,
   "id": "b95edea9-dac0-4a10-8419-7a5b00654b44",
   "metadata": {
    "tags": []
   },
   "outputs": [],
   "source": [
    "import os\n",
    "from here_location_services import LS\n",
    "from here_location_services.config.routing_config import ROUTING_RETURN\n",
    "from here_location_services import PlatformCredentials\n",
    "# from here_map_widget import Map, Marker, GeoJSON\n",
    "from path import Path"
   ]
  },
  {
   "cell_type": "code",
   "execution_count": 14,
   "id": "c94c2487-27df-465d-bcdc-1a7fc9876ef7",
   "metadata": {
    "tags": []
   },
   "outputs": [],
   "source": [
    "# path configuration\n",
    "working_directory = Path.getcwd()\n",
    "inputs_path = working_directory / 'inputs'\n",
    "outputs_path = working_directory / 'outputs'"
   ]
  },
  {
   "cell_type": "code",
   "execution_count": 15,
   "id": "3f6a1cfb-2ab2-4e58-adee-015657b08e51",
   "metadata": {
    "tags": []
   },
   "outputs": [
    {
     "data": {
      "text/plain": [
       "Path('C:\\\\Users\\\\nanzawi\\\\OneDrive - HDR, Inc\\\\Data_Science\\\\MODOT_RR\\\\HERE_APIs\\\\_archive\\\\Python')"
      ]
     },
     "execution_count": 15,
     "metadata": {},
     "output_type": "execute_result"
    }
   ],
   "source": [
    "working_directory\n",
    "OneDrive - HDR, Inc/Data_Science/MODOT_RR/HERE_APIs/credentials/credentials.properties"
   ]
  },
  {
   "cell_type": "code",
   "execution_count": null,
   "id": "932bfa9d-4231-4398-83d8-230a0ca3194e",
   "metadata": {},
   "outputs": [],
   "source": []
  },
  {
   "cell_type": "code",
   "execution_count": null,
   "id": "714c6c78-99cf-4872-86f7-67c68691d02b",
   "metadata": {},
   "outputs": [],
   "source": [
    "platform_credentials = PlatformCredentials.from_credentials_file(\"<Path_to_file>˓→\")\n",
    "ls = LS(platform_credentials=platform_credentials)\n"
   ]
  },
  {
   "cell_type": "code",
   "execution_count": 3,
   "id": "766a4589-3218-4c3f-a0fd-275969836223",
   "metadata": {
    "tags": []
   },
   "outputs": [
    {
     "ename": "ConfigException",
     "evalue": "Missing environmental variables: HERE_USER_ID, HERE_CLIENT_ID, HERE_ACCESS_KEY_ID, HERE_ACCESS_KEY_SECRET",
     "output_type": "error",
     "traceback": [
      "\u001b[1;31m---------------------------------------------------------------------------\u001b[0m",
      "\u001b[1;31mFileNotFoundError\u001b[0m                         Traceback (most recent call last)",
      "File \u001b[1;32m~\\AppData\\Local\\anaconda3\\Lib\\site-packages\\here_location_services\\platform\\credentials.py:55\u001b[0m, in \u001b[0;36mPlatformCredentials.from_default\u001b[1;34m(cls)\u001b[0m\n\u001b[0;32m     54\u001b[0m \u001b[38;5;28;01mtry\u001b[39;00m:\n\u001b[1;32m---> 55\u001b[0m     credentials \u001b[38;5;241m=\u001b[39m \u001b[38;5;28mcls\u001b[39m\u001b[38;5;241m.\u001b[39mfrom_credentials_file(DEFAULT_CREDENTIALS_PATH)\n\u001b[0;32m     56\u001b[0m \u001b[38;5;28;01mexcept\u001b[39;00m (ConfigException, \u001b[38;5;167;01mFileNotFoundError\u001b[39;00m):\n",
      "File \u001b[1;32m~\\AppData\\Local\\anaconda3\\Lib\\site-packages\\here_location_services\\platform\\credentials.py:74\u001b[0m, in \u001b[0;36mPlatformCredentials.from_credentials_file\u001b[1;34m(cls, path)\u001b[0m\n\u001b[0;32m     73\u001b[0m \u001b[38;5;28;01mtry\u001b[39;00m:\n\u001b[1;32m---> 74\u001b[0m     credentials_properties \u001b[38;5;241m=\u001b[39m ConfigFactory\u001b[38;5;241m.\u001b[39mparse_file(credentials_path)\n\u001b[0;32m     75\u001b[0m     user \u001b[38;5;241m=\u001b[39m credentials_properties\u001b[38;5;241m.\u001b[39mget(\u001b[38;5;124m\"\u001b[39m\u001b[38;5;124mhere.user.id\u001b[39m\u001b[38;5;124m\"\u001b[39m)\n",
      "File \u001b[1;32m~\\AppData\\Local\\anaconda3\\Lib\\site-packages\\pyhocon\\config_parser.py:145\u001b[0m, in \u001b[0;36mConfigFactory.parse_file\u001b[1;34m(cls, filename, encoding, required, resolve, unresolved_value)\u001b[0m\n\u001b[0;32m    144\u001b[0m \u001b[38;5;28;01mif\u001b[39;00m required:\n\u001b[1;32m--> 145\u001b[0m     \u001b[38;5;28;01mraise\u001b[39;00m e\n\u001b[0;32m    146\u001b[0m logger\u001b[38;5;241m.\u001b[39mwarn(\u001b[38;5;124m'\u001b[39m\u001b[38;5;124mCannot include file \u001b[39m\u001b[38;5;132;01m%s\u001b[39;00m\u001b[38;5;124m. File does not exist or cannot be read.\u001b[39m\u001b[38;5;124m'\u001b[39m, filename)\n",
      "File \u001b[1;32m~\\AppData\\Local\\anaconda3\\Lib\\site-packages\\pyhocon\\config_parser.py:140\u001b[0m, in \u001b[0;36mConfigFactory.parse_file\u001b[1;34m(cls, filename, encoding, required, resolve, unresolved_value)\u001b[0m\n\u001b[0;32m    139\u001b[0m \u001b[38;5;28;01mtry\u001b[39;00m:\n\u001b[1;32m--> 140\u001b[0m     \u001b[38;5;28;01mwith\u001b[39;00m codecs\u001b[38;5;241m.\u001b[39mopen(filename, \u001b[38;5;124m'\u001b[39m\u001b[38;5;124mr\u001b[39m\u001b[38;5;124m'\u001b[39m, encoding\u001b[38;5;241m=\u001b[39mencoding) \u001b[38;5;28;01mas\u001b[39;00m fd:\n\u001b[0;32m    141\u001b[0m         content \u001b[38;5;241m=\u001b[39m fd\u001b[38;5;241m.\u001b[39mread()\n",
      "File \u001b[1;32m<frozen codecs>:906\u001b[0m, in \u001b[0;36mopen\u001b[1;34m(filename, mode, encoding, errors, buffering)\u001b[0m\n",
      "\u001b[1;31mFileNotFoundError\u001b[0m: [Errno 2] No such file or directory: 'C:\\\\Users\\\\nanzawi/.here/credentials.properties'",
      "\nDuring handling of the above exception, another exception occurred:\n",
      "\u001b[1;31mConfigException\u001b[0m                           Traceback (most recent call last)",
      "Cell \u001b[1;32mIn[3], line 2\u001b[0m\n\u001b[0;32m      1\u001b[0m LS_API_KEY \u001b[38;5;241m=\u001b[39m os\u001b[38;5;241m.\u001b[39menviron\u001b[38;5;241m.\u001b[39mget(\u001b[38;5;124m'\u001b[39m\u001b[38;5;124mxrcYx5euwWciYdK-coeSXcu16kjdJAujw9INxZRAp_U\u001b[39m\u001b[38;5;124m'\u001b[39m) \u001b[38;5;66;03m# Get API KEY from environment.\u001b[39;00m\n\u001b[1;32m----> 2\u001b[0m ls \u001b[38;5;241m=\u001b[39m LS(api_key\u001b[38;5;241m=\u001b[39mLS_API_KEY)\n",
      "File \u001b[1;32m~\\AppData\\Local\\anaconda3\\Lib\\site-packages\\here_location_services\\ls.py:67\u001b[0m, in \u001b[0;36mLS.__init__\u001b[1;34m(self, api_key, platform_credentials, proxies, country)\u001b[0m\n\u001b[0;32m     65\u001b[0m \u001b[38;5;28mself\u001b[39m\u001b[38;5;241m.\u001b[39mauth: Optional[Auth] \u001b[38;5;241m=\u001b[39m \u001b[38;5;28;01mNone\u001b[39;00m\n\u001b[0;32m     66\u001b[0m \u001b[38;5;28;01mif\u001b[39;00m \u001b[38;5;129;01mnot\u001b[39;00m api_key:\n\u001b[1;32m---> 67\u001b[0m     credentials \u001b[38;5;241m=\u001b[39m platform_credentials \u001b[38;5;129;01mor\u001b[39;00m PlatformCredentials\u001b[38;5;241m.\u001b[39mfrom_default()\n\u001b[0;32m     68\u001b[0m     aaa_oauth2_api \u001b[38;5;241m=\u001b[39m AAAOauth2Api(\n\u001b[0;32m     69\u001b[0m         base_url\u001b[38;5;241m=\u001b[39mcredentials\u001b[38;5;241m.\u001b[39mcred_properties[\u001b[38;5;124m\"\u001b[39m\u001b[38;5;124mendpoint\u001b[39m\u001b[38;5;124m\"\u001b[39m], proxies\u001b[38;5;241m=\u001b[39m{}\n\u001b[0;32m     70\u001b[0m     )\n\u001b[0;32m     71\u001b[0m     \u001b[38;5;28mself\u001b[39m\u001b[38;5;241m.\u001b[39mauth \u001b[38;5;241m=\u001b[39m Auth(credentials\u001b[38;5;241m=\u001b[39mcredentials, aaa_oauth2_api\u001b[38;5;241m=\u001b[39maaa_oauth2_api)\n",
      "File \u001b[1;32m~\\AppData\\Local\\anaconda3\\Lib\\site-packages\\here_location_services\\platform\\credentials.py:57\u001b[0m, in \u001b[0;36mPlatformCredentials.from_default\u001b[1;34m(cls)\u001b[0m\n\u001b[0;32m     55\u001b[0m     credentials \u001b[38;5;241m=\u001b[39m \u001b[38;5;28mcls\u001b[39m\u001b[38;5;241m.\u001b[39mfrom_credentials_file(DEFAULT_CREDENTIALS_PATH)\n\u001b[0;32m     56\u001b[0m \u001b[38;5;28;01mexcept\u001b[39;00m (ConfigException, \u001b[38;5;167;01mFileNotFoundError\u001b[39;00m):\n\u001b[1;32m---> 57\u001b[0m     credentials \u001b[38;5;241m=\u001b[39m \u001b[38;5;28mcls\u001b[39m\u001b[38;5;241m.\u001b[39mfrom_env()\n\u001b[0;32m     59\u001b[0m credentials\u001b[38;5;241m.\u001b[39mpatch_using_env()\n\u001b[0;32m     60\u001b[0m \u001b[38;5;28;01mreturn\u001b[39;00m credentials\n",
      "File \u001b[1;32m~\\AppData\\Local\\anaconda3\\Lib\\site-packages\\here_location_services\\platform\\credentials.py:130\u001b[0m, in \u001b[0;36mPlatformCredentials.from_env\u001b[1;34m(cls)\u001b[0m\n\u001b[0;32m    127\u001b[0m     missing_env_vars\u001b[38;5;241m.\u001b[39mappend(\u001b[38;5;124m\"\u001b[39m\u001b[38;5;124mHERE_ACCESS_KEY_SECRET\u001b[39m\u001b[38;5;124m\"\u001b[39m)\n\u001b[0;32m    129\u001b[0m \u001b[38;5;28;01mif\u001b[39;00m missing_env_vars:\n\u001b[1;32m--> 130\u001b[0m     \u001b[38;5;28;01mraise\u001b[39;00m ConfigException(\n\u001b[0;32m    131\u001b[0m         \u001b[38;5;124m\"\u001b[39m\u001b[38;5;124mMissing environmental variables: \u001b[39m\u001b[38;5;132;01m{}\u001b[39;00m\u001b[38;5;124m\"\u001b[39m\u001b[38;5;241m.\u001b[39mformat(\u001b[38;5;124m\"\u001b[39m\u001b[38;5;124m, \u001b[39m\u001b[38;5;124m\"\u001b[39m\u001b[38;5;241m.\u001b[39mjoin(missing_env_vars))\n\u001b[0;32m    132\u001b[0m     )\n\u001b[0;32m    134\u001b[0m \u001b[38;5;66;03m# at this points, we should have all the variables with a non-empty value\u001b[39;00m\n\u001b[0;32m    135\u001b[0m \u001b[38;5;28;01massert\u001b[39;00m user \u001b[38;5;129;01mand\u001b[39;00m client \u001b[38;5;129;01mand\u001b[39;00m access_key_id \u001b[38;5;129;01mand\u001b[39;00m access_key_secret \u001b[38;5;129;01mand\u001b[39;00m endpoint\n",
      "\u001b[1;31mConfigException\u001b[0m: Missing environmental variables: HERE_USER_ID, HERE_CLIENT_ID, HERE_ACCESS_KEY_ID, HERE_ACCESS_KEY_SECRET"
     ]
    }
   ],
   "source": [
    "LS_API_KEY = os.environ.get('xrcYx5euwWciYdK-coeSXcu16kjdJAujw9INxZRAp_U') # Get API KEY from environment.\n",
    "ls = LS(api_key=LS_API_KEY)"
   ]
  },
  {
   "cell_type": "code",
   "execution_count": 2,
   "id": "11c1afc3-b751-4fa2-90a9-6adbc343475a",
   "metadata": {
    "collapsed": true,
    "jupyter": {
     "outputs_hidden": true
    },
    "tags": []
   },
   "outputs": [
    {
     "ename": "ConfigException",
     "evalue": "Missing environmental variables: HERE_USER_ID, HERE_CLIENT_ID, HERE_ACCESS_KEY_ID, HERE_ACCESS_KEY_SECRET",
     "output_type": "error",
     "traceback": [
      "\u001b[1;31m---------------------------------------------------------------------------\u001b[0m",
      "\u001b[1;31mFileNotFoundError\u001b[0m                         Traceback (most recent call last)",
      "File \u001b[1;32m~\\AppData\\Local\\anaconda3\\Lib\\site-packages\\here_location_services\\platform\\credentials.py:55\u001b[0m, in \u001b[0;36mPlatformCredentials.from_default\u001b[1;34m(cls)\u001b[0m\n\u001b[0;32m     54\u001b[0m \u001b[38;5;28;01mtry\u001b[39;00m:\n\u001b[1;32m---> 55\u001b[0m     credentials \u001b[38;5;241m=\u001b[39m \u001b[38;5;28mcls\u001b[39m\u001b[38;5;241m.\u001b[39mfrom_credentials_file(DEFAULT_CREDENTIALS_PATH)\n\u001b[0;32m     56\u001b[0m \u001b[38;5;28;01mexcept\u001b[39;00m (ConfigException, \u001b[38;5;167;01mFileNotFoundError\u001b[39;00m):\n",
      "File \u001b[1;32m~\\AppData\\Local\\anaconda3\\Lib\\site-packages\\here_location_services\\platform\\credentials.py:74\u001b[0m, in \u001b[0;36mPlatformCredentials.from_credentials_file\u001b[1;34m(cls, path)\u001b[0m\n\u001b[0;32m     73\u001b[0m \u001b[38;5;28;01mtry\u001b[39;00m:\n\u001b[1;32m---> 74\u001b[0m     credentials_properties \u001b[38;5;241m=\u001b[39m ConfigFactory\u001b[38;5;241m.\u001b[39mparse_file(credentials_path)\n\u001b[0;32m     75\u001b[0m     user \u001b[38;5;241m=\u001b[39m credentials_properties\u001b[38;5;241m.\u001b[39mget(\u001b[38;5;124m\"\u001b[39m\u001b[38;5;124mhere.user.id\u001b[39m\u001b[38;5;124m\"\u001b[39m)\n",
      "File \u001b[1;32m~\\AppData\\Local\\anaconda3\\Lib\\site-packages\\pyhocon\\config_parser.py:145\u001b[0m, in \u001b[0;36mConfigFactory.parse_file\u001b[1;34m(cls, filename, encoding, required, resolve, unresolved_value)\u001b[0m\n\u001b[0;32m    144\u001b[0m \u001b[38;5;28;01mif\u001b[39;00m required:\n\u001b[1;32m--> 145\u001b[0m     \u001b[38;5;28;01mraise\u001b[39;00m e\n\u001b[0;32m    146\u001b[0m logger\u001b[38;5;241m.\u001b[39mwarn(\u001b[38;5;124m'\u001b[39m\u001b[38;5;124mCannot include file \u001b[39m\u001b[38;5;132;01m%s\u001b[39;00m\u001b[38;5;124m. File does not exist or cannot be read.\u001b[39m\u001b[38;5;124m'\u001b[39m, filename)\n",
      "File \u001b[1;32m~\\AppData\\Local\\anaconda3\\Lib\\site-packages\\pyhocon\\config_parser.py:140\u001b[0m, in \u001b[0;36mConfigFactory.parse_file\u001b[1;34m(cls, filename, encoding, required, resolve, unresolved_value)\u001b[0m\n\u001b[0;32m    139\u001b[0m \u001b[38;5;28;01mtry\u001b[39;00m:\n\u001b[1;32m--> 140\u001b[0m     \u001b[38;5;28;01mwith\u001b[39;00m codecs\u001b[38;5;241m.\u001b[39mopen(filename, \u001b[38;5;124m'\u001b[39m\u001b[38;5;124mr\u001b[39m\u001b[38;5;124m'\u001b[39m, encoding\u001b[38;5;241m=\u001b[39mencoding) \u001b[38;5;28;01mas\u001b[39;00m fd:\n\u001b[0;32m    141\u001b[0m         content \u001b[38;5;241m=\u001b[39m fd\u001b[38;5;241m.\u001b[39mread()\n",
      "File \u001b[1;32m<frozen codecs>:906\u001b[0m, in \u001b[0;36mopen\u001b[1;34m(filename, mode, encoding, errors, buffering)\u001b[0m\n",
      "\u001b[1;31mFileNotFoundError\u001b[0m: [Errno 2] No such file or directory: 'C:\\\\Users\\\\nanzawi/.here/credentials.properties'",
      "\nDuring handling of the above exception, another exception occurred:\n",
      "\u001b[1;31mConfigException\u001b[0m                           Traceback (most recent call last)",
      "Cell \u001b[1;32mIn[2], line 2\u001b[0m\n\u001b[0;32m      1\u001b[0m LS_API_KEY \u001b[38;5;241m=\u001b[39m os\u001b[38;5;241m.\u001b[39menviron\u001b[38;5;241m.\u001b[39mget(\u001b[38;5;124m'\u001b[39m\u001b[38;5;124mxrcYx5euwWciYdK-coeSXcu16kjdJAujw9INxZRAp_U\u001b[39m\u001b[38;5;124m'\u001b[39m) \u001b[38;5;66;03m# Get API KEY from environment.\u001b[39;00m\n\u001b[1;32m----> 2\u001b[0m ls \u001b[38;5;241m=\u001b[39m LS(api_key\u001b[38;5;241m=\u001b[39mLS_API_KEY)\n\u001b[0;32m      3\u001b[0m result \u001b[38;5;241m=\u001b[39m ls\u001b[38;5;241m.\u001b[39mtruck_route(\n\u001b[0;32m      4\u001b[0m origin\u001b[38;5;241m=\u001b[39m[\u001b[38;5;241m52.51375\u001b[39m, \u001b[38;5;241m13.42462\u001b[39m],\n\u001b[0;32m      5\u001b[0m destination\u001b[38;5;241m=\u001b[39m[\u001b[38;5;241m52.52332\u001b[39m, \u001b[38;5;241m13.42800\u001b[39m],\n\u001b[1;32m   (...)\u001b[0m\n\u001b[0;32m     11\u001b[0m ],\n\u001b[0;32m     12\u001b[0m )\n\u001b[0;32m     13\u001b[0m geo_json \u001b[38;5;241m=\u001b[39m result\u001b[38;5;241m.\u001b[39mto_geojson()\n",
      "File \u001b[1;32m~\\AppData\\Local\\anaconda3\\Lib\\site-packages\\here_location_services\\ls.py:67\u001b[0m, in \u001b[0;36mLS.__init__\u001b[1;34m(self, api_key, platform_credentials, proxies, country)\u001b[0m\n\u001b[0;32m     65\u001b[0m \u001b[38;5;28mself\u001b[39m\u001b[38;5;241m.\u001b[39mauth: Optional[Auth] \u001b[38;5;241m=\u001b[39m \u001b[38;5;28;01mNone\u001b[39;00m\n\u001b[0;32m     66\u001b[0m \u001b[38;5;28;01mif\u001b[39;00m \u001b[38;5;129;01mnot\u001b[39;00m api_key:\n\u001b[1;32m---> 67\u001b[0m     credentials \u001b[38;5;241m=\u001b[39m platform_credentials \u001b[38;5;129;01mor\u001b[39;00m PlatformCredentials\u001b[38;5;241m.\u001b[39mfrom_default()\n\u001b[0;32m     68\u001b[0m     aaa_oauth2_api \u001b[38;5;241m=\u001b[39m AAAOauth2Api(\n\u001b[0;32m     69\u001b[0m         base_url\u001b[38;5;241m=\u001b[39mcredentials\u001b[38;5;241m.\u001b[39mcred_properties[\u001b[38;5;124m\"\u001b[39m\u001b[38;5;124mendpoint\u001b[39m\u001b[38;5;124m\"\u001b[39m], proxies\u001b[38;5;241m=\u001b[39m{}\n\u001b[0;32m     70\u001b[0m     )\n\u001b[0;32m     71\u001b[0m     \u001b[38;5;28mself\u001b[39m\u001b[38;5;241m.\u001b[39mauth \u001b[38;5;241m=\u001b[39m Auth(credentials\u001b[38;5;241m=\u001b[39mcredentials, aaa_oauth2_api\u001b[38;5;241m=\u001b[39maaa_oauth2_api)\n",
      "File \u001b[1;32m~\\AppData\\Local\\anaconda3\\Lib\\site-packages\\here_location_services\\platform\\credentials.py:57\u001b[0m, in \u001b[0;36mPlatformCredentials.from_default\u001b[1;34m(cls)\u001b[0m\n\u001b[0;32m     55\u001b[0m     credentials \u001b[38;5;241m=\u001b[39m \u001b[38;5;28mcls\u001b[39m\u001b[38;5;241m.\u001b[39mfrom_credentials_file(DEFAULT_CREDENTIALS_PATH)\n\u001b[0;32m     56\u001b[0m \u001b[38;5;28;01mexcept\u001b[39;00m (ConfigException, \u001b[38;5;167;01mFileNotFoundError\u001b[39;00m):\n\u001b[1;32m---> 57\u001b[0m     credentials \u001b[38;5;241m=\u001b[39m \u001b[38;5;28mcls\u001b[39m\u001b[38;5;241m.\u001b[39mfrom_env()\n\u001b[0;32m     59\u001b[0m credentials\u001b[38;5;241m.\u001b[39mpatch_using_env()\n\u001b[0;32m     60\u001b[0m \u001b[38;5;28;01mreturn\u001b[39;00m credentials\n",
      "File \u001b[1;32m~\\AppData\\Local\\anaconda3\\Lib\\site-packages\\here_location_services\\platform\\credentials.py:130\u001b[0m, in \u001b[0;36mPlatformCredentials.from_env\u001b[1;34m(cls)\u001b[0m\n\u001b[0;32m    127\u001b[0m     missing_env_vars\u001b[38;5;241m.\u001b[39mappend(\u001b[38;5;124m\"\u001b[39m\u001b[38;5;124mHERE_ACCESS_KEY_SECRET\u001b[39m\u001b[38;5;124m\"\u001b[39m)\n\u001b[0;32m    129\u001b[0m \u001b[38;5;28;01mif\u001b[39;00m missing_env_vars:\n\u001b[1;32m--> 130\u001b[0m     \u001b[38;5;28;01mraise\u001b[39;00m ConfigException(\n\u001b[0;32m    131\u001b[0m         \u001b[38;5;124m\"\u001b[39m\u001b[38;5;124mMissing environmental variables: \u001b[39m\u001b[38;5;132;01m{}\u001b[39;00m\u001b[38;5;124m\"\u001b[39m\u001b[38;5;241m.\u001b[39mformat(\u001b[38;5;124m\"\u001b[39m\u001b[38;5;124m, \u001b[39m\u001b[38;5;124m\"\u001b[39m\u001b[38;5;241m.\u001b[39mjoin(missing_env_vars))\n\u001b[0;32m    132\u001b[0m     )\n\u001b[0;32m    134\u001b[0m \u001b[38;5;66;03m# at this points, we should have all the variables with a non-empty value\u001b[39;00m\n\u001b[0;32m    135\u001b[0m \u001b[38;5;28;01massert\u001b[39;00m user \u001b[38;5;129;01mand\u001b[39;00m client \u001b[38;5;129;01mand\u001b[39;00m access_key_id \u001b[38;5;129;01mand\u001b[39;00m access_key_secret \u001b[38;5;129;01mand\u001b[39;00m endpoint\n",
      "\u001b[1;31mConfigException\u001b[0m: Missing environmental variables: HERE_USER_ID, HERE_CLIENT_ID, HERE_ACCESS_KEY_ID, HERE_ACCESS_KEY_SECRET"
     ]
    }
   ],
   "source": [
    "LS_API_KEY = os.environ.get('xrcYx5euwWciYdK-coeSXcu16kjdJAujw9INxZRAp_U') # Get API KEY from environment.\n",
    "ls = LS(api_key=LS_API_KEY)\n",
    "result = ls.truck_route(\n",
    "origin=[52.51375, 13.42462],\n",
    "destination=[52.52332, 13.42800],\n",
    "return_results=[\n",
    "ROUTING_RETURN.polyline,\n",
    "ROUTING_RETURN.elevation,\n",
    "ROUTING_RETURN.instructions,\n",
    "ROUTING_RETURN.actions,\n",
    "],\n",
    ")\n",
    "geo_json = result.to_geojson()"
   ]
  },
  {
   "cell_type": "code",
   "execution_count": 4,
   "id": "f5fc271b-2e37-416a-bf22-1bebd0094b6e",
   "metadata": {
    "tags": []
   },
   "outputs": [],
   "source": [
    "YOUR_API_KEY= 'xrcYx5euwWciYdK-coeSXcu16kjdJAujw9INxZRAp_U'"
   ]
  },
  {
   "cell_type": "code",
   "execution_count": 5,
   "id": "03409a76-94dc-4635-aed0-66d90ef3588a",
   "metadata": {
    "tags": []
   },
   "outputs": [],
   "source": [
    "origin = \"52.5200,13.4050\"  # Example: Berlin, Germany\n",
    "destination = \"48.8566,2.3522\"  # Example: Paris, France"
   ]
  },
  {
   "cell_type": "code",
   "execution_count": 6,
   "id": "a6bb9d15-c143-4eaf-9654-d5ddb53d4cbc",
   "metadata": {},
   "outputs": [],
   "source": [
    "# Define a function to call a routing API\n",
    "def call_here_routing_api(origin, destination):\n",
    "    # Replace with your actual HERE API credentials\n",
    "    app_id = \"vL9srpcDJwofq0vTpFQy\"\n",
    "    app_code = \"coeSXcu16kjdJAujw9INxZRAp_U\"\n",
    "\n",
    "    url = f'https://router.hereapi.com/v8/routes?transportMode=car&origin={origin}&destination={destination}&return=summary&apikey={YOUR_API_KEY}'\n",
    "    response = requests.get(url, verify = False)\n",
    "    if response.status_code == 200:\n",
    "        data = response.json()\n",
    "        return data\n",
    "    else:\n",
    "        return None"
   ]
  },
  {
   "cell_type": "code",
   "execution_count": 7,
   "id": "b495b5c9-998a-43f8-8fcf-c894fd016bf0",
   "metadata": {
    "tags": []
   },
   "outputs": [],
   "source": [
    "result = call_here_routing_api(origin, destination)"
   ]
  },
  {
   "cell_type": "code",
   "execution_count": null,
   "id": "d5cd6c68-95cc-477c-a1f6-ad6d78346622",
   "metadata": {},
   "outputs": [],
   "source": [
    "# Load Freight Trip Generation (Block Level Data)\n",
    "[insert]\n",
    "\n",
    "\n",
    "# Load Pop and Other Base Data\n",
    "[insert]\n",
    "\n",
    "# Load original classification count location file\n",
    "[insert]\n",
    "\n",
    "# Import the new points added through ArcGIS\n",
    "[insert]\n",
    "\n",
    "# Import the Cumberland County Truck Study Counts\n",
    "[insert]\n",
    "\n",
    "# Combine CCC East and West\n",
    "\n",
    "# create esri basemap\n",
    "\n",
    "# Import FAF Points\n",
    "[insert]\n",
    "\n",
    "# Chart of ADT vs. Truck Percentage\n",
    "\n",
    "# Combine all data together for analysis"
   ]
  },
  {
   "cell_type": "code",
   "execution_count": null,
   "id": "093ca0dd-3fc6-4651-be0b-d43f8ecb1eaa",
   "metadata": {},
   "outputs": [],
   "source": [
    "# Incorporation of FTG Estimates to Create New Points -------------------------------"
   ]
  },
  {
   "cell_type": "code",
   "execution_count": null,
   "id": "cba73879-19bb-43b1-abfa-af79917d6550",
   "metadata": {},
   "outputs": [],
   "source": [
    "# Process assumes that FTG block centroids can be treated as if they are actual \n",
    "# point count locations. FTG estimates don't include combo ADT estimate, so that \n",
    "# is estimated based on average percentages of surrounding count locations."
   ]
  },
  {
   "cell_type": "code",
   "execution_count": null,
   "id": "8e72c16c-2565-47f5-9c10-1e50f0b549d9",
   "metadata": {},
   "outputs": [],
   "source": [
    "# Actual Routing ----------------------------------------------------------"
   ]
  },
  {
   "cell_type": "code",
   "execution_count": null,
   "id": "d7cb1214-2c87-4b3d-b688-32d4afcf7d71",
   "metadata": {},
   "outputs": [],
   "source": [
    "# Use HERE Routing API to estimate the travel time for a random sample of up to 100 trips under the existing conditions. \n",
    "# Note that in some instances, theHERE Routing API selected a path that did not include"
   ]
  },
  {
   "cell_type": "code",
   "execution_count": null,
   "id": "6de32ea8-694a-4653-9e85-444701f0da88",
   "metadata": {},
   "outputs": [],
   "source": [
    "# Use HERE Routing API to estimate the travel time for each trip assuming that the crossing in question is closed."
   ]
  },
  {
   "cell_type": "code",
   "execution_count": null,
   "id": "bbf6d32c-8a04-40ca-a87f-93b578915e2b",
   "metadata": {},
   "outputs": [],
   "source": [
    "# Calculate the average change in trip duration (hours) between the before and after closure conditions."
   ]
  },
  {
   "cell_type": "code",
   "execution_count": null,
   "id": "f53d7e64-6224-4cf5-86c8-58dfcb99d04a",
   "metadata": {},
   "outputs": [],
   "source": [
    "# Multiply the average change in trip duration by the average daily highway traffic at each crossing. The resulting value provides the estimated daily vehicle-hours of delay if the crossing were to be closed."
   ]
  },
  {
   "cell_type": "code",
   "execution_count": null,
   "id": "375d583d-1978-4078-becf-f1a84134c954",
   "metadata": {},
   "outputs": [],
   "source": [
    "target <- \"674-1\"\n",
    "X <- 20\n",
    "\n",
    "def route_nearest (target, x)\n",
    "    adt = df.filter(si_station_num=='target')\n",
    "    targetTruckADT = df.filter(si_station_num=='target')    \n",
    "    targetComboADT = df.filter(si_station_num=='target')    \n",
    "\n",
    "  # Find nearest X features by combining columns and ranking based on id\n",
    "  # Create duplicate starting points to match number of X features\n",
    "  StartingX <- countDataFinal %>% filter(si_station_num == target) %>% slice(rep(1, each = X))\n",
    "  \n",
    "  # Call HERE routing API, find endpoints, computes a route from the StartingX points to the NearestX points using the \"car\" transport mode, avoid toll roads\n",
    "  routeAPI <- route(origin = StartingX, destination = NearestX, \n",
    "                    transport_mode = \"car\", avoid_feature = \"tollRoad\", routing_mode = \"fast\") %>%\n",
    "    mutate(circuity = distance * 3.28084 / NearestX$dist) %>%\n",
    "    filter(circuity < 3) #, filter for routes with ciruitry less than 3\n",
    "  routeAPIEnds <- routeAPI %>% st_drop_geometry() %>% bind_cols(routeAPI %>% st_endpoint()) %>% st_as_sf() #store in routeAPIEnds df\n",
    " "
   ]
  },
  {
   "cell_type": "code",
   "execution_count": null,
   "id": "1e249d14-ff6b-48fa-9bb9-61f13e0affe5",
   "metadata": {},
   "outputs": [],
   "source": [
    "\n",
    "\n",
    "target <- \"674-1\"\n",
    "X <- 20\n",
    "RouteNearest <- function(target, X) {\n",
    "  \n",
    "  targetADT <- countDataFinal %>% st_drop_geometry() %>% filter(si_station_num == target) %>% select(adt) %>% pull()\n",
    "  targetTruckADT <- countDataFinal %>% st_drop_geometry() %>% filter(si_station_num == target) %>% select(truckADT) %>% pull()\n",
    "  targetComboADT <- countDataFinal %>% st_drop_geometry() %>% filter(si_station_num == target) %>% select(comboADT) %>% pull()\n",
    "  \n",
    "  # Find nearest X features\n",
    "  NearestX <- \n",
    "    countDataFinal %>% \n",
    "    bind_cols(st_distance(countDataFinal, countDataFinal %>% filter(si_station_num == target))) %>%\n",
    "    rename(dist = starts_with(\"...\")) %>%\n",
    "    mutate(rank = rank(dist)) %>%\n",
    "    filter(between(rank, 2, X+1)) %>%\n",
    "    mutate(id = row_number())\n",
    "  \n",
    "  # Create duplicate starting points to match number of X features\n",
    "  StartingX <- countDataFinal %>% filter(si_station_num == target) %>% slice(rep(1, each = X))\n",
    "  \n",
    "  # Call HERE routing API, find endpoints, computes a route from the StartingX points to the NearestX points using the \"car\" transport mode, avoid toll roads\n",
    "  routeAPI <- route(origin = StartingX, destination = NearestX, \n",
    "                    transport_mode = \"car\", avoid_feature = \"tollRoad\", routing_mode = \"fast\") %>%\n",
    "    mutate(circuity = distance * 3.28084 / NearestX$dist) %>%\n",
    "    filter(circuity < 3) #, filter for routes with ciruitry less than 3\n",
    "  routeAPIEnds <- routeAPI %>% st_drop_geometry() %>% bind_cols(routeAPI %>% st_endpoint()) %>% st_as_sf() #store in routeAPIEnds df\n",
    "  \n",
    "#create a FinalEnds dataframe from the route api dataframe with a buffer set at 20 and spatially join to routeAPIEnds dataframe. group by data id, calculate count of intersecting features \n",
    "  FinalEnds <- routeAPI %>% st_buffer(20) %>% st_join(routeAPIEnds %>% select(rank), join = st_intersects) %>% \n",
    "    group_by(id) %>% summarize(count = n()) %>% filter(count == 1) %>% st_drop_geometry()\n",
    " \n",
    "#NearestX data frame created, filters rows where  id == id in FinalEnds df\n",
    "NearestXFinal <- \n",
    "    NearestX %>% filter(id %in% FinalEnds$id) %>%\n",
    "    st_drop_geometry() %>% #drop geometry\n",
    "    transmute( #create new columns with info from routeAPI df\n",
    "      target = target,\n",
    "      targetADT = targetADT,\n",
    "      targetTruckADT = targetTruckADT,\n",
    "      targetComboADT = targetComboADT,\n",
    "      id = id,\n",
    "      propTargetADT = round((adt / sum(adt)) * targetADT, 0), # Not actually a proportion\n",
    "      propTargetTruck = paste0(round(truckADT / sum(truckADT) * 100, 1), \"%\"),\n",
    "      propTargetCombo = paste0(round(comboADT / sum(comboADT) * 100, 1), \"%\"),\n",
    "      estADT = round((adt / sum(adt)) * targetADT, 0),\n",
    "      estTruckADT = round((truckADT / sum(truckADT)) * targetTruckADT, 0),\n",
    "      estComboADT = round((comboADT / sum(comboADT)) * targetComboADT, 0)\n",
    "    ) %>%\n",
    "    left_join(routeAPI %>% select(id)) %>% st_as_sf() #conver to spatial dataframe as st_as_sf. NOTE: I don't know much about R, but similar to python someitmes aggregate functions inherent to packages/the programing language don't work onspatial dataframes so you hae to make the dataframe non-spatial, perform these functions, and then make it spatial again\n",
    "  \n",
    "  return(NearestXFinal)\n",
    "  \n",
    "}\n",
    "#tm_shape(NearestXFinal) + tm_lines(col = \"propTargetADT\")\n",
    "\n",
    "\n",
    "# Map check to confirm results\n",
    "sta1 <- \"8-4-431\"\n",
    "sta1 <- \"8-6-116\"\n",
    "sta1 <- \"552-1\"\n",
    "sta1 <- \"552S-2\"\n",
    "sta1 <- \"684-2\"\n",
    "sta1 <- \"FTG_197\"\n",
    "sta1 <- \"674-1\"\n",
    "sta1 <- \"FAF_238\"\n",
    "sta1 <- \"8-8-032\"\n",
    "sta1 <- \"FAF_343\"\n",
    "routeTest <- RouteNearest(sta1, 50)\n",
    "tm_basemap(c(\"CartoDB.Positron\", \"OpenStreetMap.Mapnik\", \"Esri.WorldImagery\")) +\n",
    "  tm_shape(routeTest) + tm_lines(lwd = \"estTruckADT\", col = \"estTruckADT\", scale = 10, palette = \"Reds\", popup.vars = TRUE)+\n",
    "  tm_shape(routeTest %>% st_endpoint()) + tm_dots(col = \"red\", size = 0.2) +\n",
    "  tm_shape(countDataFinal %>% filter(si_station_num == sta1)) + tm_dots(col = \"green\", size = 1) + \n",
    "  tm_shape(countDataFinal) + tm_dots() + tm_text(\"si_station_num\", ymod = 1)\n",
    "\n",
    "\n",
    "# Apply routing function to all Classification count locations\n",
    "# Running this was resulting in errors: features with invalid spherical geometry\n",
    "      # start <- Sys.time()\n",
    "      # SJTPO_Truck_RoutingPart1 <- map_dfr(countDataFinal$si_station_num, ~RouteNearest(., 12))\n",
    "      # Sys.time() - start\n",
    "\n",
    "# Retry this as a loop with error handling\n",
    "SJTPO_Truck_Routing01 <- map_dfr(countDataFinal$si_station_num[1:1], ~RouteNearest(., 20))\n",
    "default <- SJTPO_Truck_Routing01[1,] %>% mutate(target = \"error\")\n",
    "    \n",
    "    # start <- Sys.time()\n",
    "    # SJTPO_Truck_Routing <- default\n",
    "    # for(i in 1:nrow(countDataFinal)) {\n",
    "    #   t <- tryCatch((RouteNearest(countDataFinal$si_station_num[i], 20)), error = function(e) default)\n",
    "    #   SJTPO_Truck_Routing <- bind_rows(SJTPO_Truck_Routing, t)\n",
    "    #   print(i)\n",
    "    # }\n",
    "    # Sys.time() - start\n",
    "    # \n",
    "    # save(SJTPO_Truck_Routing, file = \"SJTPO_Truck_Routing3.RData\")\n",
    "load(\"SJTPO_Truck_Routing3.RData\")\n",
    "\n",
    "\n",
    "# Figure of all the different points used for the routing interpolation by filtering on dataframe specifics\n",
    "tmap_mode(\"plot\")\n",
    "tm_shape(basetile, unit = \"imperial\") + tm_rgb() +\n",
    "  tm_shape(SJTPO_Truck_Routing) + tm_lines() +\n",
    "    tm_shape(countDataFinal %>% mutate(\n",
    "      type = case_when(\n",
    "        type == \"border\" ~ \"Dummy Points\",\n",
    "        type == \"CCC\" ~ \"Cumberland County Truck Study\",\n",
    "        type == \"Collection\" ~ \"Collected for Study\",\n",
    "        type == \"new\" ~ \"NJDOT Counts\",\n",
    "        type == \"Original\" ~ \"NJDOT Counts\",\n",
    "        type == \"FAF\" ~ \"FAF Estimates\",\n",
    "        TRUE ~ \"Freight Trip Generation Estimates\"\n",
    "      )\n",
    "    )) + tm_dots(col = \"type\", size = 0.15, palette = c(\"gray50\", \"red\", \"black\", \"orange\", \"purple\"), title = \"Count Type\") +\n",
    "  DefMapSet\n",
    "tmap_save(filename = \"Plot/Draft/Tech Memo 1/2.3.X CountLocations4.png\", width = 7, height = 6.3, dpi = 300, units = \"in\") \n",
    "\n",
    "\n",
    "\n",
    "# Union and Process Final Network -----------------------------------------\n",
    "\n",
    "# Create buffer of the routing shapes\n",
    "SJTPO_Truck_Routing_Buff <- \n",
    "  SJTPO_Truck_Routing %>% # from routing daataframe set crs and create a buffer of 90 (miles?km?_ into a shape file\n",
    "  st_transform(crs) %>% st_buffer(20) %>% st_transform(4326)\n",
    "tm_shape(SJTPO_Truck_Routing_Buff) + tm_polygons()\n",
    "\n",
    "# Export to ArcGIS to complete full Union;\n",
    "# Have not yet figured out how to duplicate this functionality in R\n",
    "SJTPO_Truck_Routing_Buff %>% write_sf(\"Spatial/Vector/ForGIS/SJTPO_Truck_Routing_Buff_v3.shp\")\n",
    "\n",
    "SJTPO_Truck_Routing_Buff_Union <- read_sf(\"Spatial/Vector/ForGIS/SJTPO_Truck_Routing_Buff_v3_Union.shp\") #upload from local drive\n",
    "\n",
    "# Create single-feature version of the routing spatial file, then simplify\n",
    "SJTPO_Truck_Routing_Summarize <- SJTPO_Truck_Routing %>% select(geometry) %>% st_union()\n",
    "SJTPO_Truck_Routing_Summarize_SF <- SJTPO_Truck_Routing_Summarize %>% st_as_sf() #%>% rmapshaper::ms_simplify()\n",
    "\n",
    "tm_shape(SJTPO_Truck_Routing_Summarize_SF) + tm_lines()\n",
    "\n",
    "save(SJTPO_Truck_Routing_Summarize_SF, file = \"SJTPO_Truck_Routing_Summarize.RData\")\n",
    "load(\"SJTPO_Truck_Routing_Summarize.RData\")\n",
    "\n",
    "      # # Intersect the simplified roadway spatial file with the Unioned buffer shapes\n",
    "      # start <- Sys.time()\n",
    "      # roadIntersect <- st_intersection(SJTPO_Truck_Routing_Summarize_SF, SJTPO_Truck_Routing_Buff_Union)\n",
    "      # roadIntersect2 <- \n",
    "      #   roadIntersect %>% st_as_sf() %>% st_transform(crs) %>% \n",
    "      #   mutate(\n",
    "      #     segID = row_number(roadIntersect),\n",
    "      #     length = st_length(.)\n",
    "      #   ) %>% \n",
    "      #   filter(as.numeric(length) > 50)\n",
    "      # Sys.time() - start\n",
    "\n",
    "# Create id based on the shape and length of the union \n",
    "# In theory, this should allow for summarizing across individual same shapes\n",
    "# to generate a single shape with the volumes estimates\n",
    "sf_use_s2(FALSE)\n",
    "mergeUnion <- \n",
    "  SJTPO_Truck_Routing_Buff_Union %>% mutate(id = paste0(Shape_Leng, \"-\", Shape_Area)) %>% \n",
    "  #st_drop_geometry() %>% \n",
    "  filter(Shape_Leng > 0.001) %>% group_by(id) %>%  @ grup by locations in union that are larger than .001\n",
    "  summarize(\n",
    "    count = n(),\n",
    "    estADT = sum(estADT), # get summary stats for regular ADT, truck ADT, and call adt these next fe wlines\n",
    "    estTADT = sum(estTADT),\n",
    "    estCADT = sum(estCADT)\n",
    "    )\n",
    "save(mergeUnion, file = \"mergeUnion.RData\")\n",
    "load(\"mergeUnion.RData\")\n",
    "\n",
    "# Intersect the merged union above with the roadway line network\n",
    "mergeUnionLines <- SJTPO_Truck_Routing_Summarize_SF %>% st_intersection(mergeUnion) # perform a spatila intersction where only overlapping geoemetries are kept\n",
    "\n",
    "# sho win es\n",
    "tm_basemap(c(\"CartoDB.Positron\", \"OpenStreetMap.Mapnik\", \"Esri.WorldImagery\")) +\n",
    "  tm_shape(mergeUnionLines) + tm_lines(col = \"estTADT\", style = \"jenks\", lwd = 3, popup.vars = TRUE) +\n",
    "  tm_shape(countDataFinal %>% st_buffer(50)) + tm_borders() + tm_text(\"truckADT\")\n",
    "\n",
    "smoothPoints <- \n",
    "  countDataFinal %>% st_buffer(50) %>% \n",
    "  st_intersection(mergeUnionLines %>% st_transform(crs)) %>% \n",
    "  st_cast(\"POINT\") %>% st_drop_geometry() %>% \n",
    "  mutate(\n",
    "    adjADT = round(estADT + (adt - estADT)/2, 0),\n",
    "    adjTADT = round(estTADT + (truckADT - estTADT)/2, 0),\n",
    "    adjCADT = round(estCADT + (comboADT - estCADT)/2, 0)\n",
    "    ) %>%\n",
    "  group_by(id) %>% summarize(\n",
    "    adjADT = mean(adjADT),\n",
    "    adjTADT = mean(adjTADT),\n",
    "    adjCADT = mean(adjCADT)\n",
    "  )\n",
    "\n",
    "mergeUnionLinesAdj <- \n",
    "  mergeUnionLines %>% left_join(smoothPoints) %>%\n",
    "  transmute(\n",
    "    id,\n",
    "    finADT = if_else(is.na(adjADT), estADT, adjADT),\n",
    "    finTADT = if_else(is.na(adjTADT), estTADT, adjTADT),\n",
    "    finCADT = if_else(is.na(adjCADT), estCADT, adjCADT),\n",
    "    percTruck = finTADT/finADT,\n",
    "    above10perc = if_else(percTruck >= 0.1, \"Yes\", \"No\")\n",
    "  ) %>%\n",
    "  st_intersection(counties %>% st_transform(4326))\n",
    "\n",
    "tmap_mode(\"view\")\n",
    "tm_basemap(c(\"CartoDB.Positron\", \"OpenStreetMap.Mapnik\", \"Esri.WorldImagery\")) +\n",
    "  tm_shape(mergeUnionLinesAdj) + tm_lines(col = \"finTADT\", style = \"jenks\", lwd = 3, popup.vars = TRUE) +\n",
    "  tm_shape(countDataFinal) + tm_dots() + tm_text(\"truckADT\")\n",
    "\n",
    "mergeUnionLinesAdj %>% save(file = \"mergeUnionLinesAdj.RData\") # save tot R file\n",
    "mergeUnionLinesAdj %>% write_sf_zip(\"Spatial/Vector/ForGIS\", \"FinalTruckEstimatesV2\")  # save to ziopped shp file\n",
    "\n",
    "\n",
    "mergeUnionLinesAdj %>% filter(finADT > 0) %>% select(above10perc) %>% write_sf_zip(\"Spatial/Vector/ForGIS\", \"Above10Perc\")\n",
    "countDataFinal %>% write_sf_zip(\"Spatial/Vector/ForGIS\", \"countDataFinal\")\n",
    "countDataFinal %>% mutate(truckPerc = truckADT / adt) %>% #save as a filtered county object to shp file\n",
    "  filter(truckPerc >= 0.1, type %in% c(\"Original\", \"CCC\", \"Collection\")) %>%\n",
    "  write_sf_zip(\"Spatial/Vector/ForGIS\", \"countDataFinal_10plus\")\n",
    "counties %>% write_sf_zip(\"Spatial/Vector/ForGIS\", \"SJTPO_Counties\")\n",
    "\n",
    "load(\"mergeUnionLinesAdj.RData\") #load rdata from a databse (not sure where)\n",
    "\n",
    "read_sf_zipLoc <- function(path) {  # read in a zipped shape file from local drive and unzip\n",
    "  temp <- tempfile()  \n",
    "  unzip(zipfile = path, exdir = temp)  \n",
    "  read_sf(temp)  \n",
    "}\n",
    "\n",
    "mergeUnionLinesAdj <- read_sf_zipLoc(\"Spatial/Vector/ForGIS/FinalTruckEstimates.zip\") # read in shape file from local drive\n",
    "mergeUnionLinesAdj <- \n",
    "  mergeUnionLinesAdj %>%\n",
    "  mutate(prcTrck == if_else(prcTrck != Inf, prcTrck, NA))\n",
    "\n",
    "# Final Maps --------------------------------------------------------------\n",
    "\n",
    "# all maps being made below are using a basemap set with rgb coloring, and showing the estimated adt for trucks, combination, and ars\n",
    "# each function follows the same formula: 4\n",
    "## (1) take the merged cumberland county truck study counts from the local drive via teams, (2) use the basetile map in imperial units, (3) add county file and only show borders, (4) add lines to map and (5) display\n",
    "\n",
    "tmap_mode(\"view\")\n",
    "tmap_mode(\"plot\")\n",
    "# Truck ADT\n",
    "tm_shape(basetile, unit = \"imperial\") + tm_rgb() +\n",
    "  tm_shape(counties) + tm_borders() +\n",
    "  tm_shape(mergeUnionLinesAdj) + tm_lines(col = \"finTADT\", lwd = 3, style = \"jenks\", palette = \"YlOrRd\", title.col = \"Estimated Truck ADT\") +\n",
    "  tm_shape(basetileLabels) + tm_rgb(alpha = 0.8) +\n",
    "  DefMapSet\n",
    "tmap_save(filename = \"Plot/Draft/Tech Memo 1/2.X Final Estimated Truck ADT.png\", width = 7, height = 6.3, dpi = 300, units = \"in\")  \n",
    "\n",
    "# Combination Truck ADT\n",
    "tm_shape(basetile, unit = \"imperial\") + tm_rgb() +\n",
    "  tm_shape(counties) + tm_borders() +\n",
    "  tm_shape(mergeUnionLinesAdj) + tm_lines(col = \"finCADT\", lwd = 3, style = \"jenks\", palette = \"YlOrRd\", title.col = \"Estimated Combination ADT\") +\n",
    "  tm_shape(basetileLabels) + tm_rgb(alpha = 0.8) +\n",
    "  DefMapSet\n",
    "tmap_save(filename = \"Plot/Draft/Tech Memo 1/2.X Final Estimated Combination ADT.png\", width = 7, height = 6.3, dpi = 300, units = \"in\")  \n",
    "\n",
    "# Percent Trucks\n",
    "tm_shape(basetile, unit = \"imperial\") + tm_rgb() +\n",
    "  tm_shape(counties) + tm_borders() +\n",
    "  tm_shape(mergeUnionLinesAdj %>% filter(prcTrck <= 1)) + tm_lines(col = \"prcTrck\", lwd = 3, breaks = c(0, 0.1, 0.2, 0.3, 1), palette = \"YlOrRd\", title.col = \"Estimated Truck Percentage\") +\n",
    "  tm_shape(basetileLabels) + tm_rgb(alpha = 0.8) +\n",
    "  DefMapSet\n",
    "tmap_save(filename = \"Plot/Draft/Tech Memo 1/2.X Final Estimated Truck PercentV2.png\", width = 7, height = 6.3, dpi = 300, units = \"in\")  \n",
    "\n",
    "# Percent Trucks with Dots\n",
    "tm_shape(basetile, unit = \"imperial\") + tm_rgb() +\n",
    "  tm_shape(counties) + tm_borders() +\n",
    "  tm_shape(mergeUnionLinesAdj %>% filter(prcTrck <= 1)) + tm_lines(col = \"prcTrck\", lwd = 3, breaks = c(0, 0.1, 0.2, 0.3, 1), palette = \"YlOrRd\", title.col = \"Estimated Truck Percentage\") +\n",
    "  tm_shape(basetileLabels) + tm_rgb(alpha = 0.8) +\n",
    "  DefMapSet\n",
    "tmap_save(filename = \"Plot/Draft/Tech Memo 1/2.X Final Estimated Truck PercentV2.png\", width = 7, height = 6.3, dpi = 300, units = \"in\")  \n",
    "\n",
    "\n",
    "\n",
    "# For illustration\n",
    "tm_basemap(c(\"CartoDB.Positron\", \"OpenStreetMap.Mapnik\", \"Esri.WorldImagery\")) +\n",
    "  tm_shape(mergeUnionLinesAdj) + tm_lines(col = \"finCADT\", lwd = 3, style = \"jenks\", palette = \"YlOrRd\", title.col = \"Estimated Combination ADT\") +\n",
    "  tm_shape(countDataFinal) + tm_dots()\n",
    "  \n",
    "\n",
    "tmap_mode(\"view\")\n",
    "tm_shape(mergeUnionLinesAdj) + tm_lines(col = \"prcTrck\", lwd = 3) + \n",
    "  tm_shape(countDataJoin) + tm_dots()\n"
   ]
  }
 ],
 "metadata": {
  "kernelspec": {
   "display_name": "Python 3 (ipykernel)",
   "language": "python",
   "name": "python3"
  },
  "language_info": {
   "codemirror_mode": {
    "name": "ipython",
    "version": 3
   },
   "file_extension": ".py",
   "mimetype": "text/x-python",
   "name": "python",
   "nbconvert_exporter": "python",
   "pygments_lexer": "ipython3",
   "version": "3.11.5"
  }
 },
 "nbformat": 4,
 "nbformat_minor": 5
}
