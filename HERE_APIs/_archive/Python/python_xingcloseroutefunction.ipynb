{
 "cells": [
  {
   "cell_type": "code",
   "execution_count": 4,
   "id": "910f7d9a-48b3-42ca-a0aa-487c10751f18",
   "metadata": {},
   "outputs": [
    {
     "ename": "NameError",
     "evalue": "name 'gpd' is not defined",
     "output_type": "error",
     "traceback": [
      "\u001b[1;31m---------------------------------------------------------------------------\u001b[0m",
      "\u001b[1;31mNameError\u001b[0m                                 Traceback (most recent call last)",
      "\u001b[1;32mc:\\Users\\nanzawi\\OneDrive - HDR, Inc\\Data_Science\\MODOT_RR\\HERE_APIs\\python_xingcloseroutefunction.ipynb Cell 1\u001b[0m line \u001b[0;36m2\n\u001b[0;32m      <a href='vscode-notebook-cell:/c%3A/Users/nanzawi/OneDrive%20-%20HDR%2C%20Inc/Data_Science/MODOT_RR/HERE_APIs/python_xingcloseroutefunction.ipynb#W0sZmlsZQ%3D%3D?line=0'>1</a>\u001b[0m \u001b[39m# Set up\u001b[39;00m\n\u001b[1;32m----> <a href='vscode-notebook-cell:/c%3A/Users/nanzawi/OneDrive%20-%20HDR%2C%20Inc/Data_Science/MODOT_RR/HERE_APIs/python_xingcloseroutefunction.ipynb#W0sZmlsZQ%3D%3D?line=1'>2</a>\u001b[0m gpd\u001b[39m.\u001b[39mio\u001b[39m.\u001b[39mfile\u001b[39m.\u001b[39mfiona\u001b[39m.\u001b[39mdrvsupport\u001b[39m.\u001b[39msupported_drivers[\u001b[39m'\u001b[39m\u001b[39mKML\u001b[39m\u001b[39m'\u001b[39m] \u001b[39m=\u001b[39m \u001b[39m'\u001b[39m\u001b[39mrw\u001b[39m\u001b[39m'\u001b[39m\n\u001b[0;32m      <a href='vscode-notebook-cell:/c%3A/Users/nanzawi/OneDrive%20-%20HDR%2C%20Inc/Data_Science/MODOT_RR/HERE_APIs/python_xingcloseroutefunction.ipynb#W0sZmlsZQ%3D%3D?line=2'>3</a>\u001b[0m gpd\u001b[39m.\u001b[39mio\u001b[39m.\u001b[39mfile\u001b[39m.\u001b[39mfiona\u001b[39m.\u001b[39mdrvsupport\u001b[39m.\u001b[39msupported_drivers[\u001b[39m'\u001b[39m\u001b[39mkml\u001b[39m\u001b[39m'\u001b[39m] \u001b[39m=\u001b[39m \u001b[39m'\u001b[39m\u001b[39mrw\u001b[39m\u001b[39m'\u001b[39m\n",
      "\u001b[1;31mNameError\u001b[0m: name 'gpd' is not defined"
     ]
    }
   ],
   "source": [
    "# Set up\n",
    "gpd.io.file.fiona.drvsupport.supported_drivers['KML'] = 'rw'\n",
    "gpd.io.file.fiona.drvsupport.supported_drivers['kml'] = 'rw'"
   ]
  },
  {
   "cell_type": "code",
   "execution_count": 3,
   "id": "71a550e5",
   "metadata": {},
   "outputs": [
    {
     "name": "stdout",
     "output_type": "stream",
     "text": [
      "Collecting package metadata (current_repodata.json): ...working... done\n",
      "Solving environment: ...working... unsuccessful initial attempt using frozen solve. Retrying with flexible solve.\n",
      "Solving environment: ...working... unsuccessful attempt using repodata from current_repodata.json, retrying with next repodata source.\n",
      "Collecting package metadata (repodata.json): ...working... done\n",
      "Solving environment: ...working... unsuccessful initial attempt using frozen solve. Retrying with flexible solve.\n",
      "Solving environment: ...working... \n",
      "Found conflicts! Looking for incompatible packages.\n",
      "This can take several minutes.  Press CTRL-C to abort.\n",
      "failed\n",
      "\n",
      "Note: you may need to restart the kernel to use updated packages.\n"
     ]
    },
    {
     "name": "stderr",
     "output_type": "stream",
     "text": [
      "\n",
      "Building graph of deps:   0%|          | 0/5 [00:00<?, ?it/s]\n",
      "Examining @/win-64::__win==0=0:   0%|          | 0/5 [00:00<?, ?it/s]\n",
      "Examining python=3.11:  20%|██        | 1/5 [00:00<?, ?it/s]         \n",
      "Examining geopandas:  40%|████      | 2/5 [00:00<00:00, 54.75it/s]\n",
      "Examining @/win-64::__archspec==1=x86_64:  60%|██████    | 3/5 [00:00<00:00,  8.86it/s]\n",
      "Examining @/win-64::__archspec==1=x86_64:  80%|████████  | 4/5 [00:00<00:00, 11.81it/s]\n",
      "Examining @/win-64::__cuda==12.2=0:  80%|████████  | 4/5 [00:00<00:00, 11.81it/s]      \n",
      "                                                                                 \n",
      "\n",
      "Determining conflicts:   0%|          | 0/5 [00:00<?, ?it/s]\n",
      "Examining conflict for python geopandas:   0%|          | 0/5 [00:00<?, ?it/s]\n",
      "                                                                              \n",
      "\n",
      "UnsatisfiableError: The following specifications were found to be incompatible with each other:\n",
      "\n",
      "Output in format: Requested package -> Available versions\n",
      "\n"
     ]
    },
    {
     "ename": "",
     "evalue": "",
     "output_type": "error",
     "traceback": [
      "\u001b[1;31mThe Kernel crashed while executing code in the the current cell or a previous cell. Please review the code in the cell(s) to identify a possible cause of the failure. Click <a href='https://aka.ms/vscodeJupyterKernelCrash'>here</a> for more info. View Jupyter <a href='command:jupyter.viewOutput'>log</a> for further details."
     ]
    }
   ],
   "source": [
    "conda install geopandas"
   ]
  },
  {
   "cell_type": "code",
   "execution_count": 2,
   "id": "1305bc4d-dedc-46fb-a1b4-ec3cf9b23f60",
   "metadata": {},
   "outputs": [
    {
     "ename": "ModuleNotFoundError",
     "evalue": "No module named 'geopandas'",
     "output_type": "error",
     "traceback": [
      "\u001b[1;31m---------------------------------------------------------------------------\u001b[0m",
      "\u001b[1;31mModuleNotFoundError\u001b[0m                       Traceback (most recent call last)",
      "\u001b[1;32mc:\\Users\\nanzawi\\OneDrive - HDR, Inc\\Data_Science\\MODOT_RR\\HERE_APIs\\python_xingcloseroutefunction.ipynb Cell 2\u001b[0m line \u001b[0;36m1\n\u001b[1;32m----> <a href='vscode-notebook-cell:/c%3A/Users/nanzawi/OneDrive%20-%20HDR%2C%20Inc/Data_Science/MODOT_RR/HERE_APIs/python_xingcloseroutefunction.ipynb#W1sZmlsZQ%3D%3D?line=0'>1</a>\u001b[0m \u001b[39mimport\u001b[39;00m \u001b[39mgeopandas\u001b[39;00m\n\u001b[0;32m      <a href='vscode-notebook-cell:/c%3A/Users/nanzawi/OneDrive%20-%20HDR%2C%20Inc/Data_Science/MODOT_RR/HERE_APIs/python_xingcloseroutefunction.ipynb#W1sZmlsZQ%3D%3D?line=1'>2</a>\u001b[0m \u001b[39mimport\u001b[39;00m \u001b[39mpandas\u001b[39;00m \u001b[39mas\u001b[39;00m \u001b[39mpd\u001b[39;00m\n\u001b[0;32m      <a href='vscode-notebook-cell:/c%3A/Users/nanzawi/OneDrive%20-%20HDR%2C%20Inc/Data_Science/MODOT_RR/HERE_APIs/python_xingcloseroutefunction.ipynb#W1sZmlsZQ%3D%3D?line=2'>3</a>\u001b[0m \u001b[39mfrom\u001b[39;00m \u001b[39mhere_plolocation_services\u001b[39;00m \u001b[39mimport\u001b[39;00m LS\n",
      "\u001b[1;31mModuleNotFoundError\u001b[0m: No module named 'geopandas'"
     ]
    }
   ],
   "source": [
    "import geopandas\n",
    "import pandas as pd\n",
    "from here_plolocation_services import LS\n",
    "from shapely.geometry import Point\n",
    "import numpy as np\n",
    "from sklearn.cluster import KMeans\n",
    "from shapely.geometry import Point\n",
    "from shapely.geometry import LineString\n",
    "from shapely.ops import transform\n",
    "import numpy as np\n",
    "import networkx as nx"
   ]
  },
  {
   "cell_type": "code",
   "execution_count": 59,
   "id": "0cee9e57-7f6c-4405-b219-8236778447d2",
   "metadata": {
    "tags": []
   },
   "outputs": [],
   "source": [
    "# query for state and MN railroad\n",
    "rail = gpd.read_file(\n",
    "    \"https://geo.dot.gov/mapping/rest/services/NTAD/North_American_Rail_Network_Lines/MapServer/0/query?where=STATEAB%20%3D%20'MN'&text=&objectIds=&time=&timeRelation=esriTimeRelationOverlaps&geometry=&geometryType=esriGeometryEnvelope&inSR=&spatialRel=esriSpatialRelIntersects&distance=&units=esriSRUnit_Foot&relationParam=&outFields=&returnGeometry=true&returnTrueCurves=false&maxAllowableOffset=&geometryPrecision=&outSR=&havingClause=&returnIdsOnly=false&returnCountOnly=false&orderByFields=&groupByFieldsForStatistics=&outStatistics=&returnZ=false&returnM=false&gdbVersion=&historicMoment=&returnDistinctValues=false&resultOffset=&resultRecordCount=&returnExtentOnly=false&sqlFormat=none&datumTransformation=&parameterValues=&rangeValues=&quantizationParameters=&featureEncoding=esriDefault&f=pjson\"\n",
    ").set_index(\"YARDNAME\")"
   ]
  },
  {
   "cell_type": "code",
   "execution_count": null,
   "id": "4c2a81ed",
   "metadata": {},
   "outputs": [],
   "source": []
  },
  {
   "cell_type": "code",
   "execution_count": 95,
   "id": "433c1c7c-9d66-46aa-bf8f-2756f2db7d1f",
   "metadata": {
    "tags": []
   },
   "outputs": [],
   "source": [
    "# get length of rail\n",
    "rail['length'] = rail['geometry'].apply(lambda geom: geom.length)"
   ]
  },
  {
   "cell_type": "code",
   "execution_count": 97,
   "id": "5f9f0119-2dd1-410b-9a45-fd4ee53b033b",
   "metadata": {
    "tags": []
   },
   "outputs": [],
   "source": [
    "# get shape of route, find end and beginning coordinates\n",
    "# get coordinates of rail for origin/destination\n",
    "\n",
    "def coord_lister(geom):\n",
    "    if geom.geom_type == 'MultiLineString':\n",
    "        # Extract coordinates of start and end points for each LineString in the MultiLineString\n",
    "        coords = [list(line.coords[0]) + list(line.coords[-1]) for line in geom]\n",
    "    elif geom.geom_type == 'LineString':\n",
    "        # For a single LineString, extract its start and end coordinates\n",
    "        coords = list(geom.coords[0]) + list(geom.coords[-1])\n",
    "    return coords\n",
    "\n",
    "# Apply the modified function to  GeoDataFrame\n",
    "coordinates = rail.geometry.apply(coord_lister)"
   ]
  },
  {
   "cell_type": "code",
   "execution_count": 104,
   "id": "2c26f8ae-8936-4d0f-99fc-00ce3fe278e9",
   "metadata": {
    "tags": []
   },
   "outputs": [],
   "source": [
    "def xingCloseRoute(name, point, offset, buffer, rail):\n",
    "    # Create a GeoSeries for the input point\n",
    "    point_gdf = gpd.GeoSeries(Point(point))\n",
    "\n",
    "    # Buffer the point and create a LineString\n",
    "    buffered_line = point_gdf.buffer(buffer).iloc[0]\n",
    "    buffered_line = buffered_line.boundary  # Extract the boundary as a LineString\n",
    "\n",
    "    # Ensure both GeoSeries have the same index\n",
    "    buffered_line = gpd.GeoSeries([buffered_line], index=[0])\n",
    "    rail = rail.set_index(range(len(rail)))\n",
    "\n",
    "    # Perform the intersection with the rail dataset\n",
    "    intersection = buffered_line.intersection(rail.geometry)\n",
    "    intersection = intersection[~intersection.is_empty]\n",
    "\n",
    "    # Convert the resulting geometry to Points\n",
    "    intersection_points = intersection[intersection.type == 'Point']\n",
    "    \n",
    "    # Get the coordinates\n",
    "    coords = np.array(list(intersection_points.apply(coord_lister)))\n",
    "    \n",
    "    # Perform k-means clustering\n",
    "    centers, _ = kmeans(coords, 2)\n",
    "\n",
    "    # Calculate cluster statistics\n",
    "    xavg = np.mean(centers[:, 0])\n",
    "    yavg = np.mean(centers[:, 1])\n",
    "    xdiff = centers[0, 0] - centers[1, 0]\n",
    "    ydiff = centers[0, 1] - centers[1, 1]\n",
    "    \n",
    "    # Calculate the angle\n",
    "    angle = np.arctan2(ydiff, xdiff) + np.pi / 2\n",
    "    \n",
    "    # Calculate new coordinates\n",
    "    x1 = xavg + np.cos(angle) * offset\n",
    "    y1 = yavg + np.sin(angle) * offset\n",
    "    x2 = xavg - np.cos(angle) * offset\n",
    "    y2 = yavg - np.sin(angle) * offset\n",
    "    \n",
    "    # Create a GeoDataFrame with the results\n",
    "    side1 = gpd.GeoDataFrame({'point': ['side1'], 'geometry': [Point(x1, y1)]})\n",
    "    side2 = gpd.GeoDataFrame({'point': ['side2'], 'geometry': [Point(x2, y2)]})\n",
    "    navPoints = gpd.GeoDataFrame(pd.concat([side1, side2]))\n",
    "    \n",
    "    # Create a barrier by buffering the point, converting to LineString, and buffering\n",
    "    barrier = point_gdf.buffer(buffer).boundary.iloc[0]\n",
    "    barrier = barrier.buffer(10)\n",
    "\n",
    "    # Create a network graph to find the route\n",
    "    G = nx.Graph()\n",
    "    G.add_node('side1', geometry=navPoints[navPoints['point'] == 'side1']['geometry'].iloc[0])\n",
    "    G.add_node('side2', geometry=navPoints[navPoints['point'] == 'side2']['geometry'].iloc[0])\n",
    "    G.add_edge('side1', 'side2', weight=1)  # Add a dummy edge with weight 1\n",
    "    \n",
    "    # Find the route using NetworkX\n",
    "    route_result = nx.shortest_path(G, source='side1', target='side2', weight='weight')\n",
    "\n",
    "    # Create a GeoDataFrame for the route\n",
    "    route_gdf = gpd.GeoDataFrame({'name': [name], 'geometry': LineString(\n",
    "        [navPoints['geometry'][route_result[0]], \n",
    "         navPoints['geometry'][route_result[1]]])})\n",
    "\n",
    "    return route_gdf"
   ]
  },
  {
   "cell_type": "code",
   "execution_count": 105,
   "id": "822df9da-8b42-4481-9d39-1bece900a465",
   "metadata": {
    "tags": []
   },
   "outputs": [
    {
     "ename": "KeyError",
     "evalue": "'None of [range(0, 2000)] are in the columns'",
     "output_type": "error",
     "traceback": [
      "\u001b[1;31m---------------------------------------------------------------------------\u001b[0m",
      "\u001b[1;31mKeyError\u001b[0m                                  Traceback (most recent call last)",
      "\u001b[1;32m~\\AppData\\Local\\Temp\\ipykernel_13416\\2377903147.py\u001b[0m in \u001b[0;36m?\u001b[1;34m()\u001b[0m\n\u001b[0;32m      4\u001b[0m \u001b[0moffset\u001b[0m \u001b[1;33m=\u001b[0m \u001b[1;36m100\u001b[0m\u001b[1;33m\u001b[0m\u001b[1;33m\u001b[0m\u001b[0m\n\u001b[0;32m      5\u001b[0m \u001b[0mbuffer\u001b[0m \u001b[1;33m=\u001b[0m \u001b[1;36m0.01\u001b[0m\u001b[1;33m\u001b[0m\u001b[1;33m\u001b[0m\u001b[0m\n\u001b[0;32m      6\u001b[0m \u001b[0mrail\u001b[0m \u001b[1;33m=\u001b[0m \u001b[0mrail\u001b[0m\u001b[1;33m\u001b[0m\u001b[1;33m\u001b[0m\u001b[0m\n\u001b[0;32m      7\u001b[0m \u001b[1;33m\u001b[0m\u001b[0m\n\u001b[1;32m----> 8\u001b[1;33m \u001b[0mresult_gdf\u001b[0m \u001b[1;33m=\u001b[0m \u001b[0mxingCloseRoute\u001b[0m\u001b[1;33m(\u001b[0m\u001b[0mname\u001b[0m\u001b[1;33m,\u001b[0m \u001b[0mpoint\u001b[0m\u001b[1;33m,\u001b[0m \u001b[0moffset\u001b[0m\u001b[1;33m,\u001b[0m \u001b[0mbuffer\u001b[0m\u001b[1;33m,\u001b[0m \u001b[0mrail\u001b[0m\u001b[1;33m)\u001b[0m\u001b[1;33m\u001b[0m\u001b[1;33m\u001b[0m\u001b[0m\n\u001b[0m\u001b[0;32m      9\u001b[0m \u001b[0mprint\u001b[0m\u001b[1;33m(\u001b[0m\u001b[0mresult_gdf\u001b[0m\u001b[1;33m)\u001b[0m\u001b[1;33m\u001b[0m\u001b[1;33m\u001b[0m\u001b[0m\n",
      "\u001b[1;32m~\\AppData\\Local\\Temp\\ipykernel_13416\\708154255.py\u001b[0m in \u001b[0;36m?\u001b[1;34m(name, point, offset, buffer, rail)\u001b[0m\n\u001b[0;32m      7\u001b[0m     \u001b[0mbuffered_line\u001b[0m \u001b[1;33m=\u001b[0m \u001b[0mbuffered_line\u001b[0m\u001b[1;33m.\u001b[0m\u001b[0mboundary\u001b[0m  \u001b[1;31m# Extract the boundary as a LineString\u001b[0m\u001b[1;33m\u001b[0m\u001b[1;33m\u001b[0m\u001b[0m\n\u001b[0;32m      8\u001b[0m \u001b[1;33m\u001b[0m\u001b[0m\n\u001b[0;32m      9\u001b[0m     \u001b[1;31m# Ensure both GeoSeries have the same index\u001b[0m\u001b[1;33m\u001b[0m\u001b[1;33m\u001b[0m\u001b[0m\n\u001b[0;32m     10\u001b[0m     \u001b[0mbuffered_line\u001b[0m \u001b[1;33m=\u001b[0m \u001b[0mgpd\u001b[0m\u001b[1;33m.\u001b[0m\u001b[0mGeoSeries\u001b[0m\u001b[1;33m(\u001b[0m\u001b[1;33m[\u001b[0m\u001b[0mbuffered_line\u001b[0m\u001b[1;33m]\u001b[0m\u001b[1;33m,\u001b[0m \u001b[0mindex\u001b[0m\u001b[1;33m=\u001b[0m\u001b[1;33m[\u001b[0m\u001b[1;36m0\u001b[0m\u001b[1;33m]\u001b[0m\u001b[1;33m)\u001b[0m\u001b[1;33m\u001b[0m\u001b[1;33m\u001b[0m\u001b[0m\n\u001b[1;32m---> 11\u001b[1;33m     \u001b[0mrail\u001b[0m \u001b[1;33m=\u001b[0m \u001b[0mrail\u001b[0m\u001b[1;33m.\u001b[0m\u001b[0mset_index\u001b[0m\u001b[1;33m(\u001b[0m\u001b[0mrange\u001b[0m\u001b[1;33m(\u001b[0m\u001b[0mlen\u001b[0m\u001b[1;33m(\u001b[0m\u001b[0mrail\u001b[0m\u001b[1;33m)\u001b[0m\u001b[1;33m)\u001b[0m\u001b[1;33m)\u001b[0m\u001b[1;33m\u001b[0m\u001b[1;33m\u001b[0m\u001b[0m\n\u001b[0m\u001b[0;32m     12\u001b[0m \u001b[1;33m\u001b[0m\u001b[0m\n\u001b[0;32m     13\u001b[0m     \u001b[1;31m# Perform the intersection with the rail dataset\u001b[0m\u001b[1;33m\u001b[0m\u001b[1;33m\u001b[0m\u001b[0m\n\u001b[0;32m     14\u001b[0m     \u001b[0mintersection\u001b[0m \u001b[1;33m=\u001b[0m \u001b[0mbuffered_line\u001b[0m\u001b[1;33m.\u001b[0m\u001b[0mintersection\u001b[0m\u001b[1;33m(\u001b[0m\u001b[0mrail\u001b[0m\u001b[1;33m.\u001b[0m\u001b[0mgeometry\u001b[0m\u001b[1;33m)\u001b[0m\u001b[1;33m\u001b[0m\u001b[1;33m\u001b[0m\u001b[0m\n",
      "\u001b[1;32m~\\AppData\\Local\\anaconda3\\Lib\\site-packages\\pandas\\core\\frame.py\u001b[0m in \u001b[0;36m?\u001b[1;34m(self, keys, drop, append, inplace, verify_integrity)\u001b[0m\n\u001b[0;32m   5855\u001b[0m                     \u001b[1;32mif\u001b[0m \u001b[1;32mnot\u001b[0m \u001b[0mfound\u001b[0m\u001b[1;33m:\u001b[0m\u001b[1;33m\u001b[0m\u001b[1;33m\u001b[0m\u001b[0m\n\u001b[0;32m   5856\u001b[0m                         \u001b[0mmissing\u001b[0m\u001b[1;33m.\u001b[0m\u001b[0mappend\u001b[0m\u001b[1;33m(\u001b[0m\u001b[0mcol\u001b[0m\u001b[1;33m)\u001b[0m\u001b[1;33m\u001b[0m\u001b[1;33m\u001b[0m\u001b[0m\n\u001b[0;32m   5857\u001b[0m \u001b[1;33m\u001b[0m\u001b[0m\n\u001b[0;32m   5858\u001b[0m         \u001b[1;32mif\u001b[0m \u001b[0mmissing\u001b[0m\u001b[1;33m:\u001b[0m\u001b[1;33m\u001b[0m\u001b[1;33m\u001b[0m\u001b[0m\n\u001b[1;32m-> 5859\u001b[1;33m             \u001b[1;32mraise\u001b[0m \u001b[0mKeyError\u001b[0m\u001b[1;33m(\u001b[0m\u001b[1;34mf\"None of {missing} are in the columns\"\u001b[0m\u001b[1;33m)\u001b[0m\u001b[1;33m\u001b[0m\u001b[1;33m\u001b[0m\u001b[0m\n\u001b[0m\u001b[0;32m   5860\u001b[0m \u001b[1;33m\u001b[0m\u001b[0m\n\u001b[0;32m   5861\u001b[0m         \u001b[1;32mif\u001b[0m \u001b[0minplace\u001b[0m\u001b[1;33m:\u001b[0m\u001b[1;33m\u001b[0m\u001b[1;33m\u001b[0m\u001b[0m\n\u001b[0;32m   5862\u001b[0m             \u001b[0mframe\u001b[0m \u001b[1;33m=\u001b[0m \u001b[0mself\u001b[0m\u001b[1;33m\u001b[0m\u001b[1;33m\u001b[0m\u001b[0m\n",
      "\u001b[1;31mKeyError\u001b[0m: 'None of [range(0, 2000)] are in the columns'"
     ]
    }
   ],
   "source": [
    "# Example usage\n",
    "name = \"your_route_name\"\n",
    "point = (-92.60064662057485, 47.45905019541532)\n",
    "offset = 100\n",
    "buffer = 0.01\n",
    "rail = rail\n",
    "\n",
    "result_gdf = xingCloseRoute(name, point, offset, buffer, rail)\n",
    "print(result_gdf)"
   ]
  },
  {
   "cell_type": "code",
   "execution_count": 60,
   "id": "ae5eaf75-25c4-43c2-b088-64156f5b24b6",
   "metadata": {
    "collapsed": true,
    "jupyter": {
     "outputs_hidden": true
    },
    "tags": []
   },
   "outputs": [
    {
     "ename": "KeyError",
     "evalue": "'None of [range(0, 2000)] are in the columns'",
     "output_type": "error",
     "traceback": [
      "\u001b[1;31m---------------------------------------------------------------------------\u001b[0m",
      "\u001b[1;31mKeyError\u001b[0m                                  Traceback (most recent call last)",
      "\u001b[1;32m~\\AppData\\Local\\Temp\\ipykernel_13416\\1934613514.py\u001b[0m in \u001b[0;36m?\u001b[1;34m()\u001b[0m\n\u001b[0;32m     49\u001b[0m \u001b[0moffset\u001b[0m \u001b[1;33m=\u001b[0m \u001b[1;36m100\u001b[0m  \u001b[1;31m# Your desired offset value\u001b[0m\u001b[1;33m\u001b[0m\u001b[1;33m\u001b[0m\u001b[0m\n\u001b[0;32m     50\u001b[0m \u001b[0mbuffer\u001b[0m \u001b[1;33m=\u001b[0m \u001b[1;36m0.01\u001b[0m  \u001b[1;31m# Your desired buffer value\u001b[0m\u001b[1;33m\u001b[0m\u001b[1;33m\u001b[0m\u001b[0m\n\u001b[0;32m     51\u001b[0m \u001b[0mrail\u001b[0m \u001b[1;33m=\u001b[0m \u001b[0mrail\u001b[0m \u001b[1;31m# Load your rail dataset\u001b[0m\u001b[1;33m\u001b[0m\u001b[1;33m\u001b[0m\u001b[0m\n\u001b[0;32m     52\u001b[0m \u001b[1;33m\u001b[0m\u001b[0m\n\u001b[1;32m---> 53\u001b[1;33m \u001b[0mresult_df\u001b[0m \u001b[1;33m=\u001b[0m \u001b[0mxingCloseRoute\u001b[0m\u001b[1;33m(\u001b[0m\u001b[0mname\u001b[0m\u001b[1;33m,\u001b[0m \u001b[0mpoint\u001b[0m\u001b[1;33m,\u001b[0m \u001b[0moffset\u001b[0m\u001b[1;33m,\u001b[0m \u001b[0mbuffer\u001b[0m\u001b[1;33m,\u001b[0m \u001b[0mrail\u001b[0m\u001b[1;33m)\u001b[0m\u001b[1;33m\u001b[0m\u001b[1;33m\u001b[0m\u001b[0m\n\u001b[0m\u001b[0;32m     54\u001b[0m \u001b[0mprint\u001b[0m\u001b[1;33m(\u001b[0m\u001b[0mresult_df\u001b[0m\u001b[1;33m)\u001b[0m\u001b[1;33m\u001b[0m\u001b[1;33m\u001b[0m\u001b[0m\n",
      "\u001b[1;32m~\\AppData\\Local\\Temp\\ipykernel_13416\\1934613514.py\u001b[0m in \u001b[0;36m?\u001b[1;34m(name, point, offset, buffer, rail)\u001b[0m\n\u001b[0;32m      7\u001b[0m     \u001b[0mbuffered_line\u001b[0m \u001b[1;33m=\u001b[0m \u001b[0mpoint\u001b[0m\u001b[1;33m.\u001b[0m\u001b[0mbuffer\u001b[0m\u001b[1;33m(\u001b[0m\u001b[0mbuffer\u001b[0m\u001b[1;33m)\u001b[0m\u001b[1;33m.\u001b[0m\u001b[0mboundary\u001b[0m\u001b[1;33m\u001b[0m\u001b[1;33m\u001b[0m\u001b[0m\n\u001b[0;32m      8\u001b[0m \u001b[1;33m\u001b[0m\u001b[0m\n\u001b[0;32m      9\u001b[0m     \u001b[1;31m# Ensure both GeoSeries have the same index\u001b[0m\u001b[1;33m\u001b[0m\u001b[1;33m\u001b[0m\u001b[0m\n\u001b[0;32m     10\u001b[0m     \u001b[0mbuffered_line_gdf\u001b[0m \u001b[1;33m=\u001b[0m \u001b[0mgpd\u001b[0m\u001b[1;33m.\u001b[0m\u001b[0mGeoSeries\u001b[0m\u001b[1;33m(\u001b[0m\u001b[1;33m[\u001b[0m\u001b[0mbuffered_line\u001b[0m\u001b[1;33m]\u001b[0m\u001b[1;33m,\u001b[0m \u001b[0mindex\u001b[0m\u001b[1;33m=\u001b[0m\u001b[1;33m[\u001b[0m\u001b[1;36m0\u001b[0m\u001b[1;33m]\u001b[0m\u001b[1;33m)\u001b[0m\u001b[1;33m\u001b[0m\u001b[1;33m\u001b[0m\u001b[0m\n\u001b[1;32m---> 11\u001b[1;33m     \u001b[0mrail\u001b[0m \u001b[1;33m=\u001b[0m \u001b[0mrail\u001b[0m\u001b[1;33m.\u001b[0m\u001b[0mset_index\u001b[0m\u001b[1;33m(\u001b[0m\u001b[0mrange\u001b[0m\u001b[1;33m(\u001b[0m\u001b[0mlen\u001b[0m\u001b[1;33m(\u001b[0m\u001b[0mrail\u001b[0m\u001b[1;33m)\u001b[0m\u001b[1;33m)\u001b[0m\u001b[1;33m)\u001b[0m  \u001b[1;31m# Reset the index to match the new GeoSeries\u001b[0m\u001b[1;33m\u001b[0m\u001b[1;33m\u001b[0m\u001b[0m\n\u001b[0m\u001b[0;32m     12\u001b[0m \u001b[1;33m\u001b[0m\u001b[0m\n\u001b[0;32m     13\u001b[0m     \u001b[1;31m# Perform the intersection with the rail dataset\u001b[0m\u001b[1;33m\u001b[0m\u001b[1;33m\u001b[0m\u001b[0m\n\u001b[0;32m     14\u001b[0m     \u001b[0mintersection\u001b[0m \u001b[1;33m=\u001b[0m \u001b[0mgpd\u001b[0m\u001b[1;33m.\u001b[0m\u001b[0mGeoSeries\u001b[0m\u001b[1;33m(\u001b[0m\u001b[1;33m[\u001b[0m\u001b[0mbuffered_line\u001b[0m\u001b[1;33m]\u001b[0m\u001b[1;33m)\u001b[0m\u001b[1;33m.\u001b[0m\u001b[0mintersection\u001b[0m\u001b[1;33m(\u001b[0m\u001b[0mrail\u001b[0m\u001b[1;33m)\u001b[0m\u001b[1;33m\u001b[0m\u001b[1;33m\u001b[0m\u001b[0m\n",
      "\u001b[1;32m~\\AppData\\Local\\anaconda3\\Lib\\site-packages\\pandas\\core\\frame.py\u001b[0m in \u001b[0;36m?\u001b[1;34m(self, keys, drop, append, inplace, verify_integrity)\u001b[0m\n\u001b[0;32m   5855\u001b[0m                     \u001b[1;32mif\u001b[0m \u001b[1;32mnot\u001b[0m \u001b[0mfound\u001b[0m\u001b[1;33m:\u001b[0m\u001b[1;33m\u001b[0m\u001b[1;33m\u001b[0m\u001b[0m\n\u001b[0;32m   5856\u001b[0m                         \u001b[0mmissing\u001b[0m\u001b[1;33m.\u001b[0m\u001b[0mappend\u001b[0m\u001b[1;33m(\u001b[0m\u001b[0mcol\u001b[0m\u001b[1;33m)\u001b[0m\u001b[1;33m\u001b[0m\u001b[1;33m\u001b[0m\u001b[0m\n\u001b[0;32m   5857\u001b[0m \u001b[1;33m\u001b[0m\u001b[0m\n\u001b[0;32m   5858\u001b[0m         \u001b[1;32mif\u001b[0m \u001b[0mmissing\u001b[0m\u001b[1;33m:\u001b[0m\u001b[1;33m\u001b[0m\u001b[1;33m\u001b[0m\u001b[0m\n\u001b[1;32m-> 5859\u001b[1;33m             \u001b[1;32mraise\u001b[0m \u001b[0mKeyError\u001b[0m\u001b[1;33m(\u001b[0m\u001b[1;34mf\"None of {missing} are in the columns\"\u001b[0m\u001b[1;33m)\u001b[0m\u001b[1;33m\u001b[0m\u001b[1;33m\u001b[0m\u001b[0m\n\u001b[0m\u001b[0;32m   5860\u001b[0m \u001b[1;33m\u001b[0m\u001b[0m\n\u001b[0;32m   5861\u001b[0m         \u001b[1;32mif\u001b[0m \u001b[0minplace\u001b[0m\u001b[1;33m:\u001b[0m\u001b[1;33m\u001b[0m\u001b[1;33m\u001b[0m\u001b[0m\n\u001b[0;32m   5862\u001b[0m             \u001b[0mframe\u001b[0m \u001b[1;33m=\u001b[0m \u001b[0mself\u001b[0m\u001b[1;33m\u001b[0m\u001b[1;33m\u001b[0m\u001b[0m\n",
      "\u001b[1;31mKeyError\u001b[0m: 'None of [range(0, 2000)] are in the columns'"
     ]
    }
   ],
   "source": [
    "def xingCloseRoute(name, point, offset, buffer, rail):\n",
    "    # Create a Point from the input coordinates\n",
    "    point = Point(point)\n",
    "\n",
    "\n",
    "    # Buffer the point and convert to a LineString\n",
    "    buffered_line = point.buffer(buffer).boundary\n",
    "\n",
    "    # Ensure both GeoSeries have the same index\n",
    "    buffered_line_gdf = gpd.GeoSeries([buffered_line], index=[0])\n",
    "    rail = rail.set_index(range(len(rail)))  # Reset the index to match the new GeoSeries\n",
    "\n",
    "    # Perform the intersection with the rail dataset\n",
    "    intersection = gpd.GeoSeries([buffered_line]).intersection(rail)\n",
    "\n",
    "    # Convert the resulting geometry to Points\n",
    "    intersection_points = intersection[intersection.type == 'Point']\n",
    "\n",
    "    # Get the coordinates\n",
    "    coords = np.array(list(intersection_points.apply(lambda geom: geom.coords[0])))\n",
    "\n",
    "    # Perform k-means clustering\n",
    "    centers, _ = kmeans(coords, 2)\n",
    "\n",
    "    # Calculate cluster statistics\n",
    "    xavg = np.mean(centers[:, 0])\n",
    "    yavg = np.mean(centers[:, 1])\n",
    "    xdiff = centers[0, 0] - centers[1, 0]\n",
    "    ydiff = centers[0, 1] - centers[1, 1]\n",
    "\n",
    "    # Calculate the angle\n",
    "    angle = np.arctan2(ydiff, xdiff) + np.pi / 2\n",
    "\n",
    "    # Calculate new coordinates\n",
    "    x1 = xavg + np.cos(angle) * offset\n",
    "    y1 = yavg + np.sin(angle) * offset\n",
    "    x2 = xavg - np.cos(angle) * offset\n",
    "    y2 = yavg - np.sin(angle) * offset\n",
    "\n",
    "    # Create a DataFrame with the results\n",
    "    df = gpd.GeoDataFrame({'point': ['side1', 'side2'],\n",
    "                           'xnew': [x1, x2],\n",
    "                           'ynew': [y1, y2]})\n",
    "    return df\n",
    "\n",
    "# Example usage\n",
    "name = \"your_route_name\"\n",
    "point = (-92.60064662057485, 47.45905019541532)\n",
    "offset = 100  # Your desired offset value\n",
    "buffer = 0.01  # Your desired buffer value\n",
    "rail = rail # Load your rail dataset\n",
    "\n",
    "result_df = xingCloseRoute(name, point, offset, buffer, rail)\n",
    "print(result_df)"
   ]
  },
  {
   "cell_type": "code",
   "execution_count": 61,
   "id": "7e02565a-ef4a-4b6c-94c6-437e684b62f9",
   "metadata": {
    "tags": []
   },
   "outputs": [
    {
     "ename": "NameError",
     "evalue": "name 'length' is not defined",
     "output_type": "error",
     "traceback": [
      "\u001b[1;31m---------------------------------------------------------------------------\u001b[0m",
      "\u001b[1;31mNameError\u001b[0m                                 Traceback (most recent call last)",
      "Cell \u001b[1;32mIn[61], line 1\u001b[0m\n\u001b[1;32m----> 1\u001b[0m length(rail)\n",
      "\u001b[1;31mNameError\u001b[0m: name 'length' is not defined"
     ]
    }
   ],
   "source": [
    "length(rail)"
   ]
  },
  {
   "cell_type": "code",
   "execution_count": null,
   "id": "041bd9bf-f0a0-4cd2-a693-55cac41a03dd",
   "metadata": {},
   "outputs": [],
   "source": [
    "# Function to create points on each side of the track and find route ---------------------------------------------------------\n",
    "\n",
    "xingCloseRoute <- function(name, point, offset, buffer, rail) { # name of route, point is location for start of route, offset from point, bufffer, rail the actual dataset\n",
    "  navPoints <- point %>% st_buffer(buffer) # creaste code from buffer along buffer distanace\n",
    "                     %>% st_cast(\"LINESTRING\") %>% st_intersection(rail) %>% st_cast(\"POINT\") %>%  # converts to linestring, "
   ]
  },
  {
   "cell_type": "code",
   "execution_count": 6,
   "id": "2ea3c3e0-34ac-40d5-bad8-f888030c7fee",
   "metadata": {},
   "outputs": [],
   "source": [
    "# Function to calculate navigation points\n",
    "def calculate_navigation_points(point, buffer, rail):\n",
    "    navPoints = point.buffer(buffer).intersection(rail).centroid\n",
    "    return pd.DataFrame({'x': navPoints.x, 'y': navPoints.y})"
   ]
  },
  {
   "cell_type": "code",
   "execution_count": 7,
   "id": "a2a58518-8e41-468d-9487-9a38c228573a",
   "metadata": {},
   "outputs": [],
   "source": [
    "# Function to perform K-means clustering\n",
    "def perform_kmeans_clustering(navPoints):\n",
    "    kmeans = KMeans(n_clusters=2, random_state=0).fit(navPoints)\n",
    "    centers = kmeans.cluster_centers_\n",
    "    return centers"
   ]
  },
  {
   "cell_type": "code",
   "execution_count": 8,
   "id": "97d339e0-5ffb-476f-97e8-4571f623fa54",
   "metadata": {},
   "outputs": [],
   "source": [
    "# Function to calculate angle and new coordinates\n",
    "def calculate_angle_and_coordinates(centers, offset):\n",
    "    xavg, yavg = centers[0]\n",
    "    xdiff, ydiff = centers[0] - centers[1]\n",
    "    angle = np.arctan(ydiff / xdiff) + np.pi / 2\n",
    "\n",
    "    x1 = xavg + np.cos(angle) * offset\n",
    "    y1 = yavg + np.sin(angle) * offset\n",
    "    x2 = xavg - np.cos(angle) * offset\n",
    "    y2 = yavg - np.sin(angle) * offset\n",
    "\n",
    "    return x1, y1, x2, y2"
   ]
  },
  {
   "cell_type": "code",
   "execution_count": 9,
   "id": "4b746425-e7ad-4add-b59e-3177a8ea7ab3",
   "metadata": {},
   "outputs": [],
   "source": [
    "# Function to create navigation points DataFrame\n",
    "def create_navpoints_dataframe(x1, y1, x2, y2):\n",
    "    navPoints = pd.DataFrame({\n",
    "        'point': [\"side1\", \"side2\"],\n",
    "        'xnew': [x1, x2],\n",
    "        'ynew': [y1, y2]\n",
    "    })\n",
    "    return navPoints"
   ]
  },
  {
   "cell_type": "code",
   "execution_count": 10,
   "id": "0592ebfd-381a-48c7-b620-56b969bf42bf",
   "metadata": {},
   "outputs": [],
   "source": [
    "# Function to create a \"barrier\"\n",
    "def create_barrier(point, buffer, rail):\n",
    "    barrier = point.buffer(buffer).intersection(rail).envelope.buffer(10)\n",
    "    return barrier"
   ]
  },
  {
   "cell_type": "code",
   "execution_count": 28,
   "id": "6f61abcf-50d3-4c9b-9e5e-f441656dca7d",
   "metadata": {
    "tags": []
   },
   "outputs": [
    {
     "ename": "TypeError",
     "evalue": "create_barrier() missing 2 required positional arguments: 'buffer' and 'rail'",
     "output_type": "error",
     "traceback": [
      "\u001b[1;31m---------------------------------------------------------------------------\u001b[0m",
      "\u001b[1;31mTypeError\u001b[0m                                 Traceback (most recent call last)",
      "Cell \u001b[1;32mIn[28], line 1\u001b[0m\n\u001b[1;32m----> 1\u001b[0m create_barrier(rail)\n",
      "\u001b[1;31mTypeError\u001b[0m: create_barrier() missing 2 required positional arguments: 'buffer' and 'rail'"
     ]
    }
   ],
   "source": [
    "create_barrier(point=point,)"
   ]
  },
  {
   "cell_type": "code",
   "execution_count": 11,
   "id": "092f934d-2e2f-4c5f-885b-19765b8fd161",
   "metadata": {},
   "outputs": [],
   "source": [
    "# Function to calculate routes\n",
    "def calculate_routes(navPoints, barrier):\n",
    "    routeTest1 = nearest_nodes(graph, navPoints[navPoints['point'] == \"side1\"]['xnew'].values[0], navPoints[navPoints['point'] == \"side1\"]['ynew'].values[0])\n",
    "    routeTest2 = nearest_nodes(graph, navPoints[navPoints['point'] == \"side2\"]['xnew'].values[0], navPoints[navPoints['point'] == \"side2\"]['ynew'].values[0])\n",
    "    return routeTest1, routeTest2"
   ]
  },
  {
   "cell_type": "code",
   "execution_count": 25,
   "id": "1ebdbaf6-4436-4609-b054-974d444a056b",
   "metadata": {
    "tags": []
   },
   "outputs": [],
   "source": [
    "# Function to create points on each side of the track and find route\n",
    "def xingCloseRoute(name, point, offset, buffer, rail):\n",
    "    navPoints = point.buffer(buffer).intersection(rail).centroid\n",
    "    navPoints = pd.DataFrame({'x': navPoints.x, 'y': navPoints.y})\n",
    "    \n",
    "    # K-means clustering\n",
    "    kmeans = KMeans(n_clusters=2, random_state=0).fit(navPoints)\n",
    "    centers = kmeans.cluster_centers_\n",
    "    \n",
    "    # Calculate angle and new coordinates\n",
    "    xavg, yavg = centers[0]\n",
    "    xdiff, ydiff = centers[0] - centers[1]\n",
    "    angle = np.arctan(ydiff / xdiff) + np.pi / 2\n",
    "\n",
    "    x1 = xavg + np.cos(angle) * offset\n",
    "    y1 = yavg + np.sin(angle) * offset\n",
    "    x2 = xavg - np.cos(angle) * offset\n",
    "    y2 = yavg - np.sin(angle) * offset\n",
    "\n",
    "    navPoints['point'] = [\"side1\", \"side2\"]\n",
    "    navPoints['xnew'] = [x1, x2]\n",
    "    navPoints['ynew'] = [y1, y2]\n",
    "\n",
    "    # Create a \"barrier\"\n",
    "    barrier = point.buffer(buffer).intersection(rail).envelope.buffer(10)\n",
    "\n",
    "    # Calculate routes\n",
    "    routeTest1 = ls.route(\n",
    "        origin=(navPoints[navPoints['point'] == \"side1\"]['xnew'].values[0], navPoints[navPoints['point'] == \"side1\"]['ynew'].values[0]),\n",
    "        destination=(navPoints[navPoints['point'] == \"side2\"]['xnew'].values[0], navPoints[navPoints['point'] == \"side2\"]['ynew'].values[0]),\n",
    "        mode='car',\n",
    "        avoid=[barrier]\n",
    "    )\n",
    "\n",
    "    routeTest2 = ls.route(\n",
    "        origin=(navPoints[navPoints['point'] == \"side2\"]['xnew'].values[0], navPoints[navPoints['point'] == \"side2\"]['ynew'].values[0]),\n",
    "        destination=(navPoints[navPoints['point'] == \"side1\"]['xnew'].values[0], navPoints[navPoints['point'] == \"side1\"]['ynew'].values[0]),\n",
    "        mode='car',\n",
    "        avoid=[barrier]\n",
    "    )\n",
    "\n",
    "    return routeTest1, routeTest2"
   ]
  },
  {
   "cell_type": "code",
   "execution_count": 26,
   "id": "73a175ca-d9b3-403f-beb8-92be91d277de",
   "metadata": {
    "tags": []
   },
   "outputs": [
    {
     "ename": "NameError",
     "evalue": "name 'graph' is not defined",
     "output_type": "error",
     "traceback": [
      "\u001b[1;31m---------------------------------------------------------------------------\u001b[0m",
      "\u001b[1;31mNameError\u001b[0m                                 Traceback (most recent call last)",
      "Cell \u001b[1;32mIn[26], line 2\u001b[0m\n\u001b[0;32m      1\u001b[0m \u001b[38;5;66;03m# Calculate the routes using xingCloseRoute function\u001b[39;00m\n\u001b[1;32m----> 2\u001b[0m test1, test2 \u001b[38;5;241m=\u001b[39m xingCloseRoute(\u001b[38;5;124m\"\u001b[39m\u001b[38;5;124mtest run\u001b[39m\u001b[38;5;124m\"\u001b[39m, \u001b[38;5;124m\"\u001b[39m\u001b[38;5;124m9\u001b[39m\u001b[38;5;124m\"\u001b[39m, offset\u001b[38;5;241m=\u001b[39m\u001b[38;5;241m200\u001b[39m, buffer\u001b[38;5;241m=\u001b[39m\u001b[38;5;241m15\u001b[39m, rail\u001b[38;5;241m=\u001b[39mgraph)\n",
      "\u001b[1;31mNameError\u001b[0m: name 'graph' is not defined"
     ]
    }
   ],
   "source": [
    "# Calculate the routes using xingCloseRoute function\n",
    "test1, test2 = xingCloseRoute(\"test run\", \"9\", offset=200, buffer=15, rail=graph)"
   ]
  },
  {
   "cell_type": "code",
   "execution_count": 23,
   "id": "f42d264d-75b5-42a3-af65-12334d802744",
   "metadata": {},
   "outputs": [
    {
     "ename": "NameError",
     "evalue": "name 'barrier' is not defined",
     "output_type": "error",
     "traceback": [
      "\u001b[1;31m---------------------------------------------------------------------------\u001b[0m",
      "\u001b[1;31mNameError\u001b[0m                                 Traceback (most recent call last)",
      "Cell \u001b[1;32mIn[23], line 10\u001b[0m\n\u001b[0;32m      5\u001b[0m p \u001b[38;5;241m=\u001b[39m gpd\u001b[38;5;241m.\u001b[39mGeoDataFrame({\u001b[38;5;124m'\u001b[39m\u001b[38;5;124mid\u001b[39m\u001b[38;5;124m'\u001b[39m: [\u001b[38;5;124m'\u001b[39m\u001b[38;5;124mbarrier\u001b[39m\u001b[38;5;124m'\u001b[39m], \u001b[38;5;124m'\u001b[39m\u001b[38;5;124mgeometry\u001b[39m\u001b[38;5;124m'\u001b[39m: [point]}, crs\u001b[38;5;241m=\u001b[39m\u001b[38;5;124m\"\u001b[39m\u001b[38;5;124mEPSG:4326\u001b[39m\u001b[38;5;124m\"\u001b[39m)\n\u001b[0;32m      9\u001b[0m \u001b[38;5;66;03m# Calculate the routes using xingCloseRoute function\u001b[39;00m\n\u001b[1;32m---> 10\u001b[0m test1, test2 \u001b[38;5;241m=\u001b[39m xingCloseRoute(\u001b[38;5;124m\"\u001b[39m\u001b[38;5;124mtest run\u001b[39m\u001b[38;5;124m\"\u001b[39m, barrier, offset\u001b[38;5;241m=\u001b[39m\u001b[38;5;241m200\u001b[39m, buffer\u001b[38;5;241m=\u001b[39m\u001b[38;5;241m15\u001b[39m, rail\u001b[38;5;241m=\u001b[39mgraph)\n\u001b[0;32m     12\u001b[0m \u001b[38;5;66;03m# Calculate the routes\u001b[39;00m\n\u001b[0;32m     13\u001b[0m routeTest1, routeTest2 \u001b[38;5;241m=\u001b[39m xingCloseRoute(\u001b[38;5;124m\"\u001b[39m\u001b[38;5;124mtest run\u001b[39m\u001b[38;5;124m\"\u001b[39m, p, \u001b[38;5;241m200\u001b[39m, \u001b[38;5;241m15\u001b[39m, rail)\n",
      "\u001b[1;31mNameError\u001b[0m: name 'barrier' is not defined"
     ]
    }
   ],
   "source": [
    "# Create a Point geometry\n",
    "point = Point(-92.60064662057485, 47.45905019541532)\n",
    "\n",
    "# Create a GeoDataFrame\n",
    "p = gpd.GeoDataFrame({'id': ['barrier'], 'geometry': [point]}, crs=\"EPSG:4326\")\n",
    "\n",
    "\n",
    "\n",
    "# Calculate the routes using xingCloseRoute function\n",
    "test1, test2 = xingCloseRoute(\"test run\", barrier, offset=200, buffer=15, rail=graph)\n",
    "\n",
    "# Calculate the routes\n",
    "routeTest1, routeTest2 = xingCloseRoute(\"test run\", p, 200, 15, rail)\n",
    "\n",
    "# Print the routes\n",
    "print(routeTest1)\n",
    "print(routeTest2)"
   ]
  },
  {
   "cell_type": "markdown",
   "id": "c6b6ba3a-f5e1-4da1-85de-371e0b71c914",
   "metadata": {},
   "source": [
    "#### Map--------------------"
   ]
  },
  {
   "cell_type": "code",
   "execution_count": null,
   "id": "a865c602-8723-4454-b4cf-9c34cb8dcb95",
   "metadata": {},
   "outputs": [],
   "source": [
    "# Plot the routes\n",
    "fig, ax = ox.plot_graph_routes(graph, [test1, test2], route_colors=['darkred', 'darkblue'],\n",
    "                               route_linewidth=5, node_size=0, orig_dest_size=50, save=False, close=False)\n",
    "\n",
    "# Define basemap options\n",
    "basemap = ox.basemap_to_gdf(zoom=11, bmap_type=['CartoDB.Positron', 'OpenStreetMap.Mapnik', 'Esri.WorldImagery'])\n",
    "\n",
    "# Plot the basemap\n",
    "basemap.plot(ax=ax, alpha=0.5)"
   ]
  },
  {
   "cell_type": "code",
   "execution_count": null,
   "id": "5ffae77b-700b-43b2-a003-20a89412799a",
   "metadata": {},
   "outputs": [],
   "source": [
    "# Create the time based isolines\n",
    "barrier_centroid = barrier['geometry'].centroid.iloc[0]\n",
    "isoTest = ox.isolines.route_isolines(barrier_centroid, network=graph, travel_speed=20,\n",
    "                                     travel_mode='car', intervals=[5, 10, 15, 20], output_type='geoDataFrame')\n",
    "\n",
    "# Calculate and add minutes column\n",
    "isoTest['minutes'] = (isoTest['geometry'].length / 1000) / 20 * 60\n",
    "\n",
    "# Validate isolines\n",
    "isoTest['is_valid'] = isoTest.is_valid\n",
    "\n",
    "# Plot isolines and points\n",
    "fig, ax = ox.plot_graph_routes(graph, isoTest, route_colors='inferno',\n",
    "                               route_linewidth=5, node_size=0, orig_dest_size=50, ax=ax)\n",
    "\n",
    "# Plot points\n",
    "points = barrier.to_crs('EPSG:4326')\n",
    "points.plot(ax=ax, marker='o', color='purple', markersize=50)\n",
    "\n",
    "plt.show()"
   ]
  }
 ],
 "metadata": {
  "kernelspec": {
   "display_name": "Python 3 (ipykernel)",
   "language": "python",
   "name": "python3"
  },
  "language_info": {
   "codemirror_mode": {
    "name": "ipython",
    "version": 3
   },
   "file_extension": ".py",
   "mimetype": "text/x-python",
   "name": "python",
   "nbconvert_exporter": "python",
   "pygments_lexer": "ipython3",
   "version": "3.11.5"
  }
 },
 "nbformat": 4,
 "nbformat_minor": 5
}
