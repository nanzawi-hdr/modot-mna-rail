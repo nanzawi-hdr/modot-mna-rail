{
 "cells": [
  {
   "cell_type": "markdown",
   "id": "bee9fba1-d306-415b-b8ed-74611c2a524e",
   "metadata": {},
   "source": [
    "### Import Libraries"
   ]
  },
  {
   "cell_type": "code",
   "execution_count": null,
   "id": "cba7f7f3-c43b-4f51-844f-c68bf280692d",
   "metadata": {
    "tags": []
   },
   "outputs": [],
   "source": [
    "import datetime\n",
    "import json\n",
    "import sys\n",
    "import time\n",
    "import geopandas\n",
    "from path import Path\n",
    "import os\n",
    "import pandas\n",
    "import pyxlsb\n",
    "from mpl_toolkits.basemap import Basemap\n",
    "import matplotlib.pyplot as plt"
   ]
  },
  {
   "cell_type": "code",
   "execution_count": null,
   "id": "8ea9b29d-a6a8-4bf2-8668-1b8195cae499",
   "metadata": {
    "tags": []
   },
   "outputs": [],
   "source": [
    "import io\n",
    "import fiona"
   ]
  },
  {
   "cell_type": "code",
   "execution_count": null,
   "id": "c7e0ebe3-7438-4bed-8f86-7f2fac62d15a",
   "metadata": {
    "tags": []
   },
   "outputs": [],
   "source": [
    "# import utils\n",
    "from utils import plot_map, plot_map_basic"
   ]
  },
  {
   "cell_type": "markdown",
   "id": "3c563006-ffa1-49ce-b3cc-fa7a97756eff",
   "metadata": {},
   "source": [
    "### Set up working environment"
   ]
  },
  {
   "cell_type": "code",
   "execution_count": null,
   "id": "be754f05-4577-4225-a362-22579d57db84",
   "metadata": {
    "tags": []
   },
   "outputs": [],
   "source": [
    "## path configuration\n",
    "working_directory = Path.getcwd()\n",
    "\n",
    "inputs_path = working_directory/ 'inputs'\n",
    "outputs_path = working_directory/ 'outputs'"
   ]
  },
  {
   "cell_type": "markdown",
   "id": "4749833e-03b8-45a4-b743-8161aa841b7f",
   "metadata": {},
   "source": [
    "### Set paths to BaseData and Directories"
   ]
  },
  {
   "cell_type": "code",
   "execution_count": null,
   "id": "22626a70-4715-4016-ae51-e5889e681e5e",
   "metadata": {
    "tags": []
   },
   "outputs": [],
   "source": [
    "# baseData Teams spreadsheet\n",
    "xlsx_path = 'General - DL10384336_MoDOT_MNA Freight Crossings/analysis/MoDOT MNA xing analysis 2023_10_09.xlsb'"
   ]
  },
  {
   "cell_type": "code",
   "execution_count": null,
   "id": "99ee2e98-99b0-4c63-a842-1f520dcc777a",
   "metadata": {},
   "outputs": [],
   "source": [
    "# points path \n",
    "xx_points = 'C:\\Users\\nanzawi\\OneDrive - HDR, Inc\\Data_Science\\MODOT_RR\\Replica_APIs\\gis\\CrossingPoints\\Use_Buffer_ExportFeatures.shp'"
   ]
  },
  {
   "cell_type": "code",
   "execution_count": null,
   "id": "49d8d184-1e86-4af6-942f-d5087967e94c",
   "metadata": {},
   "outputs": [],
   "source": [
    "# rail path\n",
    "xx_rail = 'C:\\Users\\nanzawi\\OneDrive - HDR, Inc/Data_Science/MODOT_RR/inputs/MNA_Rail/MNA_Rail_Line.shp'"
   ]
  },
  {
   "cell_type": "markdown",
   "id": "c12d2587-1209-4533-8af3-de3ba7636a0f",
   "metadata": {},
   "source": [
    "#### Define Data Source locations"
   ]
  },
  {
   "cell_type": "code",
   "execution_count": null,
   "id": "f0a1f663-c2ed-45a1-bb2e-e14d62071881",
   "metadata": {},
   "outputs": [],
   "source": [
    "# define input and output data used for the following data sources:"
   ]
  },
  {
   "cell_type": "code",
   "execution_count": null,
   "id": "62f1db24-3763-4a2d-8d0c-9136b9db02a0",
   "metadata": {},
   "outputs": [],
   "source": [
    "# Replica\n",
    "replica_inputs_path = \n",
    "replica_outputs_path = "
   ]
  },
  {
   "cell_type": "code",
   "execution_count": null,
   "id": "0fc35cd2-011b-4937-a58a-beca9b1fee52",
   "metadata": {},
   "outputs": [],
   "source": [
    "# HERE\n",
    "here_inputs_path = 'OneDrive - HDR, Inc/Data_Science/MODOT_RR/HERE_APIs/R_Scripts/data/crossings_analysis/data'\n",
    "here_outputs_path = "
   ]
  },
  {
   "cell_type": "code",
   "execution_count": null,
   "id": "f74240b6-38f9-4494-b75c-a2fa1e7fca9a",
   "metadata": {},
   "outputs": [],
   "source": [
    "# ACS Data\n",
    "acs_inputs_geo_path = geopandas.read_file(\"https://www2.census.gov/geo/tiger/TIGER2022/BG/tl_2022_29_bg.zip\"\n",
    "acs_outputs_path = 'OneDrive - HDR, Inc/Data_Science/MODOT_RR/outputs/ZoneCrossingsPopulationStats.csv'"
   ]
  },
  {
   "cell_type": "code",
   "execution_count": null,
   "id": "76773628-8a98-47b7-aeea-28579f5bc87f",
   "metadata": {},
   "outputs": [],
   "source": [
    "# StreetLight Data\n",
    "Stl_inputs_path = '\"C:\\Users\\nanzawi\\OneDrive - HDR, Inc\\Data_Science\\MODOT_RR\\StreetlightAPIs\\Data\\ZoneSetUpdated\"'\n",
    "Stl_outputs_path = 'OneDrive - HDR, Inc/Data_Science/MODOT_RR/StreetlightAPIs/Data/outputs'"
   ]
  },
  {
   "cell_type": "markdown",
   "id": "2f3d163d-f14d-4dbc-af84-cfc7ff0576c2",
   "metadata": {},
   "source": [
    "### Define Export files for different outputs"
   ]
  },
  {
   "cell_type": "code",
   "execution_count": null,
   "id": "e19e3188-045b-450e-bbd5-9ed98897ea94",
   "metadata": {
    "tags": []
   },
   "outputs": [],
   "source": [
    "# excel spreadsheet"
   ]
  },
  {
   "cell_type": "code",
   "execution_count": null,
   "id": "8b0992a0-c7cd-493f-9b57-a98c6e80c12a",
   "metadata": {
    "tags": []
   },
   "outputs": [],
   "source": [
    "# gis"
   ]
  },
  {
   "cell_type": "code",
   "execution_count": null,
   "id": "d1cfec82-43ea-41f6-9b56-8ae7cbe02880",
   "metadata": {
    "tags": []
   },
   "outputs": [],
   "source": [
    "# images"
   ]
  },
  {
   "cell_type": "code",
   "execution_count": null,
   "id": "3677534d-42f6-4c48-99bd-1261bbf0381c",
   "metadata": {},
   "outputs": [],
   "source": []
  }
 ],
 "metadata": {
  "kernelspec": {
   "display_name": "Python 3 (ipykernel)",
   "language": "python",
   "name": "python3"
  },
  "language_info": {
   "codemirror_mode": {
    "name": "ipython",
    "version": 3
   },
   "file_extension": ".py",
   "mimetype": "text/x-python",
   "name": "python",
   "nbconvert_exporter": "python",
   "pygments_lexer": "ipython3",
   "version": "3.11.5"
  }
 },
 "nbformat": 4,
 "nbformat_minor": 5
}
